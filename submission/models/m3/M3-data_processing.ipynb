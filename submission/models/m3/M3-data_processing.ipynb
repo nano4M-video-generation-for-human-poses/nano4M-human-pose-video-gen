{
 "cells": [
  {
   "cell_type": "code",
   "execution_count": 2,
   "id": "569fa090-5635-4818-b41c-7f35d1b740a4",
   "metadata": {},
   "outputs": [],
   "source": [
    "# ---------- pair writer -------------------------------------------------------\n",
    "def write_pair(pair_id: int,\n",
    "               out_root: Path,\n",
    "               *,\n",
    "               ref_rgb_tok: np.ndarray,\n",
    "               ref_coords_tok: np.ndarray,\n",
    "               ref_caption: str,\n",
    "               next_rgb_tok: np.ndarray,\n",
    "               next_coords_tok: np.ndarray):\n",
    "    pid = f\"{pair_id:06d}\"\n",
    "\n",
    "    # check if this pair was already written\n",
    "    marker = out_root/\"tok_rgb\"/pid/\"tok_rgb.npy\"\n",
    "    if marker.exists():\n",
    "        print(f\"⏭  Skipping {pid} (already exists)\")\n",
    "        return False\n",
    "\n",
    "    for modal in (\"tok_rgb\", \"coords\", \"captions\",\n",
    "                  \"tok_rgb_next\", \"coords_next\"):\n",
    "        (out_root / modal / pid).mkdir(parents=True, exist_ok=True)\n",
    "\n",
    "    np.save(out_root/\"tok_rgb\"     /pid/\"tok_rgb.npy\",      ref_rgb_tok)\n",
    "    np.save(out_root/\"coords\"      /pid/\"coords.npy\",       ref_coords_tok)\n",
    "    with open(out_root/\"captions\"  /pid/\"captions.json\", \"w\") as fp:\n",
    "        json.dump({\"caption\": ref_caption}, fp)\n",
    "\n",
    "    np.save(out_root/\"tok_rgb_next\"/pid/\"tok_rgb_next.npy\", next_rgb_tok)\n",
    "    np.save(out_root/\"coords_next\" /pid/\"coords_next.npy\",  next_coords_tok)\n",
    "    return True\n"
   ]
  },
  {
   "cell_type": "code",
   "execution_count": null,
   "id": "b44e5e0f-27ed-454e-a94c-609535a89f43",
   "metadata": {},
   "outputs": [],
   "source": [
    "# %% ------------------------------ Cell 1: library ------------------------------\n",
    "\"\"\"\n",
    "Penn-Action → fourM preprocessing helpers\n",
    "========================================\n",
    "Execute this cell once.  It defines functions but does **no I/O** until you call\n",
    "`run(...)` from Cell 2.\n",
    "\n",
    "**Output schema (per video)**\n",
    "```\n",
    "<OUTPUT_ROOT>/\n",
    "  tok_rgb/        <video>/<ref>.npy          – Cosmos tokens of reference frame\n",
    "  coords/         <video>/<ref>.npy          – 3×13 (x_tok, y_tok, vis)\n",
    "  captions/       <video>/<ref>.json         – BLIP caption\n",
    "\n",
    "  tok_rgb_next/   <video>/<ref>_n1.npy       – Cosmos tokens of next‑frame #1 …\n",
    "  coords_next/    <video>/<ref>_n1.npy       – joint tokens of next‑frame #1 …\n",
    "```\n",
    "Every RGB token file has a **matching coords file**.\n",
    "\"\"\"\n",
    "\n",
    "from pathlib import Path\n",
    "import json\n",
    "from typing import List, Optional\n",
    "\n",
    "import numpy as np\n",
    "import scipy.io\n",
    "import torch\n",
    "import torchvision.transforms.functional as TF\n",
    "from huggingface_hub import snapshot_download\n",
    "from PIL import Image\n",
    "from skimage.metrics import structural_similarity as ssim\n",
    "from tqdm import tqdm\n",
    "from transformers import BlipForConditionalGeneration, BlipProcessor\n",
    "\n",
    "# ------------------------ constants ------------------------\n",
    "TARGET_RES       = 256     # shorter side after resize for Cosmos encoder\n",
    "SSIM_THRESHOLD   = 0.89   # duplicate‑frame threshold (SSIM > thr ⇒ skip)\n",
    "REF_PLUS_NEXT    = 7     # 1 reference + 6 distinct successor frames\n",
    "COORD_QLEVELS    = 8192    # discrete bins for x & y\n",
    "\n",
    "# ------------------------ similarity ------------------------\n",
    "\n",
    "def is_similar(img1: Image.Image, img2: Image.Image, thr: float = SSIM_THRESHOLD) -> bool:\n",
    "    a = np.asarray(img1.convert(\"L\"), dtype=np.float32)\n",
    "    b = np.asarray(img2.convert(\"L\"), dtype=np.float32)\n",
    "    return ssim(a, b, data_range=255.0) > thr\n",
    "\n",
    "# ------------------------ helpers ------------------------\n",
    "\n",
    "def quantise_coords(x_px: np.ndarray,\n",
    "                    y_px: np.ndarray,\n",
    "                    vis:    np.ndarray,\n",
    "                    img_size: int = TARGET_RES) -> np.ndarray:\n",
    "    \"\"\"\n",
    "    x_px, y_px: pixel coords in [0, img_size]\n",
    "    vis:        boolean visibility flags\n",
    "    \"\"\"\n",
    "    q = COORD_QLEVELS - 1            # = 8191\n",
    "\n",
    "    # ---- normalise into [0,1] ----\n",
    "    x_norm = x_px / img_size\n",
    "    y_norm = y_px / img_size\n",
    "\n",
    "    # ---- scale & round into [0…q] ----\n",
    "    x_tok = np.clip(np.rint(x_norm * q), 0, q).astype(np.uint16)\n",
    "    y_tok = np.clip(np.rint(y_norm * q), 0, q).astype(np.uint16)\n",
    "\n",
    "    # visibility stays 0 or 1\n",
    "    vis_tok = vis.astype(np.uint16)\n",
    "\n",
    "    return np.stack([x_tok, y_tok, vis_tok])\n",
    "\n",
    "def write_pair(pair_id: int,\n",
    "               out_root: Path,\n",
    "               *,\n",
    "               ref_coords_tok: np.ndarray,\n",
    "               next_coords_tok: np.ndarray):\n",
    "    pid = f\"{pair_id:06d}\"\n",
    "\n",
    "    # skip if already exists\n",
    "    marker = out_root/\"coords\"/pid/\"coords.npy\"\n",
    "    if marker.exists():\n",
    "        print(f\"⏭  Skipping {pid} (already exists)\")\n",
    "        return False\n",
    "\n",
    "    # make dirs\n",
    "    for modal in (\"coords\", \"coords_next\"):\n",
    "        (out_root / modal / pid).mkdir(parents=True, exist_ok=True)\n",
    "\n",
    "    # save\n",
    "    np.save(out_root/\"coords\"      /pid/\"coords.npy\",       ref_coords_tok)\n",
    "    np.save(out_root/\"coords_next\" /pid/\"coords_next.npy\",  next_coords_tok)\n",
    "    return True\n",
    "\n",
    "def get_next_available_pair_id(output_root: Path) -> int:\n",
    "    root = output_root / \"coords\"\n",
    "    if not root.exists():\n",
    "        return 1\n",
    "    ids = [int(p.name) for p in root.iterdir() if p.is_dir() and p.name.isdigit()]\n",
    "    return max(ids, default=0) + 1\n",
    "\n",
    "# ------------------------ core routine ------------------------\n",
    "\n",
    "def process_video(vid: str,\n",
    "                  frames_root: Path,\n",
    "                  labels_root: Path,\n",
    "                  *,\n",
    "                  out_root: Path,\n",
    "                  counter: List[int]):\n",
    "    frame_dir  = frames_root / vid\n",
    "    label_path = labels_root / f\"{vid}.mat\"\n",
    "    if not frame_dir.exists() or not label_path.exists():\n",
    "        print(f\"⚠️  Skip {vid}: missing data\")\n",
    "        return\n",
    "\n",
    "    mat          = scipy.io.loadmat(label_path, squeeze_me=True, struct_as_record=False)\n",
    "    x_all, y_all = mat[\"x\"], mat[\"y\"]\n",
    "    vis_all      = mat[\"visibility\"].astype(bool)\n",
    "    T            = int(mat[\"nframes\"])\n",
    "    H0, W0, _    = mat[\"dimensions\"]\n",
    "    sx, sy       = TARGET_RES / W0, TARGET_RES / H0\n",
    "\n",
    "    # load first frame as reference\n",
    "    frame_files    = sorted(frame_dir.glob(\"*.jpg\"))\n",
    "    ref_img_full   = Image.open(frame_files[0]).convert(\"RGB\")\n",
    "    ref_coords_tok = quantise_coords(x_all[0]*sx, y_all[0]*sy, vis_all[0])\n",
    "\n",
    "    pairs = 0\n",
    "    for nxt_idx in range(1, T):\n",
    "        nxt_full = Image.open(frame_files[nxt_idx]).convert(\"RGB\")\n",
    "        if is_similar(ref_img_full, nxt_full):\n",
    "            continue\n",
    "\n",
    "        nxt_coords_tok = quantise_coords(x_all[nxt_idx]*sx,\n",
    "                                         y_all[nxt_idx]*sy,\n",
    "                                         vis_all[nxt_idx])\n",
    "\n",
    "        pid = counter[0]\n",
    "        write_pair(pid, out_root,\n",
    "                   ref_coords_tok=ref_coords_tok,\n",
    "                   next_coords_tok=nxt_coords_tok)\n",
    "        counter[0] += 1\n",
    "        pairs += 1\n",
    "\n",
    "        # shift reference\n",
    "        ref_img_full   = nxt_full\n",
    "        ref_coords_tok = nxt_coords_tok\n",
    "\n",
    "    print(f\"✅ {vid}: {pairs} pairs stored\")\n",
    "\n",
    "# ------------------------ wrapper ------------------------\n",
    "\n",
    "def run(frames_root: Path,\n",
    "        labels_root: Path,\n",
    "        output_root: Path,\n",
    "        *,\n",
    "        video_start_id: int = 0,\n",
    "        video_id: Optional[str] = None):\n",
    "    \"\"\"\n",
    "    If `video_id` is given, only that video will be processed.\n",
    "    Otherwise, all videos from index `video_start_id` onward are processed.\n",
    "    \"\"\"\n",
    "    all_vids = sorted(d.name for d in frames_root.iterdir() if d.is_dir())\n",
    "    if video_id:\n",
    "        vids = [video_id] if video_id in all_vids else []\n",
    "    else:\n",
    "        vids = all_vids[video_start_id:]\n",
    "\n",
    "    start_id    = get_next_available_pair_id(output_root)\n",
    "    pair_counter = [start_id]\n",
    "\n",
    "    for vid in tqdm(vids, desc=\"videos\"):\n",
    "        process_video(vid, frames_root, labels_root,\n",
    "                      out_root=output_root,\n",
    "                      counter=pair_counter)\n",
    "\n",
    "    total = pair_counter[0] - start_id\n",
    "    print(f\"🏁 finished: {total} total pairs\")\n"
   ]
  },
  {
   "cell_type": "code",
   "execution_count": null,
   "id": "7c25d94f-2a4d-4426-87f4-99f42ea112fe",
   "metadata": {},
   "outputs": [
    {
     "name": "stderr",
     "output_type": "stream",
     "text": [
      "videos:   0%|                                                                                                               | 1/940 [00:00<14:37,  1.07it/s]"
     ]
    },
    {
     "name": "stdout",
     "output_type": "stream",
     "text": [
      "✅ 1387: 0 pairs stored\n"
     ]
    },
    {
     "name": "stderr",
     "output_type": "stream",
     "text": [
      "videos:   0%|▏                                                                                                              | 2/940 [00:01<11:44,  1.33it/s]"
     ]
    },
    {
     "name": "stdout",
     "output_type": "stream",
     "text": [
      "✅ 1388: 0 pairs stored\n"
     ]
    },
    {
     "name": "stderr",
     "output_type": "stream",
     "text": [
      "videos:   0%|▎                                                                                                              | 3/940 [00:02<09:38,  1.62it/s]"
     ]
    },
    {
     "name": "stdout",
     "output_type": "stream",
     "text": [
      "✅ 1389: 2 pairs stored\n"
     ]
    },
    {
     "name": "stderr",
     "output_type": "stream",
     "text": [
      "videos:   0%|▍                                                                                                              | 4/940 [00:02<10:26,  1.49it/s]"
     ]
    },
    {
     "name": "stdout",
     "output_type": "stream",
     "text": [
      "✅ 1390: 3 pairs stored\n"
     ]
    },
    {
     "name": "stderr",
     "output_type": "stream",
     "text": [
      "videos:   1%|▌                                                                                                              | 5/940 [00:03<12:09,  1.28it/s]"
     ]
    },
    {
     "name": "stdout",
     "output_type": "stream",
     "text": [
      "✅ 1391: 6 pairs stored\n"
     ]
    },
    {
     "name": "stderr",
     "output_type": "stream",
     "text": [
      "videos:   1%|▋                                                                                                              | 6/940 [00:04<10:55,  1.42it/s]"
     ]
    },
    {
     "name": "stdout",
     "output_type": "stream",
     "text": [
      "✅ 1392: 0 pairs stored\n"
     ]
    },
    {
     "name": "stderr",
     "output_type": "stream",
     "text": [
      "videos:   1%|▊                                                                                                              | 7/940 [00:05<11:47,  1.32it/s]"
     ]
    },
    {
     "name": "stdout",
     "output_type": "stream",
     "text": [
      "✅ 1393: 0 pairs stored\n"
     ]
    },
    {
     "name": "stderr",
     "output_type": "stream",
     "text": [
      "videos:   1%|▉                                                                                                              | 8/940 [00:05<11:01,  1.41it/s]"
     ]
    },
    {
     "name": "stdout",
     "output_type": "stream",
     "text": [
      "✅ 1394: 0 pairs stored\n"
     ]
    },
    {
     "name": "stderr",
     "output_type": "stream",
     "text": [
      "videos:   1%|█                                                                                                              | 9/940 [00:06<09:39,  1.61it/s]"
     ]
    },
    {
     "name": "stdout",
     "output_type": "stream",
     "text": [
      "✅ 1395: 0 pairs stored\n"
     ]
    },
    {
     "name": "stderr",
     "output_type": "stream",
     "text": [
      "videos:   1%|█▏                                                                                                            | 10/940 [00:07<11:52,  1.31it/s]"
     ]
    },
    {
     "name": "stdout",
     "output_type": "stream",
     "text": [
      "✅ 1396: 11 pairs stored\n"
     ]
    },
    {
     "name": "stderr",
     "output_type": "stream",
     "text": [
      "videos:   1%|█▎                                                                                                            | 11/940 [00:08<11:46,  1.32it/s]"
     ]
    },
    {
     "name": "stdout",
     "output_type": "stream",
     "text": [
      "✅ 1397: 2 pairs stored\n"
     ]
    },
    {
     "name": "stderr",
     "output_type": "stream",
     "text": [
      "videos:   1%|█▍                                                                                                            | 12/940 [00:09<12:47,  1.21it/s]"
     ]
    },
    {
     "name": "stdout",
     "output_type": "stream",
     "text": [
      "✅ 1398: 7 pairs stored\n"
     ]
    },
    {
     "name": "stderr",
     "output_type": "stream",
     "text": [
      "videos:   1%|█▌                                                                                                            | 13/940 [00:09<12:04,  1.28it/s]"
     ]
    },
    {
     "name": "stdout",
     "output_type": "stream",
     "text": [
      "✅ 1399: 4 pairs stored\n"
     ]
    },
    {
     "name": "stderr",
     "output_type": "stream",
     "text": [
      "videos:   1%|█▋                                                                                                            | 14/940 [00:10<12:02,  1.28it/s]"
     ]
    },
    {
     "name": "stdout",
     "output_type": "stream",
     "text": [
      "✅ 1400: 3 pairs stored\n"
     ]
    },
    {
     "name": "stderr",
     "output_type": "stream",
     "text": [
      "videos:   2%|█▊                                                                                                            | 15/940 [00:11<12:46,  1.21it/s]"
     ]
    },
    {
     "name": "stdout",
     "output_type": "stream",
     "text": [
      "✅ 1401: 2 pairs stored\n"
     ]
    },
    {
     "name": "stderr",
     "output_type": "stream",
     "text": [
      "videos:   2%|█▊                                                                                                            | 16/940 [00:12<12:20,  1.25it/s]"
     ]
    },
    {
     "name": "stdout",
     "output_type": "stream",
     "text": [
      "✅ 1402: 2 pairs stored\n"
     ]
    },
    {
     "name": "stderr",
     "output_type": "stream",
     "text": [
      "videos:   2%|█▉                                                                                                            | 17/940 [00:13<12:37,  1.22it/s]"
     ]
    },
    {
     "name": "stdout",
     "output_type": "stream",
     "text": [
      "✅ 1403: 0 pairs stored\n"
     ]
    },
    {
     "name": "stderr",
     "output_type": "stream",
     "text": [
      "videos:   2%|██                                                                                                            | 18/940 [00:13<12:35,  1.22it/s]"
     ]
    },
    {
     "name": "stdout",
     "output_type": "stream",
     "text": [
      "✅ 1404: 0 pairs stored\n"
     ]
    },
    {
     "name": "stderr",
     "output_type": "stream",
     "text": [
      "videos:   2%|██▏                                                                                                           | 19/940 [00:15<14:24,  1.07it/s]"
     ]
    },
    {
     "name": "stdout",
     "output_type": "stream",
     "text": [
      "✅ 1405: 2 pairs stored\n"
     ]
    },
    {
     "name": "stderr",
     "output_type": "stream",
     "text": [
      "videos:   2%|██▎                                                                                                           | 20/940 [00:15<13:38,  1.12it/s]"
     ]
    },
    {
     "name": "stdout",
     "output_type": "stream",
     "text": [
      "✅ 1406: 0 pairs stored\n"
     ]
    },
    {
     "name": "stderr",
     "output_type": "stream",
     "text": [
      "videos:   2%|██▍                                                                                                           | 21/940 [00:16<13:19,  1.15it/s]"
     ]
    },
    {
     "name": "stdout",
     "output_type": "stream",
     "text": [
      "✅ 1407: 0 pairs stored\n"
     ]
    },
    {
     "name": "stderr",
     "output_type": "stream",
     "text": [
      "videos:   2%|██▌                                                                                                           | 22/940 [00:17<12:09,  1.26it/s]"
     ]
    },
    {
     "name": "stdout",
     "output_type": "stream",
     "text": [
      "✅ 1408: 4 pairs stored\n"
     ]
    },
    {
     "name": "stderr",
     "output_type": "stream",
     "text": [
      "videos:   2%|██▋                                                                                                           | 23/940 [00:17<11:33,  1.32it/s]"
     ]
    },
    {
     "name": "stdout",
     "output_type": "stream",
     "text": [
      "✅ 1409: 14 pairs stored\n"
     ]
    },
    {
     "name": "stderr",
     "output_type": "stream",
     "text": [
      "videos:   3%|██▊                                                                                                           | 24/940 [00:19<13:37,  1.12it/s]"
     ]
    },
    {
     "name": "stdout",
     "output_type": "stream",
     "text": [
      "✅ 1410: 0 pairs stored\n"
     ]
    },
    {
     "name": "stderr",
     "output_type": "stream",
     "text": [
      "videos:   3%|██▉                                                                                                           | 25/940 [00:19<13:14,  1.15it/s]"
     ]
    },
    {
     "name": "stdout",
     "output_type": "stream",
     "text": [
      "✅ 1411: 2 pairs stored\n"
     ]
    },
    {
     "name": "stderr",
     "output_type": "stream",
     "text": [
      "videos:   3%|███                                                                                                           | 26/940 [00:20<12:14,  1.24it/s]"
     ]
    },
    {
     "name": "stdout",
     "output_type": "stream",
     "text": [
      "✅ 1412: 0 pairs stored\n"
     ]
    },
    {
     "name": "stderr",
     "output_type": "stream",
     "text": [
      "videos:   3%|███▏                                                                                                          | 27/940 [00:21<12:02,  1.26it/s]"
     ]
    },
    {
     "name": "stdout",
     "output_type": "stream",
     "text": [
      "✅ 1413: 1 pairs stored\n"
     ]
    },
    {
     "name": "stderr",
     "output_type": "stream",
     "text": [
      "videos:   3%|███▎                                                                                                          | 28/940 [00:21<11:17,  1.35it/s]"
     ]
    },
    {
     "name": "stdout",
     "output_type": "stream",
     "text": [
      "✅ 1414: 2 pairs stored\n"
     ]
    },
    {
     "name": "stderr",
     "output_type": "stream",
     "text": [
      "videos:   3%|███▍                                                                                                          | 29/940 [00:22<11:22,  1.33it/s]"
     ]
    },
    {
     "name": "stdout",
     "output_type": "stream",
     "text": [
      "✅ 1415: 0 pairs stored\n"
     ]
    },
    {
     "name": "stderr",
     "output_type": "stream",
     "text": [
      "videos:   3%|███▌                                                                                                          | 30/940 [00:23<12:00,  1.26it/s]"
     ]
    },
    {
     "name": "stdout",
     "output_type": "stream",
     "text": [
      "✅ 1416: 0 pairs stored\n"
     ]
    },
    {
     "name": "stderr",
     "output_type": "stream",
     "text": [
      "videos:   3%|███▋                                                                                                          | 31/940 [00:24<12:00,  1.26it/s]"
     ]
    },
    {
     "name": "stdout",
     "output_type": "stream",
     "text": [
      "✅ 1417: 4 pairs stored\n"
     ]
    },
    {
     "name": "stderr",
     "output_type": "stream",
     "text": [
      "videos:   3%|███▋                                                                                                          | 32/940 [00:24<10:51,  1.39it/s]"
     ]
    },
    {
     "name": "stdout",
     "output_type": "stream",
     "text": [
      "✅ 1418: 0 pairs stored\n"
     ]
    },
    {
     "name": "stderr",
     "output_type": "stream",
     "text": [
      "videos:   4%|███▊                                                                                                          | 33/940 [00:25<11:28,  1.32it/s]"
     ]
    },
    {
     "name": "stdout",
     "output_type": "stream",
     "text": [
      "✅ 1419: 0 pairs stored\n"
     ]
    },
    {
     "name": "stderr",
     "output_type": "stream",
     "text": [
      "videos:   4%|███▉                                                                                                          | 34/940 [00:26<12:27,  1.21it/s]"
     ]
    },
    {
     "name": "stdout",
     "output_type": "stream",
     "text": [
      "✅ 1420: 0 pairs stored\n"
     ]
    },
    {
     "name": "stderr",
     "output_type": "stream",
     "text": [
      "videos:   4%|████                                                                                                          | 35/940 [00:27<10:58,  1.37it/s]"
     ]
    },
    {
     "name": "stdout",
     "output_type": "stream",
     "text": [
      "✅ 1421: 0 pairs stored\n"
     ]
    },
    {
     "name": "stderr",
     "output_type": "stream",
     "text": [
      "videos:   4%|████▏                                                                                                         | 36/940 [00:27<10:25,  1.45it/s]"
     ]
    },
    {
     "name": "stdout",
     "output_type": "stream",
     "text": [
      "✅ 1422: 3 pairs stored\n"
     ]
    },
    {
     "name": "stderr",
     "output_type": "stream",
     "text": [
      "videos:   4%|████▎                                                                                                         | 37/940 [00:28<11:22,  1.32it/s]"
     ]
    },
    {
     "name": "stdout",
     "output_type": "stream",
     "text": [
      "✅ 1423: 0 pairs stored\n"
     ]
    },
    {
     "name": "stderr",
     "output_type": "stream",
     "text": [
      "videos:   4%|████▍                                                                                                         | 38/940 [00:29<11:23,  1.32it/s]"
     ]
    },
    {
     "name": "stdout",
     "output_type": "stream",
     "text": [
      "✅ 1424: 2 pairs stored\n"
     ]
    },
    {
     "name": "stderr",
     "output_type": "stream",
     "text": [
      "videos:   4%|████▌                                                                                                         | 39/940 [00:30<11:01,  1.36it/s]"
     ]
    },
    {
     "name": "stdout",
     "output_type": "stream",
     "text": [
      "✅ 1425: 2 pairs stored\n"
     ]
    },
    {
     "name": "stderr",
     "output_type": "stream",
     "text": [
      "videos:   4%|████▋                                                                                                         | 40/940 [00:31<10:58,  1.37it/s]"
     ]
    },
    {
     "name": "stdout",
     "output_type": "stream",
     "text": [
      "✅ 1426: 7 pairs stored\n"
     ]
    },
    {
     "name": "stderr",
     "output_type": "stream",
     "text": [
      "videos:   4%|████▊                                                                                                         | 41/940 [00:31<09:59,  1.50it/s]"
     ]
    },
    {
     "name": "stdout",
     "output_type": "stream",
     "text": [
      "✅ 1427: 0 pairs stored\n"
     ]
    },
    {
     "name": "stderr",
     "output_type": "stream",
     "text": [
      "videos:   4%|████▉                                                                                                         | 42/940 [00:32<10:57,  1.37it/s]"
     ]
    },
    {
     "name": "stdout",
     "output_type": "stream",
     "text": [
      "✅ 1428: 8 pairs stored\n"
     ]
    },
    {
     "name": "stderr",
     "output_type": "stream",
     "text": [
      "videos:   5%|█████                                                                                                         | 43/940 [00:32<10:02,  1.49it/s]"
     ]
    },
    {
     "name": "stdout",
     "output_type": "stream",
     "text": [
      "✅ 1429: 4 pairs stored\n"
     ]
    },
    {
     "name": "stderr",
     "output_type": "stream",
     "text": [
      "videos:   5%|█████▏                                                                                                        | 44/940 [00:34<13:11,  1.13it/s]"
     ]
    },
    {
     "name": "stdout",
     "output_type": "stream",
     "text": [
      "✅ 1430: 0 pairs stored\n"
     ]
    },
    {
     "name": "stderr",
     "output_type": "stream",
     "text": [
      "videos:   5%|█████▎                                                                                                        | 45/940 [00:34<11:43,  1.27it/s]"
     ]
    },
    {
     "name": "stdout",
     "output_type": "stream",
     "text": [
      "✅ 1431: 9 pairs stored\n"
     ]
    },
    {
     "name": "stderr",
     "output_type": "stream",
     "text": [
      "videos:   5%|█████▍                                                                                                        | 46/940 [00:36<15:20,  1.03s/it]"
     ]
    },
    {
     "name": "stdout",
     "output_type": "stream",
     "text": [
      "✅ 1432: 7 pairs stored\n"
     ]
    },
    {
     "name": "stderr",
     "output_type": "stream",
     "text": [
      "videos:   5%|█████▌                                                                                                        | 47/940 [00:38<19:57,  1.34s/it]"
     ]
    },
    {
     "name": "stdout",
     "output_type": "stream",
     "text": [
      "✅ 1433: 4 pairs stored\n"
     ]
    },
    {
     "name": "stderr",
     "output_type": "stream",
     "text": [
      "videos:   5%|█████▌                                                                                                        | 48/940 [00:39<16:55,  1.14s/it]"
     ]
    },
    {
     "name": "stdout",
     "output_type": "stream",
     "text": [
      "✅ 1434: 0 pairs stored\n"
     ]
    },
    {
     "name": "stderr",
     "output_type": "stream",
     "text": [
      "videos:   5%|█████▋                                                                                                        | 49/940 [00:39<15:01,  1.01s/it]"
     ]
    },
    {
     "name": "stdout",
     "output_type": "stream",
     "text": [
      "✅ 1435: 0 pairs stored\n"
     ]
    },
    {
     "name": "stderr",
     "output_type": "stream",
     "text": [
      "videos:   5%|█████▊                                                                                                        | 50/940 [00:40<13:38,  1.09it/s]"
     ]
    },
    {
     "name": "stdout",
     "output_type": "stream",
     "text": [
      "✅ 1436: 2 pairs stored\n"
     ]
    },
    {
     "name": "stderr",
     "output_type": "stream",
     "text": [
      "videos:   5%|█████▉                                                                                                        | 51/940 [00:41<12:19,  1.20it/s]"
     ]
    },
    {
     "name": "stdout",
     "output_type": "stream",
     "text": [
      "✅ 1437: 10 pairs stored\n"
     ]
    },
    {
     "name": "stderr",
     "output_type": "stream",
     "text": [
      "videos:   6%|██████                                                                                                        | 52/940 [00:42<13:17,  1.11it/s]"
     ]
    },
    {
     "name": "stdout",
     "output_type": "stream",
     "text": [
      "✅ 1438: 0 pairs stored\n"
     ]
    },
    {
     "name": "stderr",
     "output_type": "stream",
     "text": [
      "videos:   6%|██████▏                                                                                                       | 53/940 [00:42<11:58,  1.23it/s]"
     ]
    },
    {
     "name": "stdout",
     "output_type": "stream",
     "text": [
      "✅ 1439: 20 pairs stored\n"
     ]
    },
    {
     "name": "stderr",
     "output_type": "stream",
     "text": [
      "videos:   6%|██████▎                                                                                                       | 54/940 [00:44<13:12,  1.12it/s]"
     ]
    },
    {
     "name": "stdout",
     "output_type": "stream",
     "text": [
      "✅ 1440: 0 pairs stored\n"
     ]
    },
    {
     "name": "stderr",
     "output_type": "stream",
     "text": [
      "videos:   6%|██████▍                                                                                                       | 55/940 [00:44<12:24,  1.19it/s]"
     ]
    },
    {
     "name": "stdout",
     "output_type": "stream",
     "text": [
      "✅ 1441: 8 pairs stored\n"
     ]
    },
    {
     "name": "stderr",
     "output_type": "stream",
     "text": [
      "videos:   6%|██████▌                                                                                                       | 56/940 [00:45<11:57,  1.23it/s]"
     ]
    },
    {
     "name": "stdout",
     "output_type": "stream",
     "text": [
      "✅ 1442: 1 pairs stored\n"
     ]
    },
    {
     "name": "stderr",
     "output_type": "stream",
     "text": [
      "videos:   6%|██████▋                                                                                                       | 57/940 [00:46<10:45,  1.37it/s]"
     ]
    },
    {
     "name": "stdout",
     "output_type": "stream",
     "text": [
      "✅ 1443: 3 pairs stored\n"
     ]
    },
    {
     "name": "stderr",
     "output_type": "stream",
     "text": [
      "videos:   6%|██████▊                                                                                                       | 58/940 [00:46<11:53,  1.24it/s]"
     ]
    },
    {
     "name": "stdout",
     "output_type": "stream",
     "text": [
      "✅ 1444: 36 pairs stored\n"
     ]
    },
    {
     "name": "stderr",
     "output_type": "stream",
     "text": [
      "videos:   6%|██████▉                                                                                                       | 59/940 [00:47<10:58,  1.34it/s]"
     ]
    },
    {
     "name": "stdout",
     "output_type": "stream",
     "text": [
      "✅ 1445: 34 pairs stored\n"
     ]
    },
    {
     "name": "stderr",
     "output_type": "stream",
     "text": [
      "videos:   6%|███████                                                                                                       | 60/940 [00:48<13:32,  1.08it/s]"
     ]
    },
    {
     "name": "stdout",
     "output_type": "stream",
     "text": [
      "✅ 1446: 10 pairs stored\n"
     ]
    },
    {
     "name": "stderr",
     "output_type": "stream",
     "text": [
      "videos:   6%|███████▏                                                                                                      | 61/940 [00:50<14:52,  1.02s/it]"
     ]
    },
    {
     "name": "stdout",
     "output_type": "stream",
     "text": [
      "✅ 1447: 10 pairs stored\n"
     ]
    },
    {
     "name": "stderr",
     "output_type": "stream",
     "text": [
      "videos:   7%|███████▎                                                                                                      | 62/940 [00:50<13:25,  1.09it/s]"
     ]
    },
    {
     "name": "stdout",
     "output_type": "stream",
     "text": [
      "✅ 1448: 17 pairs stored\n"
     ]
    },
    {
     "name": "stderr",
     "output_type": "stream",
     "text": [
      "videos:   7%|███████▎                                                                                                      | 63/940 [00:51<12:06,  1.21it/s]"
     ]
    },
    {
     "name": "stdout",
     "output_type": "stream",
     "text": [
      "✅ 1449: 28 pairs stored\n"
     ]
    },
    {
     "name": "stderr",
     "output_type": "stream",
     "text": [
      "videos:   7%|███████▍                                                                                                      | 64/940 [00:54<21:49,  1.50s/it]"
     ]
    },
    {
     "name": "stdout",
     "output_type": "stream",
     "text": [
      "✅ 1450: 4 pairs stored\n"
     ]
    },
    {
     "name": "stderr",
     "output_type": "stream",
     "text": [
      "videos:   7%|███████▌                                                                                                      | 65/940 [00:55<18:43,  1.28s/it]"
     ]
    },
    {
     "name": "stdout",
     "output_type": "stream",
     "text": [
      "✅ 1451: 2 pairs stored\n"
     ]
    },
    {
     "name": "stderr",
     "output_type": "stream",
     "text": [
      "videos:   7%|███████▋                                                                                                      | 66/940 [00:56<16:14,  1.11s/it]"
     ]
    },
    {
     "name": "stdout",
     "output_type": "stream",
     "text": [
      "✅ 1452: 21 pairs stored\n"
     ]
    },
    {
     "name": "stderr",
     "output_type": "stream",
     "text": [
      "videos:   7%|███████▊                                                                                                      | 67/940 [00:56<15:21,  1.06s/it]"
     ]
    },
    {
     "name": "stdout",
     "output_type": "stream",
     "text": [
      "✅ 1453: 0 pairs stored\n"
     ]
    },
    {
     "name": "stderr",
     "output_type": "stream",
     "text": [
      "videos:   7%|███████▉                                                                                                      | 68/940 [00:57<14:28,  1.00it/s]"
     ]
    },
    {
     "name": "stdout",
     "output_type": "stream",
     "text": [
      "✅ 1454: 0 pairs stored\n"
     ]
    },
    {
     "name": "stderr",
     "output_type": "stream",
     "text": [
      "videos:   7%|████████                                                                                                      | 69/940 [00:58<12:50,  1.13it/s]"
     ]
    },
    {
     "name": "stdout",
     "output_type": "stream",
     "text": [
      "✅ 1455: 26 pairs stored\n"
     ]
    },
    {
     "name": "stderr",
     "output_type": "stream",
     "text": [
      "videos:   7%|████████▏                                                                                                     | 70/940 [00:58<11:02,  1.31it/s]"
     ]
    },
    {
     "name": "stdout",
     "output_type": "stream",
     "text": [
      "✅ 1456: 6 pairs stored\n"
     ]
    },
    {
     "name": "stderr",
     "output_type": "stream",
     "text": [
      "videos:   8%|████████▎                                                                                                     | 71/940 [01:00<12:51,  1.13it/s]"
     ]
    },
    {
     "name": "stdout",
     "output_type": "stream",
     "text": [
      "✅ 1457: 4 pairs stored\n"
     ]
    },
    {
     "name": "stderr",
     "output_type": "stream",
     "text": [
      "videos:   8%|████████▍                                                                                                     | 72/940 [01:01<13:30,  1.07it/s]"
     ]
    },
    {
     "name": "stdout",
     "output_type": "stream",
     "text": [
      "✅ 1458: 12 pairs stored\n"
     ]
    },
    {
     "name": "stderr",
     "output_type": "stream",
     "text": [
      "videos:   8%|████████▌                                                                                                     | 73/940 [01:01<11:53,  1.22it/s]"
     ]
    },
    {
     "name": "stdout",
     "output_type": "stream",
     "text": [
      "✅ 1459: 0 pairs stored\n"
     ]
    },
    {
     "name": "stderr",
     "output_type": "stream",
     "text": [
      "videos:   8%|████████▋                                                                                                     | 74/940 [01:02<11:07,  1.30it/s]"
     ]
    },
    {
     "name": "stdout",
     "output_type": "stream",
     "text": [
      "✅ 1460: 11 pairs stored\n"
     ]
    },
    {
     "name": "stderr",
     "output_type": "stream",
     "text": [
      "videos:   8%|████████▊                                                                                                     | 75/940 [01:03<14:25,  1.00s/it]"
     ]
    },
    {
     "name": "stdout",
     "output_type": "stream",
     "text": [
      "✅ 1461: 2 pairs stored\n"
     ]
    },
    {
     "name": "stderr",
     "output_type": "stream",
     "text": [
      "videos:   8%|████████▉                                                                                                     | 76/940 [01:05<15:11,  1.06s/it]"
     ]
    },
    {
     "name": "stdout",
     "output_type": "stream",
     "text": [
      "✅ 1462: 38 pairs stored\n"
     ]
    },
    {
     "name": "stderr",
     "output_type": "stream",
     "text": [
      "videos:   8%|█████████                                                                                                     | 77/940 [01:05<13:13,  1.09it/s]"
     ]
    },
    {
     "name": "stdout",
     "output_type": "stream",
     "text": [
      "✅ 1463: 7 pairs stored\n"
     ]
    },
    {
     "name": "stderr",
     "output_type": "stream",
     "text": [
      "videos:   8%|█████████▏                                                                                                    | 78/940 [01:06<13:50,  1.04it/s]"
     ]
    },
    {
     "name": "stdout",
     "output_type": "stream",
     "text": [
      "✅ 1464: 24 pairs stored\n"
     ]
    },
    {
     "name": "stderr",
     "output_type": "stream",
     "text": [
      "videos:   8%|█████████▏                                                                                                    | 79/940 [01:07<14:20,  1.00it/s]"
     ]
    },
    {
     "name": "stdout",
     "output_type": "stream",
     "text": [
      "✅ 1465: 19 pairs stored\n"
     ]
    },
    {
     "name": "stderr",
     "output_type": "stream",
     "text": [
      "videos:   9%|█████████▎                                                                                                    | 80/940 [01:09<17:43,  1.24s/it]"
     ]
    },
    {
     "name": "stdout",
     "output_type": "stream",
     "text": [
      "✅ 1466: 14 pairs stored\n"
     ]
    },
    {
     "name": "stderr",
     "output_type": "stream",
     "text": [
      "videos:   9%|█████████▍                                                                                                    | 81/940 [01:12<24:08,  1.69s/it]"
     ]
    },
    {
     "name": "stdout",
     "output_type": "stream",
     "text": [
      "✅ 1467: 20 pairs stored\n"
     ]
    },
    {
     "name": "stderr",
     "output_type": "stream",
     "text": [
      "videos:   9%|█████████▌                                                                                                    | 82/940 [01:13<23:31,  1.65s/it]"
     ]
    },
    {
     "name": "stdout",
     "output_type": "stream",
     "text": [
      "✅ 1468: 5 pairs stored\n"
     ]
    },
    {
     "name": "stderr",
     "output_type": "stream",
     "text": [
      "videos:   9%|█████████▋                                                                                                    | 83/940 [01:14<18:41,  1.31s/it]"
     ]
    },
    {
     "name": "stdout",
     "output_type": "stream",
     "text": [
      "✅ 1469: 11 pairs stored\n"
     ]
    },
    {
     "name": "stderr",
     "output_type": "stream",
     "text": [
      "videos:   9%|█████████▊                                                                                                    | 84/940 [01:14<14:54,  1.04s/it]"
     ]
    },
    {
     "name": "stdout",
     "output_type": "stream",
     "text": [
      "✅ 1470: 4 pairs stored\n"
     ]
    },
    {
     "name": "stderr",
     "output_type": "stream",
     "text": [
      "videos:   9%|█████████▉                                                                                                    | 85/940 [01:15<12:39,  1.13it/s]"
     ]
    },
    {
     "name": "stdout",
     "output_type": "stream",
     "text": [
      "✅ 1471: 4 pairs stored\n"
     ]
    },
    {
     "name": "stderr",
     "output_type": "stream",
     "text": [
      "videos:   9%|██████████                                                                                                    | 86/940 [01:15<10:49,  1.32it/s]"
     ]
    },
    {
     "name": "stdout",
     "output_type": "stream",
     "text": [
      "✅ 1472: 10 pairs stored\n"
     ]
    },
    {
     "name": "stderr",
     "output_type": "stream",
     "text": [
      "videos:   9%|██████████▏                                                                                                   | 87/940 [01:16<10:24,  1.37it/s]"
     ]
    },
    {
     "name": "stdout",
     "output_type": "stream",
     "text": [
      "✅ 1473: 3 pairs stored\n"
     ]
    },
    {
     "name": "stderr",
     "output_type": "stream",
     "text": [
      "videos:   9%|██████████▎                                                                                                   | 88/940 [01:17<10:31,  1.35it/s]"
     ]
    },
    {
     "name": "stdout",
     "output_type": "stream",
     "text": [
      "✅ 1474: 0 pairs stored\n"
     ]
    },
    {
     "name": "stderr",
     "output_type": "stream",
     "text": [
      "videos:   9%|██████████▍                                                                                                   | 89/940 [01:17<10:00,  1.42it/s]"
     ]
    },
    {
     "name": "stdout",
     "output_type": "stream",
     "text": [
      "✅ 1475: 2 pairs stored\n"
     ]
    },
    {
     "name": "stderr",
     "output_type": "stream",
     "text": [
      "videos:  10%|██████████▌                                                                                                   | 90/940 [01:18<10:24,  1.36it/s]"
     ]
    },
    {
     "name": "stdout",
     "output_type": "stream",
     "text": [
      "✅ 1476: 14 pairs stored\n"
     ]
    },
    {
     "name": "stderr",
     "output_type": "stream",
     "text": [
      "videos:  10%|██████████▋                                                                                                   | 91/940 [01:19<10:09,  1.39it/s]"
     ]
    },
    {
     "name": "stdout",
     "output_type": "stream",
     "text": [
      "✅ 1477: 13 pairs stored\n"
     ]
    },
    {
     "name": "stderr",
     "output_type": "stream",
     "text": [
      "videos:  10%|██████████▊                                                                                                   | 92/940 [01:19<09:46,  1.45it/s]"
     ]
    },
    {
     "name": "stdout",
     "output_type": "stream",
     "text": [
      "✅ 1478: 4 pairs stored\n"
     ]
    },
    {
     "name": "stderr",
     "output_type": "stream",
     "text": [
      "videos:  10%|██████████▉                                                                                                   | 93/940 [01:20<10:25,  1.35it/s]"
     ]
    },
    {
     "name": "stdout",
     "output_type": "stream",
     "text": [
      "✅ 1479: 7 pairs stored\n"
     ]
    },
    {
     "name": "stderr",
     "output_type": "stream",
     "text": [
      "videos:  10%|███████████                                                                                                   | 94/940 [01:21<10:31,  1.34it/s]"
     ]
    },
    {
     "name": "stdout",
     "output_type": "stream",
     "text": [
      "✅ 1480: 6 pairs stored\n"
     ]
    },
    {
     "name": "stderr",
     "output_type": "stream",
     "text": [
      "videos:  10%|███████████                                                                                                   | 95/940 [01:22<10:49,  1.30it/s]"
     ]
    },
    {
     "name": "stdout",
     "output_type": "stream",
     "text": [
      "✅ 1481: 3 pairs stored\n"
     ]
    },
    {
     "name": "stderr",
     "output_type": "stream",
     "text": [
      "videos:  10%|███████████▏                                                                                                  | 96/940 [01:23<11:13,  1.25it/s]"
     ]
    },
    {
     "name": "stdout",
     "output_type": "stream",
     "text": [
      "✅ 1482: 3 pairs stored\n"
     ]
    },
    {
     "name": "stderr",
     "output_type": "stream",
     "text": [
      "videos:  10%|███████████▎                                                                                                  | 97/940 [01:24<10:54,  1.29it/s]"
     ]
    },
    {
     "name": "stdout",
     "output_type": "stream",
     "text": [
      "✅ 1483: 0 pairs stored\n"
     ]
    },
    {
     "name": "stderr",
     "output_type": "stream",
     "text": [
      "videos:  10%|███████████▍                                                                                                  | 98/940 [01:24<09:37,  1.46it/s]"
     ]
    },
    {
     "name": "stdout",
     "output_type": "stream",
     "text": [
      "✅ 1484: 0 pairs stored\n"
     ]
    },
    {
     "name": "stderr",
     "output_type": "stream",
     "text": [
      "videos:  11%|███████████▌                                                                                                  | 99/940 [01:25<08:55,  1.57it/s]"
     ]
    },
    {
     "name": "stdout",
     "output_type": "stream",
     "text": [
      "✅ 1485: 0 pairs stored\n"
     ]
    },
    {
     "name": "stderr",
     "output_type": "stream",
     "text": [
      "videos:  11%|███████████▌                                                                                                 | 100/940 [01:25<08:08,  1.72it/s]"
     ]
    },
    {
     "name": "stdout",
     "output_type": "stream",
     "text": [
      "✅ 1486: 0 pairs stored\n"
     ]
    },
    {
     "name": "stderr",
     "output_type": "stream",
     "text": [
      "videos:  11%|███████████▋                                                                                                 | 101/940 [01:27<14:14,  1.02s/it]"
     ]
    },
    {
     "name": "stdout",
     "output_type": "stream",
     "text": [
      "✅ 1487: 6 pairs stored\n"
     ]
    },
    {
     "name": "stderr",
     "output_type": "stream",
     "text": [
      "videos:  11%|███████████▊                                                                                                 | 102/940 [01:28<13:09,  1.06it/s]"
     ]
    },
    {
     "name": "stdout",
     "output_type": "stream",
     "text": [
      "✅ 1488: 36 pairs stored\n"
     ]
    },
    {
     "name": "stderr",
     "output_type": "stream",
     "text": [
      "videos:  11%|███████████▉                                                                                                 | 103/940 [01:28<11:55,  1.17it/s]"
     ]
    },
    {
     "name": "stdout",
     "output_type": "stream",
     "text": [
      "✅ 1489: 2 pairs stored\n"
     ]
    },
    {
     "name": "stderr",
     "output_type": "stream",
     "text": [
      "videos:  11%|████████████                                                                                                 | 104/940 [01:29<10:41,  1.30it/s]"
     ]
    },
    {
     "name": "stdout",
     "output_type": "stream",
     "text": [
      "✅ 1490: 0 pairs stored\n"
     ]
    },
    {
     "name": "stderr",
     "output_type": "stream",
     "text": [
      "videos:  11%|████████████▏                                                                                                | 105/940 [01:30<11:28,  1.21it/s]"
     ]
    },
    {
     "name": "stdout",
     "output_type": "stream",
     "text": [
      "✅ 1491: 15 pairs stored\n"
     ]
    },
    {
     "name": "stderr",
     "output_type": "stream",
     "text": [
      "videos:  11%|████████████▎                                                                                                | 106/940 [01:30<09:40,  1.44it/s]"
     ]
    },
    {
     "name": "stdout",
     "output_type": "stream",
     "text": [
      "✅ 1492: 0 pairs stored\n"
     ]
    },
    {
     "name": "stderr",
     "output_type": "stream",
     "text": [
      "videos:  11%|████████████▍                                                                                                | 107/940 [01:32<12:11,  1.14it/s]"
     ]
    },
    {
     "name": "stdout",
     "output_type": "stream",
     "text": [
      "✅ 1493: 45 pairs stored\n"
     ]
    },
    {
     "name": "stderr",
     "output_type": "stream",
     "text": [
      "videos:  11%|████████████▌                                                                                                | 108/940 [01:32<10:37,  1.31it/s]"
     ]
    },
    {
     "name": "stdout",
     "output_type": "stream",
     "text": [
      "✅ 1494: 24 pairs stored\n"
     ]
    },
    {
     "name": "stderr",
     "output_type": "stream",
     "text": [
      "videos:  12%|████████████▋                                                                                                | 109/940 [01:34<15:23,  1.11s/it]"
     ]
    },
    {
     "name": "stdout",
     "output_type": "stream",
     "text": [
      "✅ 1495: 57 pairs stored\n"
     ]
    },
    {
     "name": "stderr",
     "output_type": "stream",
     "text": [
      "videos:  12%|████████████▊                                                                                                | 110/940 [01:36<18:27,  1.33s/it]"
     ]
    },
    {
     "name": "stdout",
     "output_type": "stream",
     "text": [
      "✅ 1496: 35 pairs stored\n"
     ]
    },
    {
     "name": "stderr",
     "output_type": "stream",
     "text": [
      "videos:  12%|████████████▊                                                                                                | 111/940 [01:36<14:48,  1.07s/it]"
     ]
    },
    {
     "name": "stdout",
     "output_type": "stream",
     "text": [
      "✅ 1497: 0 pairs stored\n"
     ]
    },
    {
     "name": "stderr",
     "output_type": "stream",
     "text": [
      "videos:  12%|████████████▉                                                                                                | 112/940 [01:37<13:50,  1.00s/it]"
     ]
    },
    {
     "name": "stdout",
     "output_type": "stream",
     "text": [
      "✅ 1498: 29 pairs stored\n"
     ]
    },
    {
     "name": "stderr",
     "output_type": "stream",
     "text": [
      "videos:  12%|█████████████                                                                                                | 113/940 [01:38<12:53,  1.07it/s]"
     ]
    },
    {
     "name": "stdout",
     "output_type": "stream",
     "text": [
      "✅ 1499: 14 pairs stored\n"
     ]
    },
    {
     "name": "stderr",
     "output_type": "stream",
     "text": [
      "videos:  12%|█████████████▏                                                                                               | 114/940 [01:39<11:41,  1.18it/s]"
     ]
    },
    {
     "name": "stdout",
     "output_type": "stream",
     "text": [
      "✅ 1500: 17 pairs stored\n"
     ]
    },
    {
     "name": "stderr",
     "output_type": "stream",
     "text": [
      "videos:  12%|█████████████▎                                                                                               | 115/940 [01:39<11:37,  1.18it/s]"
     ]
    },
    {
     "name": "stdout",
     "output_type": "stream",
     "text": [
      "✅ 1501: 15 pairs stored\n"
     ]
    },
    {
     "name": "stderr",
     "output_type": "stream",
     "text": [
      "videos:  12%|█████████████▍                                                                                               | 116/940 [01:40<10:45,  1.28it/s]"
     ]
    },
    {
     "name": "stdout",
     "output_type": "stream",
     "text": [
      "✅ 1502: 29 pairs stored\n"
     ]
    },
    {
     "name": "stderr",
     "output_type": "stream",
     "text": [
      "videos:  12%|█████████████▌                                                                                               | 117/940 [01:42<15:45,  1.15s/it]"
     ]
    },
    {
     "name": "stdout",
     "output_type": "stream",
     "text": [
      "✅ 1503: 23 pairs stored\n"
     ]
    },
    {
     "name": "stderr",
     "output_type": "stream",
     "text": [
      "videos:  13%|█████████████▋                                                                                               | 118/940 [01:43<12:42,  1.08it/s]"
     ]
    },
    {
     "name": "stdout",
     "output_type": "stream",
     "text": [
      "✅ 1504: 12 pairs stored\n"
     ]
    },
    {
     "name": "stderr",
     "output_type": "stream",
     "text": [
      "videos:  13%|█████████████▊                                                                                               | 119/940 [01:44<12:56,  1.06it/s]"
     ]
    },
    {
     "name": "stdout",
     "output_type": "stream",
     "text": [
      "✅ 1505: 6 pairs stored\n"
     ]
    },
    {
     "name": "stderr",
     "output_type": "stream",
     "text": [
      "videos:  13%|█████████████▉                                                                                               | 120/940 [01:44<12:29,  1.09it/s]"
     ]
    },
    {
     "name": "stdout",
     "output_type": "stream",
     "text": [
      "✅ 1506: 8 pairs stored\n"
     ]
    },
    {
     "name": "stderr",
     "output_type": "stream",
     "text": [
      "videos:  13%|██████████████                                                                                               | 121/940 [01:45<12:11,  1.12it/s]"
     ]
    },
    {
     "name": "stdout",
     "output_type": "stream",
     "text": [
      "✅ 1507: 4 pairs stored\n"
     ]
    },
    {
     "name": "stderr",
     "output_type": "stream",
     "text": [
      "videos:  13%|██████████████▏                                                                                              | 122/940 [01:46<12:24,  1.10it/s]"
     ]
    },
    {
     "name": "stdout",
     "output_type": "stream",
     "text": [
      "✅ 1508: 2 pairs stored\n"
     ]
    },
    {
     "name": "stderr",
     "output_type": "stream",
     "text": [
      "videos:  13%|██████████████▎                                                                                              | 123/940 [01:47<10:56,  1.24it/s]"
     ]
    },
    {
     "name": "stdout",
     "output_type": "stream",
     "text": [
      "✅ 1509: 10 pairs stored\n"
     ]
    },
    {
     "name": "stderr",
     "output_type": "stream",
     "text": [
      "videos:  13%|██████████████▍                                                                                              | 124/940 [01:49<18:53,  1.39s/it]"
     ]
    },
    {
     "name": "stdout",
     "output_type": "stream",
     "text": [
      "✅ 1510: 2 pairs stored\n"
     ]
    },
    {
     "name": "stderr",
     "output_type": "stream",
     "text": [
      "videos:  13%|██████████████▍                                                                                              | 125/940 [01:51<19:02,  1.40s/it]"
     ]
    },
    {
     "name": "stdout",
     "output_type": "stream",
     "text": [
      "✅ 1511: 0 pairs stored\n"
     ]
    },
    {
     "name": "stderr",
     "output_type": "stream",
     "text": [
      "videos:  13%|██████████████▌                                                                                              | 126/940 [01:53<20:21,  1.50s/it]"
     ]
    },
    {
     "name": "stdout",
     "output_type": "stream",
     "text": [
      "✅ 1512: 1 pairs stored\n"
     ]
    },
    {
     "name": "stderr",
     "output_type": "stream",
     "text": [
      "videos:  14%|██████████████▋                                                                                              | 127/940 [01:53<16:15,  1.20s/it]"
     ]
    },
    {
     "name": "stdout",
     "output_type": "stream",
     "text": [
      "✅ 1513: 9 pairs stored\n"
     ]
    },
    {
     "name": "stderr",
     "output_type": "stream",
     "text": [
      "videos:  14%|██████████████▊                                                                                              | 128/940 [01:55<18:19,  1.35s/it]"
     ]
    },
    {
     "name": "stdout",
     "output_type": "stream",
     "text": [
      "✅ 1514: 18 pairs stored\n"
     ]
    },
    {
     "name": "stderr",
     "output_type": "stream",
     "text": [
      "videos:  14%|██████████████▉                                                                                              | 129/940 [01:56<18:35,  1.38s/it]"
     ]
    },
    {
     "name": "stdout",
     "output_type": "stream",
     "text": [
      "✅ 1515: 20 pairs stored\n"
     ]
    },
    {
     "name": "stderr",
     "output_type": "stream",
     "text": [
      "videos:  14%|███████████████                                                                                              | 130/940 [01:57<17:18,  1.28s/it]"
     ]
    },
    {
     "name": "stdout",
     "output_type": "stream",
     "text": [
      "✅ 1516: 8 pairs stored\n"
     ]
    },
    {
     "name": "stderr",
     "output_type": "stream",
     "text": [
      "videos:  14%|███████████████▏                                                                                             | 131/940 [01:58<15:24,  1.14s/it]"
     ]
    },
    {
     "name": "stdout",
     "output_type": "stream",
     "text": [
      "✅ 1517: 34 pairs stored\n"
     ]
    },
    {
     "name": "stderr",
     "output_type": "stream",
     "text": [
      "videos:  14%|███████████████▎                                                                                             | 132/940 [01:59<14:19,  1.06s/it]"
     ]
    },
    {
     "name": "stdout",
     "output_type": "stream",
     "text": [
      "✅ 1518: 0 pairs stored\n"
     ]
    },
    {
     "name": "stderr",
     "output_type": "stream",
     "text": [
      "videos:  14%|███████████████▍                                                                                             | 133/940 [02:00<12:17,  1.09it/s]"
     ]
    },
    {
     "name": "stdout",
     "output_type": "stream",
     "text": [
      "✅ 1519: 0 pairs stored\n"
     ]
    },
    {
     "name": "stderr",
     "output_type": "stream",
     "text": [
      "videos:  14%|███████████████▌                                                                                             | 134/940 [02:02<16:41,  1.24s/it]"
     ]
    },
    {
     "name": "stdout",
     "output_type": "stream",
     "text": [
      "✅ 1520: 10 pairs stored\n"
     ]
    },
    {
     "name": "stderr",
     "output_type": "stream",
     "text": [
      "videos:  14%|███████████████▋                                                                                             | 135/940 [02:02<13:19,  1.01it/s]"
     ]
    },
    {
     "name": "stdout",
     "output_type": "stream",
     "text": [
      "✅ 1521: 10 pairs stored\n"
     ]
    },
    {
     "name": "stderr",
     "output_type": "stream",
     "text": [
      "videos:  14%|███████████████▊                                                                                             | 136/940 [02:03<11:21,  1.18it/s]"
     ]
    },
    {
     "name": "stdout",
     "output_type": "stream",
     "text": [
      "✅ 1522: 4 pairs stored\n"
     ]
    },
    {
     "name": "stderr",
     "output_type": "stream",
     "text": [
      "videos:  15%|███████████████▉                                                                                             | 137/940 [02:03<10:56,  1.22it/s]"
     ]
    },
    {
     "name": "stdout",
     "output_type": "stream",
     "text": [
      "✅ 1523: 11 pairs stored\n"
     ]
    },
    {
     "name": "stderr",
     "output_type": "stream",
     "text": [
      "videos:  15%|████████████████                                                                                             | 138/940 [02:04<10:28,  1.28it/s]"
     ]
    },
    {
     "name": "stdout",
     "output_type": "stream",
     "text": [
      "✅ 1524: 3 pairs stored\n"
     ]
    },
    {
     "name": "stderr",
     "output_type": "stream",
     "text": [
      "videos:  15%|████████████████                                                                                             | 139/940 [02:05<10:34,  1.26it/s]"
     ]
    },
    {
     "name": "stdout",
     "output_type": "stream",
     "text": [
      "✅ 1525: 12 pairs stored\n"
     ]
    },
    {
     "name": "stderr",
     "output_type": "stream",
     "text": [
      "videos:  15%|████████████████▏                                                                                            | 140/940 [02:05<09:40,  1.38it/s]"
     ]
    },
    {
     "name": "stdout",
     "output_type": "stream",
     "text": [
      "✅ 1526: 11 pairs stored\n"
     ]
    },
    {
     "name": "stderr",
     "output_type": "stream",
     "text": [
      "videos:  15%|████████████████▎                                                                                            | 141/940 [02:06<09:05,  1.47it/s]"
     ]
    },
    {
     "name": "stdout",
     "output_type": "stream",
     "text": [
      "✅ 1527: 10 pairs stored\n"
     ]
    },
    {
     "name": "stderr",
     "output_type": "stream",
     "text": [
      "videos:  15%|████████████████▍                                                                                            | 142/940 [02:07<09:04,  1.47it/s]"
     ]
    },
    {
     "name": "stdout",
     "output_type": "stream",
     "text": [
      "✅ 1528: 11 pairs stored\n"
     ]
    },
    {
     "name": "stderr",
     "output_type": "stream",
     "text": [
      "videos:  15%|████████████████▌                                                                                            | 143/940 [02:07<08:58,  1.48it/s]"
     ]
    },
    {
     "name": "stdout",
     "output_type": "stream",
     "text": [
      "✅ 1529: 31 pairs stored\n"
     ]
    },
    {
     "name": "stderr",
     "output_type": "stream",
     "text": [
      "videos:  15%|████████████████▋                                                                                            | 144/940 [02:08<08:52,  1.50it/s]"
     ]
    },
    {
     "name": "stdout",
     "output_type": "stream",
     "text": [
      "✅ 1530: 20 pairs stored\n"
     ]
    },
    {
     "name": "stderr",
     "output_type": "stream",
     "text": [
      "videos:  15%|████████████████▊                                                                                            | 145/940 [02:09<09:25,  1.41it/s]"
     ]
    },
    {
     "name": "stdout",
     "output_type": "stream",
     "text": [
      "✅ 1531: 15 pairs stored\n"
     ]
    },
    {
     "name": "stderr",
     "output_type": "stream",
     "text": [
      "videos:  16%|████████████████▉                                                                                            | 146/940 [02:09<08:31,  1.55it/s]"
     ]
    },
    {
     "name": "stdout",
     "output_type": "stream",
     "text": [
      "✅ 1532: 17 pairs stored\n"
     ]
    },
    {
     "name": "stderr",
     "output_type": "stream",
     "text": [
      "videos:  16%|█████████████████                                                                                            | 147/940 [02:10<08:38,  1.53it/s]"
     ]
    },
    {
     "name": "stdout",
     "output_type": "stream",
     "text": [
      "✅ 1533: 12 pairs stored\n"
     ]
    },
    {
     "name": "stderr",
     "output_type": "stream",
     "text": [
      "videos:  16%|█████████████████▏                                                                                           | 148/940 [02:11<08:57,  1.47it/s]"
     ]
    },
    {
     "name": "stdout",
     "output_type": "stream",
     "text": [
      "✅ 1534: 37 pairs stored\n"
     ]
    },
    {
     "name": "stderr",
     "output_type": "stream",
     "text": [
      "videos:  16%|█████████████████▎                                                                                           | 149/940 [02:11<09:00,  1.46it/s]"
     ]
    },
    {
     "name": "stdout",
     "output_type": "stream",
     "text": [
      "✅ 1535: 42 pairs stored\n"
     ]
    },
    {
     "name": "stderr",
     "output_type": "stream",
     "text": [
      "videos:  16%|█████████████████▍                                                                                           | 150/940 [02:12<10:08,  1.30it/s]"
     ]
    },
    {
     "name": "stdout",
     "output_type": "stream",
     "text": [
      "✅ 1536: 51 pairs stored\n"
     ]
    },
    {
     "name": "stderr",
     "output_type": "stream",
     "text": [
      "videos:  16%|█████████████████▌                                                                                           | 151/940 [02:13<09:24,  1.40it/s]"
     ]
    },
    {
     "name": "stdout",
     "output_type": "stream",
     "text": [
      "✅ 1537: 7 pairs stored\n"
     ]
    },
    {
     "name": "stderr",
     "output_type": "stream",
     "text": [
      "videos:  16%|█████████████████▋                                                                                           | 152/940 [02:14<11:17,  1.16it/s]"
     ]
    },
    {
     "name": "stdout",
     "output_type": "stream",
     "text": [
      "✅ 1538: 35 pairs stored\n"
     ]
    },
    {
     "name": "stderr",
     "output_type": "stream",
     "text": [
      "videos:  16%|█████████████████▋                                                                                           | 153/940 [02:15<11:14,  1.17it/s]"
     ]
    },
    {
     "name": "stdout",
     "output_type": "stream",
     "text": [
      "✅ 1539: 18 pairs stored\n"
     ]
    },
    {
     "name": "stderr",
     "output_type": "stream",
     "text": [
      "videos:  16%|█████████████████▊                                                                                           | 154/940 [02:15<09:27,  1.39it/s]"
     ]
    },
    {
     "name": "stdout",
     "output_type": "stream",
     "text": [
      "✅ 1540: 26 pairs stored\n"
     ]
    },
    {
     "name": "stderr",
     "output_type": "stream",
     "text": [
      "videos:  16%|█████████████████▉                                                                                           | 155/940 [02:16<09:40,  1.35it/s]"
     ]
    },
    {
     "name": "stdout",
     "output_type": "stream",
     "text": [
      "✅ 1541: 19 pairs stored\n"
     ]
    },
    {
     "name": "stderr",
     "output_type": "stream",
     "text": [
      "videos:  17%|██████████████████                                                                                           | 156/940 [02:17<09:30,  1.37it/s]"
     ]
    },
    {
     "name": "stdout",
     "output_type": "stream",
     "text": [
      "✅ 1542: 7 pairs stored\n"
     ]
    },
    {
     "name": "stderr",
     "output_type": "stream",
     "text": [
      "videos:  17%|██████████████████▏                                                                                          | 157/940 [02:18<09:19,  1.40it/s]"
     ]
    },
    {
     "name": "stdout",
     "output_type": "stream",
     "text": [
      "✅ 1543: 11 pairs stored\n"
     ]
    },
    {
     "name": "stderr",
     "output_type": "stream",
     "text": [
      "videos:  17%|██████████████████▎                                                                                          | 158/940 [02:18<09:48,  1.33it/s]"
     ]
    },
    {
     "name": "stdout",
     "output_type": "stream",
     "text": [
      "✅ 1544: 12 pairs stored\n"
     ]
    },
    {
     "name": "stderr",
     "output_type": "stream",
     "text": [
      "videos:  17%|██████████████████▍                                                                                          | 159/940 [02:19<08:44,  1.49it/s]"
     ]
    },
    {
     "name": "stdout",
     "output_type": "stream",
     "text": [
      "✅ 1545: 16 pairs stored\n"
     ]
    },
    {
     "name": "stderr",
     "output_type": "stream",
     "text": [
      "videos:  17%|██████████████████▌                                                                                          | 160/940 [02:20<08:49,  1.47it/s]"
     ]
    },
    {
     "name": "stdout",
     "output_type": "stream",
     "text": [
      "✅ 1546: 23 pairs stored\n"
     ]
    },
    {
     "name": "stderr",
     "output_type": "stream",
     "text": [
      "videos:  17%|██████████████████▋                                                                                          | 161/940 [02:20<09:26,  1.37it/s]"
     ]
    },
    {
     "name": "stdout",
     "output_type": "stream",
     "text": [
      "✅ 1547: 33 pairs stored\n"
     ]
    },
    {
     "name": "stderr",
     "output_type": "stream",
     "text": [
      "videos:  17%|██████████████████▊                                                                                          | 162/940 [02:21<08:22,  1.55it/s]"
     ]
    },
    {
     "name": "stdout",
     "output_type": "stream",
     "text": [
      "✅ 1548: 9 pairs stored\n"
     ]
    },
    {
     "name": "stderr",
     "output_type": "stream",
     "text": [
      "videos:  17%|██████████████████▉                                                                                          | 163/940 [02:21<08:27,  1.53it/s]"
     ]
    },
    {
     "name": "stdout",
     "output_type": "stream",
     "text": [
      "✅ 1549: 5 pairs stored\n"
     ]
    },
    {
     "name": "stderr",
     "output_type": "stream",
     "text": [
      "videos:  17%|███████████████████                                                                                          | 164/940 [02:22<09:41,  1.33it/s]"
     ]
    },
    {
     "name": "stdout",
     "output_type": "stream",
     "text": [
      "✅ 1550: 15 pairs stored\n"
     ]
    },
    {
     "name": "stderr",
     "output_type": "stream",
     "text": [
      "videos:  18%|███████████████████▏                                                                                         | 165/940 [02:24<11:42,  1.10it/s]"
     ]
    },
    {
     "name": "stdout",
     "output_type": "stream",
     "text": [
      "✅ 1551: 6 pairs stored\n"
     ]
    },
    {
     "name": "stderr",
     "output_type": "stream",
     "text": [
      "videos:  18%|███████████████████▏                                                                                         | 166/940 [02:25<12:28,  1.03it/s]"
     ]
    },
    {
     "name": "stdout",
     "output_type": "stream",
     "text": [
      "✅ 1552: 32 pairs stored\n"
     ]
    },
    {
     "name": "stderr",
     "output_type": "stream",
     "text": [
      "videos:  18%|███████████████████▎                                                                                         | 167/940 [02:25<10:54,  1.18it/s]"
     ]
    },
    {
     "name": "stdout",
     "output_type": "stream",
     "text": [
      "✅ 1553: 7 pairs stored\n"
     ]
    },
    {
     "name": "stderr",
     "output_type": "stream",
     "text": [
      "videos:  18%|███████████████████▍                                                                                         | 168/940 [02:26<10:47,  1.19it/s]"
     ]
    },
    {
     "name": "stdout",
     "output_type": "stream",
     "text": [
      "✅ 1554: 3 pairs stored\n"
     ]
    },
    {
     "name": "stderr",
     "output_type": "stream",
     "text": [
      "videos:  18%|███████████████████▌                                                                                         | 169/940 [02:27<09:06,  1.41it/s]"
     ]
    },
    {
     "name": "stdout",
     "output_type": "stream",
     "text": [
      "✅ 1555: 15 pairs stored\n"
     ]
    },
    {
     "name": "stderr",
     "output_type": "stream",
     "text": [
      "videos:  18%|███████████████████▋                                                                                         | 170/940 [02:27<07:59,  1.61it/s]"
     ]
    },
    {
     "name": "stdout",
     "output_type": "stream",
     "text": [
      "✅ 1556: 13 pairs stored\n"
     ]
    },
    {
     "name": "stderr",
     "output_type": "stream",
     "text": [
      "videos:  18%|███████████████████▊                                                                                         | 171/940 [02:28<08:42,  1.47it/s]"
     ]
    },
    {
     "name": "stdout",
     "output_type": "stream",
     "text": [
      "✅ 1557: 8 pairs stored\n"
     ]
    },
    {
     "name": "stderr",
     "output_type": "stream",
     "text": [
      "videos:  18%|███████████████████▉                                                                                         | 172/940 [02:29<09:42,  1.32it/s]"
     ]
    },
    {
     "name": "stdout",
     "output_type": "stream",
     "text": [
      "✅ 1558: 13 pairs stored\n"
     ]
    },
    {
     "name": "stderr",
     "output_type": "stream",
     "text": [
      "videos:  18%|████████████████████                                                                                         | 173/940 [02:30<12:03,  1.06it/s]"
     ]
    },
    {
     "name": "stdout",
     "output_type": "stream",
     "text": [
      "✅ 1559: 72 pairs stored\n"
     ]
    },
    {
     "name": "stderr",
     "output_type": "stream",
     "text": [
      "videos:  19%|████████████████████▏                                                                                        | 174/940 [02:32<15:21,  1.20s/it]"
     ]
    },
    {
     "name": "stdout",
     "output_type": "stream",
     "text": [
      "✅ 1560: 63 pairs stored\n"
     ]
    },
    {
     "name": "stderr",
     "output_type": "stream",
     "text": [
      "videos:  19%|████████████████████▎                                                                                        | 175/940 [02:34<18:15,  1.43s/it]"
     ]
    },
    {
     "name": "stdout",
     "output_type": "stream",
     "text": [
      "✅ 1561: 49 pairs stored\n"
     ]
    },
    {
     "name": "stderr",
     "output_type": "stream",
     "text": [
      "videos:  19%|████████████████████▍                                                                                        | 176/940 [02:35<16:56,  1.33s/it]"
     ]
    },
    {
     "name": "stdout",
     "output_type": "stream",
     "text": [
      "✅ 1562: 11 pairs stored\n"
     ]
    },
    {
     "name": "stderr",
     "output_type": "stream",
     "text": [
      "videos:  19%|████████████████████▌                                                                                        | 177/940 [02:37<20:16,  1.59s/it]"
     ]
    },
    {
     "name": "stdout",
     "output_type": "stream",
     "text": [
      "✅ 1563: 63 pairs stored\n"
     ]
    },
    {
     "name": "stderr",
     "output_type": "stream",
     "text": [
      "videos:  19%|████████████████████▋                                                                                        | 178/940 [02:40<24:51,  1.96s/it]"
     ]
    },
    {
     "name": "stdout",
     "output_type": "stream",
     "text": [
      "✅ 1564: 44 pairs stored\n"
     ]
    },
    {
     "name": "stderr",
     "output_type": "stream",
     "text": [
      "videos:  19%|████████████████████▊                                                                                        | 179/940 [02:42<25:02,  1.97s/it]"
     ]
    },
    {
     "name": "stdout",
     "output_type": "stream",
     "text": [
      "✅ 1565: 53 pairs stored\n"
     ]
    },
    {
     "name": "stderr",
     "output_type": "stream",
     "text": [
      "videos:  19%|████████████████████▊                                                                                        | 180/940 [02:45<27:08,  2.14s/it]"
     ]
    },
    {
     "name": "stdout",
     "output_type": "stream",
     "text": [
      "✅ 1566: 16 pairs stored\n"
     ]
    },
    {
     "name": "stderr",
     "output_type": "stream",
     "text": [
      "videos:  19%|████████████████████▉                                                                                        | 181/940 [02:45<20:46,  1.64s/it]"
     ]
    },
    {
     "name": "stdout",
     "output_type": "stream",
     "text": [
      "✅ 1567: 0 pairs stored\n"
     ]
    },
    {
     "name": "stderr",
     "output_type": "stream",
     "text": [
      "videos:  19%|█████████████████████                                                                                        | 182/940 [02:46<16:32,  1.31s/it]"
     ]
    },
    {
     "name": "stdout",
     "output_type": "stream",
     "text": [
      "✅ 1568: 0 pairs stored\n"
     ]
    },
    {
     "name": "stderr",
     "output_type": "stream",
     "text": [
      "videos:  19%|█████████████████████▏                                                                                       | 183/940 [02:47<18:24,  1.46s/it]"
     ]
    },
    {
     "name": "stdout",
     "output_type": "stream",
     "text": [
      "✅ 1569: 19 pairs stored\n"
     ]
    },
    {
     "name": "stderr",
     "output_type": "stream",
     "text": [
      "videos:  20%|█████████████████████▎                                                                                       | 184/940 [02:49<20:34,  1.63s/it]"
     ]
    },
    {
     "name": "stdout",
     "output_type": "stream",
     "text": [
      "✅ 1570: 0 pairs stored\n"
     ]
    },
    {
     "name": "stderr",
     "output_type": "stream",
     "text": [
      "videos:  20%|█████████████████████▍                                                                                       | 185/940 [02:51<18:15,  1.45s/it]"
     ]
    },
    {
     "name": "stdout",
     "output_type": "stream",
     "text": [
      "✅ 1571: 2 pairs stored\n"
     ]
    },
    {
     "name": "stderr",
     "output_type": "stream",
     "text": [
      "videos:  20%|█████████████████████▌                                                                                       | 186/940 [02:52<17:23,  1.38s/it]"
     ]
    },
    {
     "name": "stdout",
     "output_type": "stream",
     "text": [
      "✅ 1572: 0 pairs stored\n"
     ]
    },
    {
     "name": "stderr",
     "output_type": "stream",
     "text": [
      "videos:  20%|█████████████████████▋                                                                                       | 187/940 [02:54<21:14,  1.69s/it]"
     ]
    },
    {
     "name": "stdout",
     "output_type": "stream",
     "text": [
      "✅ 1573: 10 pairs stored\n"
     ]
    },
    {
     "name": "stderr",
     "output_type": "stream",
     "text": [
      "videos:  20%|█████████████████████▊                                                                                       | 188/940 [02:56<21:28,  1.71s/it]"
     ]
    },
    {
     "name": "stdout",
     "output_type": "stream",
     "text": [
      "✅ 1574: 0 pairs stored\n"
     ]
    },
    {
     "name": "stderr",
     "output_type": "stream",
     "text": [
      "videos:  20%|█████████████████████▉                                                                                       | 189/940 [02:57<19:10,  1.53s/it]"
     ]
    },
    {
     "name": "stdout",
     "output_type": "stream",
     "text": [
      "✅ 1575: 19 pairs stored\n"
     ]
    },
    {
     "name": "stderr",
     "output_type": "stream",
     "text": [
      "videos:  20%|██████████████████████                                                                                       | 190/940 [02:59<19:07,  1.53s/it]"
     ]
    },
    {
     "name": "stdout",
     "output_type": "stream",
     "text": [
      "✅ 1576: 24 pairs stored\n"
     ]
    },
    {
     "name": "stderr",
     "output_type": "stream",
     "text": [
      "videos:  20%|██████████████████████▏                                                                                      | 191/940 [02:59<16:49,  1.35s/it]"
     ]
    },
    {
     "name": "stdout",
     "output_type": "stream",
     "text": [
      "✅ 1577: 25 pairs stored\n"
     ]
    },
    {
     "name": "stderr",
     "output_type": "stream",
     "text": [
      "videos:  20%|██████████████████████▎                                                                                      | 192/940 [03:01<17:42,  1.42s/it]"
     ]
    },
    {
     "name": "stdout",
     "output_type": "stream",
     "text": [
      "✅ 1578: 19 pairs stored\n"
     ]
    },
    {
     "name": "stderr",
     "output_type": "stream",
     "text": [
      "videos:  21%|██████████████████████▍                                                                                      | 193/940 [03:02<17:13,  1.38s/it]"
     ]
    },
    {
     "name": "stdout",
     "output_type": "stream",
     "text": [
      "✅ 1579: 0 pairs stored\n"
     ]
    },
    {
     "name": "stderr",
     "output_type": "stream",
     "text": [
      "videos:  21%|██████████████████████▍                                                                                      | 194/940 [03:05<20:44,  1.67s/it]"
     ]
    },
    {
     "name": "stdout",
     "output_type": "stream",
     "text": [
      "✅ 1580: 58 pairs stored\n"
     ]
    },
    {
     "name": "stderr",
     "output_type": "stream",
     "text": [
      "videos:  21%|██████████████████████▌                                                                                      | 195/940 [03:06<18:10,  1.46s/it]"
     ]
    },
    {
     "name": "stdout",
     "output_type": "stream",
     "text": [
      "✅ 1581: 16 pairs stored\n"
     ]
    },
    {
     "name": "stderr",
     "output_type": "stream",
     "text": [
      "videos:  21%|██████████████████████▋                                                                                      | 196/940 [03:07<17:30,  1.41s/it]"
     ]
    },
    {
     "name": "stdout",
     "output_type": "stream",
     "text": [
      "✅ 1582: 30 pairs stored\n"
     ]
    },
    {
     "name": "stderr",
     "output_type": "stream",
     "text": [
      "videos:  21%|██████████████████████▊                                                                                      | 197/940 [03:08<14:22,  1.16s/it]"
     ]
    },
    {
     "name": "stdout",
     "output_type": "stream",
     "text": [
      "✅ 1583: 0 pairs stored\n"
     ]
    },
    {
     "name": "stderr",
     "output_type": "stream",
     "text": [
      "videos:  21%|██████████████████████▉                                                                                      | 198/940 [03:09<14:59,  1.21s/it]"
     ]
    },
    {
     "name": "stdout",
     "output_type": "stream",
     "text": [
      "✅ 1584: 26 pairs stored\n"
     ]
    },
    {
     "name": "stderr",
     "output_type": "stream",
     "text": [
      "videos:  21%|███████████████████████                                                                                      | 199/940 [03:10<13:00,  1.05s/it]"
     ]
    },
    {
     "name": "stdout",
     "output_type": "stream",
     "text": [
      "✅ 1585: 2 pairs stored\n"
     ]
    },
    {
     "name": "stderr",
     "output_type": "stream",
     "text": [
      "videos:  21%|███████████████████████▏                                                                                     | 200/940 [03:11<13:00,  1.05s/it]"
     ]
    },
    {
     "name": "stdout",
     "output_type": "stream",
     "text": [
      "✅ 1586: 10 pairs stored\n"
     ]
    },
    {
     "name": "stderr",
     "output_type": "stream",
     "text": [
      "videos:  21%|███████████████████████▎                                                                                     | 201/940 [03:12<15:25,  1.25s/it]"
     ]
    },
    {
     "name": "stdout",
     "output_type": "stream",
     "text": [
      "✅ 1587: 20 pairs stored\n"
     ]
    },
    {
     "name": "stderr",
     "output_type": "stream",
     "text": [
      "videos:  21%|███████████████████████▍                                                                                     | 202/940 [03:14<16:34,  1.35s/it]"
     ]
    },
    {
     "name": "stdout",
     "output_type": "stream",
     "text": [
      "✅ 1588: 18 pairs stored\n"
     ]
    },
    {
     "name": "stderr",
     "output_type": "stream",
     "text": [
      "videos:  22%|███████████████████████▌                                                                                     | 203/940 [03:15<15:22,  1.25s/it]"
     ]
    },
    {
     "name": "stdout",
     "output_type": "stream",
     "text": [
      "✅ 1589: 5 pairs stored\n"
     ]
    },
    {
     "name": "stderr",
     "output_type": "stream",
     "text": [
      "videos:  22%|███████████████████████▋                                                                                     | 204/940 [03:16<15:58,  1.30s/it]"
     ]
    },
    {
     "name": "stdout",
     "output_type": "stream",
     "text": [
      "✅ 1590: 16 pairs stored\n"
     ]
    },
    {
     "name": "stderr",
     "output_type": "stream",
     "text": [
      "videos:  22%|███████████████████████▊                                                                                     | 205/940 [03:17<14:09,  1.16s/it]"
     ]
    },
    {
     "name": "stdout",
     "output_type": "stream",
     "text": [
      "✅ 1591: 0 pairs stored\n"
     ]
    },
    {
     "name": "stderr",
     "output_type": "stream",
     "text": [
      "videos:  22%|███████████████████████▉                                                                                     | 206/940 [03:20<18:51,  1.54s/it]"
     ]
    },
    {
     "name": "stdout",
     "output_type": "stream",
     "text": [
      "✅ 1592: 14 pairs stored\n"
     ]
    },
    {
     "name": "stderr",
     "output_type": "stream",
     "text": [
      "videos:  22%|████████████████████████                                                                                     | 207/940 [03:20<15:18,  1.25s/it]"
     ]
    },
    {
     "name": "stdout",
     "output_type": "stream",
     "text": [
      "✅ 1593: 14 pairs stored\n"
     ]
    },
    {
     "name": "stderr",
     "output_type": "stream",
     "text": [
      "videos:  22%|████████████████████████                                                                                     | 208/940 [03:21<15:10,  1.24s/it]"
     ]
    },
    {
     "name": "stdout",
     "output_type": "stream",
     "text": [
      "✅ 1594: 5 pairs stored\n"
     ]
    },
    {
     "name": "stderr",
     "output_type": "stream",
     "text": [
      "videos:  22%|████████████████████████▏                                                                                    | 209/940 [03:23<15:29,  1.27s/it]"
     ]
    },
    {
     "name": "stdout",
     "output_type": "stream",
     "text": [
      "✅ 1595: 4 pairs stored\n"
     ]
    },
    {
     "name": "stderr",
     "output_type": "stream",
     "text": [
      "videos:  22%|████████████████████████▎                                                                                    | 210/940 [03:24<16:22,  1.35s/it]"
     ]
    },
    {
     "name": "stdout",
     "output_type": "stream",
     "text": [
      "✅ 1596: 4 pairs stored\n"
     ]
    },
    {
     "name": "stderr",
     "output_type": "stream",
     "text": [
      "videos:  22%|████████████████████████▍                                                                                    | 211/940 [03:26<18:39,  1.54s/it]"
     ]
    },
    {
     "name": "stdout",
     "output_type": "stream",
     "text": [
      "✅ 1597: 25 pairs stored\n"
     ]
    },
    {
     "name": "stderr",
     "output_type": "stream",
     "text": [
      "videos:  23%|████████████████████████▌                                                                                    | 212/940 [03:28<20:11,  1.66s/it]"
     ]
    },
    {
     "name": "stdout",
     "output_type": "stream",
     "text": [
      "✅ 1598: 26 pairs stored\n"
     ]
    },
    {
     "name": "stderr",
     "output_type": "stream",
     "text": [
      "videos:  23%|████████████████████████▋                                                                                    | 213/940 [03:31<25:06,  2.07s/it]"
     ]
    },
    {
     "name": "stdout",
     "output_type": "stream",
     "text": [
      "✅ 1599: 8 pairs stored\n"
     ]
    },
    {
     "name": "stderr",
     "output_type": "stream",
     "text": [
      "videos:  23%|████████████████████████▊                                                                                    | 214/940 [03:33<23:10,  1.92s/it]"
     ]
    },
    {
     "name": "stdout",
     "output_type": "stream",
     "text": [
      "✅ 1600: 34 pairs stored\n"
     ]
    },
    {
     "name": "stderr",
     "output_type": "stream",
     "text": [
      "videos:  23%|████████████████████████▉                                                                                    | 215/940 [03:35<23:20,  1.93s/it]"
     ]
    },
    {
     "name": "stdout",
     "output_type": "stream",
     "text": [
      "✅ 1601: 62 pairs stored\n"
     ]
    },
    {
     "name": "stderr",
     "output_type": "stream",
     "text": [
      "videos:  23%|█████████████████████████                                                                                    | 216/940 [03:39<31:25,  2.60s/it]"
     ]
    },
    {
     "name": "stdout",
     "output_type": "stream",
     "text": [
      "✅ 1602: 5 pairs stored\n"
     ]
    },
    {
     "name": "stderr",
     "output_type": "stream",
     "text": [
      "videos:  23%|█████████████████████████▏                                                                                   | 217/940 [03:42<33:43,  2.80s/it]"
     ]
    },
    {
     "name": "stdout",
     "output_type": "stream",
     "text": [
      "✅ 1603: 6 pairs stored\n"
     ]
    },
    {
     "name": "stderr",
     "output_type": "stream",
     "text": [
      "videos:  23%|█████████████████████████▎                                                                                   | 218/940 [03:45<34:55,  2.90s/it]"
     ]
    },
    {
     "name": "stdout",
     "output_type": "stream",
     "text": [
      "✅ 1604: 4 pairs stored\n"
     ]
    },
    {
     "name": "stderr",
     "output_type": "stream",
     "text": [
      "videos:  23%|█████████████████████████▍                                                                                   | 219/940 [03:49<37:04,  3.09s/it]"
     ]
    },
    {
     "name": "stdout",
     "output_type": "stream",
     "text": [
      "✅ 1605: 2 pairs stored\n"
     ]
    },
    {
     "name": "stderr",
     "output_type": "stream",
     "text": [
      "videos:  23%|█████████████████████████▌                                                                                   | 220/940 [03:49<27:38,  2.30s/it]"
     ]
    },
    {
     "name": "stdout",
     "output_type": "stream",
     "text": [
      "✅ 1606: 0 pairs stored\n"
     ]
    },
    {
     "name": "stderr",
     "output_type": "stream",
     "text": [
      "videos:  24%|█████████████████████████▋                                                                                   | 221/940 [03:51<26:46,  2.23s/it]"
     ]
    },
    {
     "name": "stdout",
     "output_type": "stream",
     "text": [
      "✅ 1607: 24 pairs stored\n"
     ]
    },
    {
     "name": "stderr",
     "output_type": "stream",
     "text": [
      "videos:  24%|█████████████████████████▋                                                                                   | 222/940 [03:54<28:41,  2.40s/it]"
     ]
    },
    {
     "name": "stdout",
     "output_type": "stream",
     "text": [
      "✅ 1608: 0 pairs stored\n"
     ]
    },
    {
     "name": "stderr",
     "output_type": "stream",
     "text": [
      "videos:  24%|█████████████████████████▊                                                                                   | 223/940 [03:55<23:31,  1.97s/it]"
     ]
    },
    {
     "name": "stdout",
     "output_type": "stream",
     "text": [
      "✅ 1609: 14 pairs stored\n"
     ]
    },
    {
     "name": "stderr",
     "output_type": "stream",
     "text": [
      "videos:  24%|█████████████████████████▉                                                                                   | 224/940 [03:56<20:45,  1.74s/it]"
     ]
    },
    {
     "name": "stdout",
     "output_type": "stream",
     "text": [
      "✅ 1610: 28 pairs stored\n"
     ]
    },
    {
     "name": "stderr",
     "output_type": "stream",
     "text": [
      "videos:  24%|██████████████████████████                                                                                   | 225/940 [03:57<17:41,  1.48s/it]"
     ]
    },
    {
     "name": "stdout",
     "output_type": "stream",
     "text": [
      "✅ 1611: 25 pairs stored\n"
     ]
    },
    {
     "name": "stderr",
     "output_type": "stream",
     "text": [
      "videos:  24%|██████████████████████████▏                                                                                  | 226/940 [03:58<15:58,  1.34s/it]"
     ]
    },
    {
     "name": "stdout",
     "output_type": "stream",
     "text": [
      "✅ 1612: 13 pairs stored\n"
     ]
    },
    {
     "name": "stderr",
     "output_type": "stream",
     "text": [
      "videos:  24%|██████████████████████████▎                                                                                  | 227/940 [03:59<15:17,  1.29s/it]"
     ]
    },
    {
     "name": "stdout",
     "output_type": "stream",
     "text": [
      "✅ 1613: 0 pairs stored\n"
     ]
    },
    {
     "name": "stderr",
     "output_type": "stream",
     "text": [
      "videos:  24%|██████████████████████████▍                                                                                  | 228/940 [04:01<15:56,  1.34s/it]"
     ]
    },
    {
     "name": "stdout",
     "output_type": "stream",
     "text": [
      "✅ 1614: 4 pairs stored\n"
     ]
    },
    {
     "name": "stderr",
     "output_type": "stream",
     "text": [
      "videos:  24%|██████████████████████████▌                                                                                  | 229/940 [04:03<17:53,  1.51s/it]"
     ]
    },
    {
     "name": "stdout",
     "output_type": "stream",
     "text": [
      "✅ 1615: 25 pairs stored\n"
     ]
    },
    {
     "name": "stderr",
     "output_type": "stream",
     "text": [
      "videos:  24%|██████████████████████████▋                                                                                  | 230/940 [04:04<17:27,  1.48s/it]"
     ]
    },
    {
     "name": "stdout",
     "output_type": "stream",
     "text": [
      "✅ 1616: 17 pairs stored\n"
     ]
    },
    {
     "name": "stderr",
     "output_type": "stream",
     "text": [
      "videos:  25%|██████████████████████████▊                                                                                  | 231/940 [04:05<13:54,  1.18s/it]"
     ]
    },
    {
     "name": "stdout",
     "output_type": "stream",
     "text": [
      "✅ 1617: 11 pairs stored\n"
     ]
    },
    {
     "name": "stderr",
     "output_type": "stream",
     "text": [
      "videos:  25%|██████████████████████████▉                                                                                  | 232/940 [04:06<15:26,  1.31s/it]"
     ]
    },
    {
     "name": "stdout",
     "output_type": "stream",
     "text": [
      "✅ 1618: 30 pairs stored\n"
     ]
    },
    {
     "name": "stderr",
     "output_type": "stream",
     "text": [
      "videos:  25%|███████████████████████████                                                                                  | 233/940 [04:08<16:07,  1.37s/it]"
     ]
    },
    {
     "name": "stdout",
     "output_type": "stream",
     "text": [
      "✅ 1619: 5 pairs stored\n"
     ]
    },
    {
     "name": "stderr",
     "output_type": "stream",
     "text": [
      "videos:  25%|███████████████████████████▏                                                                                 | 234/940 [04:09<13:53,  1.18s/it]"
     ]
    },
    {
     "name": "stdout",
     "output_type": "stream",
     "text": [
      "✅ 1620: 23 pairs stored\n"
     ]
    },
    {
     "name": "stderr",
     "output_type": "stream",
     "text": [
      "videos:  25%|███████████████████████████▎                                                                                 | 235/940 [04:09<12:44,  1.08s/it]"
     ]
    },
    {
     "name": "stdout",
     "output_type": "stream",
     "text": [
      "✅ 1621: 20 pairs stored\n"
     ]
    },
    {
     "name": "stderr",
     "output_type": "stream",
     "text": [
      "videos:  25%|███████████████████████████▎                                                                                 | 236/940 [04:10<11:37,  1.01it/s]"
     ]
    },
    {
     "name": "stdout",
     "output_type": "stream",
     "text": [
      "✅ 1622: 18 pairs stored\n"
     ]
    },
    {
     "name": "stderr",
     "output_type": "stream",
     "text": [
      "videos:  25%|███████████████████████████▍                                                                                 | 237/940 [04:12<14:04,  1.20s/it]"
     ]
    },
    {
     "name": "stdout",
     "output_type": "stream",
     "text": [
      "✅ 1623: 5 pairs stored\n"
     ]
    },
    {
     "name": "stderr",
     "output_type": "stream",
     "text": [
      "videos:  25%|███████████████████████████▌                                                                                 | 238/940 [04:14<18:04,  1.55s/it]"
     ]
    },
    {
     "name": "stdout",
     "output_type": "stream",
     "text": [
      "✅ 1624: 19 pairs stored\n"
     ]
    },
    {
     "name": "stderr",
     "output_type": "stream",
     "text": [
      "videos:  25%|███████████████████████████▋                                                                                 | 239/940 [04:17<21:01,  1.80s/it]"
     ]
    },
    {
     "name": "stdout",
     "output_type": "stream",
     "text": [
      "✅ 1625: 23 pairs stored\n"
     ]
    },
    {
     "name": "stderr",
     "output_type": "stream",
     "text": [
      "videos:  26%|███████████████████████████▊                                                                                 | 240/940 [04:19<21:38,  1.85s/it]"
     ]
    },
    {
     "name": "stdout",
     "output_type": "stream",
     "text": [
      "✅ 1626: 52 pairs stored\n"
     ]
    },
    {
     "name": "stderr",
     "output_type": "stream",
     "text": [
      "videos:  26%|███████████████████████████▉                                                                                 | 241/940 [04:20<18:53,  1.62s/it]"
     ]
    },
    {
     "name": "stdout",
     "output_type": "stream",
     "text": [
      "✅ 1627: 34 pairs stored\n"
     ]
    },
    {
     "name": "stderr",
     "output_type": "stream",
     "text": [
      "videos:  26%|████████████████████████████                                                                                 | 242/940 [04:21<16:45,  1.44s/it]"
     ]
    },
    {
     "name": "stdout",
     "output_type": "stream",
     "text": [
      "✅ 1628: 32 pairs stored\n"
     ]
    },
    {
     "name": "stderr",
     "output_type": "stream",
     "text": [
      "videos:  26%|████████████████████████████▏                                                                                | 243/940 [04:23<18:38,  1.60s/it]"
     ]
    },
    {
     "name": "stdout",
     "output_type": "stream",
     "text": [
      "✅ 1629: 67 pairs stored\n"
     ]
    },
    {
     "name": "stderr",
     "output_type": "stream",
     "text": [
      "videos:  26%|████████████████████████████▎                                                                                | 244/940 [04:24<17:42,  1.53s/it]"
     ]
    },
    {
     "name": "stdout",
     "output_type": "stream",
     "text": [
      "✅ 1630: 45 pairs stored\n"
     ]
    },
    {
     "name": "stderr",
     "output_type": "stream",
     "text": [
      "videos:  26%|████████████████████████████▍                                                                                | 245/940 [04:25<14:29,  1.25s/it]"
     ]
    },
    {
     "name": "stdout",
     "output_type": "stream",
     "text": [
      "✅ 1631: 27 pairs stored\n"
     ]
    },
    {
     "name": "stderr",
     "output_type": "stream",
     "text": [
      "videos:  26%|████████████████████████████▌                                                                                | 246/940 [04:26<14:25,  1.25s/it]"
     ]
    },
    {
     "name": "stdout",
     "output_type": "stream",
     "text": [
      "✅ 1632: 2 pairs stored\n"
     ]
    },
    {
     "name": "stderr",
     "output_type": "stream",
     "text": [
      "videos:  26%|████████████████████████████▋                                                                                | 247/940 [04:27<15:06,  1.31s/it]"
     ]
    },
    {
     "name": "stdout",
     "output_type": "stream",
     "text": [
      "✅ 1633: 61 pairs stored\n"
     ]
    },
    {
     "name": "stderr",
     "output_type": "stream",
     "text": [
      "videos:  26%|████████████████████████████▊                                                                                | 248/940 [04:28<13:33,  1.18s/it]"
     ]
    },
    {
     "name": "stdout",
     "output_type": "stream",
     "text": [
      "✅ 1634: 0 pairs stored\n"
     ]
    },
    {
     "name": "stderr",
     "output_type": "stream",
     "text": [
      "videos:  26%|████████████████████████████▊                                                                                | 249/940 [04:30<14:24,  1.25s/it]"
     ]
    },
    {
     "name": "stdout",
     "output_type": "stream",
     "text": [
      "✅ 1635: 1 pairs stored\n"
     ]
    },
    {
     "name": "stderr",
     "output_type": "stream",
     "text": [
      "videos:  27%|████████████████████████████▉                                                                                | 250/940 [04:31<13:18,  1.16s/it]"
     ]
    },
    {
     "name": "stdout",
     "output_type": "stream",
     "text": [
      "✅ 1636: 0 pairs stored\n"
     ]
    },
    {
     "name": "stderr",
     "output_type": "stream",
     "text": [
      "videos:  27%|█████████████████████████████                                                                                | 251/940 [04:31<12:10,  1.06s/it]"
     ]
    },
    {
     "name": "stdout",
     "output_type": "stream",
     "text": [
      "✅ 1637: 0 pairs stored\n"
     ]
    },
    {
     "name": "stderr",
     "output_type": "stream",
     "text": [
      "videos:  27%|█████████████████████████████▏                                                                               | 252/940 [04:33<12:29,  1.09s/it]"
     ]
    },
    {
     "name": "stdout",
     "output_type": "stream",
     "text": [
      "✅ 1638: 12 pairs stored\n"
     ]
    },
    {
     "name": "stderr",
     "output_type": "stream",
     "text": [
      "videos:  27%|█████████████████████████████▎                                                                               | 253/940 [04:33<11:23,  1.00it/s]"
     ]
    },
    {
     "name": "stdout",
     "output_type": "stream",
     "text": [
      "✅ 1639: 1 pairs stored\n"
     ]
    },
    {
     "name": "stderr",
     "output_type": "stream",
     "text": [
      "videos:  27%|█████████████████████████████▍                                                                               | 254/940 [04:34<10:42,  1.07it/s]"
     ]
    },
    {
     "name": "stdout",
     "output_type": "stream",
     "text": [
      "✅ 1640: 2 pairs stored\n"
     ]
    },
    {
     "name": "stderr",
     "output_type": "stream",
     "text": [
      "videos:  27%|█████████████████████████████▌                                                                               | 255/940 [04:35<09:47,  1.17it/s]"
     ]
    },
    {
     "name": "stdout",
     "output_type": "stream",
     "text": [
      "✅ 1641: 2 pairs stored\n"
     ]
    },
    {
     "name": "stderr",
     "output_type": "stream",
     "text": [
      "videos:  27%|█████████████████████████████▋                                                                               | 256/940 [04:35<08:51,  1.29it/s]"
     ]
    },
    {
     "name": "stdout",
     "output_type": "stream",
     "text": [
      "✅ 1642: 3 pairs stored\n"
     ]
    },
    {
     "name": "stderr",
     "output_type": "stream",
     "text": [
      "videos:  27%|█████████████████████████████▊                                                                               | 257/940 [04:36<08:51,  1.29it/s]"
     ]
    },
    {
     "name": "stdout",
     "output_type": "stream",
     "text": [
      "✅ 1643: 34 pairs stored\n"
     ]
    },
    {
     "name": "stderr",
     "output_type": "stream",
     "text": [
      "videos:  27%|█████████████████████████████▉                                                                               | 258/940 [04:37<09:42,  1.17it/s]"
     ]
    },
    {
     "name": "stdout",
     "output_type": "stream",
     "text": [
      "✅ 1644: 25 pairs stored\n"
     ]
    },
    {
     "name": "stderr",
     "output_type": "stream",
     "text": [
      "videos:  28%|██████████████████████████████                                                                               | 259/940 [04:42<22:32,  1.99s/it]"
     ]
    },
    {
     "name": "stdout",
     "output_type": "stream",
     "text": [
      "✅ 1645: 69 pairs stored\n"
     ]
    },
    {
     "name": "stderr",
     "output_type": "stream",
     "text": [
      "videos:  28%|██████████████████████████████▏                                                                              | 260/940 [04:43<20:34,  1.82s/it]"
     ]
    },
    {
     "name": "stdout",
     "output_type": "stream",
     "text": [
      "✅ 1646: 27 pairs stored\n"
     ]
    },
    {
     "name": "stderr",
     "output_type": "stream",
     "text": [
      "videos:  28%|██████████████████████████████▎                                                                              | 261/940 [04:45<19:36,  1.73s/it]"
     ]
    },
    {
     "name": "stdout",
     "output_type": "stream",
     "text": [
      "✅ 1647: 31 pairs stored\n"
     ]
    },
    {
     "name": "stderr",
     "output_type": "stream",
     "text": [
      "videos:  28%|██████████████████████████████▍                                                                              | 262/940 [04:46<19:16,  1.71s/it]"
     ]
    },
    {
     "name": "stdout",
     "output_type": "stream",
     "text": [
      "✅ 1648: 31 pairs stored\n"
     ]
    },
    {
     "name": "stderr",
     "output_type": "stream",
     "text": [
      "videos:  28%|██████████████████████████████▍                                                                              | 263/940 [04:47<17:02,  1.51s/it]"
     ]
    },
    {
     "name": "stdout",
     "output_type": "stream",
     "text": [
      "✅ 1649: 18 pairs stored\n"
     ]
    },
    {
     "name": "stderr",
     "output_type": "stream",
     "text": [
      "videos:  28%|██████████████████████████████▌                                                                              | 264/940 [04:48<14:04,  1.25s/it]"
     ]
    },
    {
     "name": "stdout",
     "output_type": "stream",
     "text": [
      "✅ 1650: 9 pairs stored\n"
     ]
    },
    {
     "name": "stderr",
     "output_type": "stream",
     "text": [
      "videos:  28%|██████████████████████████████▋                                                                              | 265/940 [04:49<13:01,  1.16s/it]"
     ]
    },
    {
     "name": "stdout",
     "output_type": "stream",
     "text": [
      "✅ 1651: 16 pairs stored\n"
     ]
    },
    {
     "name": "stderr",
     "output_type": "stream",
     "text": [
      "videos:  28%|██████████████████████████████▊                                                                              | 266/940 [04:50<11:55,  1.06s/it]"
     ]
    },
    {
     "name": "stdout",
     "output_type": "stream",
     "text": [
      "✅ 1652: 13 pairs stored\n"
     ]
    },
    {
     "name": "stderr",
     "output_type": "stream",
     "text": [
      "videos:  28%|██████████████████████████████▉                                                                              | 267/940 [04:51<12:41,  1.13s/it]"
     ]
    },
    {
     "name": "stdout",
     "output_type": "stream",
     "text": [
      "✅ 1653: 63 pairs stored\n"
     ]
    },
    {
     "name": "stderr",
     "output_type": "stream",
     "text": [
      "videos:  29%|███████████████████████████████                                                                              | 268/940 [04:53<13:32,  1.21s/it]"
     ]
    },
    {
     "name": "stdout",
     "output_type": "stream",
     "text": [
      "✅ 1654: 19 pairs stored\n"
     ]
    },
    {
     "name": "stderr",
     "output_type": "stream",
     "text": [
      "videos:  29%|███████████████████████████████▏                                                                             | 269/940 [04:54<15:52,  1.42s/it]"
     ]
    },
    {
     "name": "stdout",
     "output_type": "stream",
     "text": [
      "✅ 1655: 64 pairs stored\n"
     ]
    },
    {
     "name": "stderr",
     "output_type": "stream",
     "text": [
      "videos:  29%|███████████████████████████████▎                                                                             | 270/940 [04:56<17:18,  1.55s/it]"
     ]
    },
    {
     "name": "stdout",
     "output_type": "stream",
     "text": [
      "✅ 1656: 33 pairs stored\n"
     ]
    },
    {
     "name": "stderr",
     "output_type": "stream",
     "text": [
      "videos:  29%|███████████████████████████████▍                                                                             | 271/940 [04:58<16:07,  1.45s/it]"
     ]
    },
    {
     "name": "stdout",
     "output_type": "stream",
     "text": [
      "✅ 1657: 33 pairs stored\n"
     ]
    },
    {
     "name": "stderr",
     "output_type": "stream",
     "text": [
      "videos:  29%|███████████████████████████████▌                                                                             | 272/940 [04:59<15:23,  1.38s/it]"
     ]
    },
    {
     "name": "stdout",
     "output_type": "stream",
     "text": [
      "✅ 1658: 33 pairs stored\n"
     ]
    },
    {
     "name": "stderr",
     "output_type": "stream",
     "text": [
      "videos:  29%|███████████████████████████████▋                                                                             | 273/940 [05:00<16:37,  1.50s/it]"
     ]
    },
    {
     "name": "stdout",
     "output_type": "stream",
     "text": [
      "✅ 1659: 4 pairs stored\n"
     ]
    },
    {
     "name": "stderr",
     "output_type": "stream",
     "text": [
      "videos:  29%|███████████████████████████████▊                                                                             | 274/940 [05:02<17:23,  1.57s/it]"
     ]
    },
    {
     "name": "stdout",
     "output_type": "stream",
     "text": [
      "✅ 1660: 6 pairs stored\n"
     ]
    },
    {
     "name": "stderr",
     "output_type": "stream",
     "text": [
      "videos:  29%|███████████████████████████████▉                                                                             | 275/940 [05:05<20:13,  1.82s/it]"
     ]
    },
    {
     "name": "stdout",
     "output_type": "stream",
     "text": [
      "✅ 1661: 40 pairs stored\n"
     ]
    },
    {
     "name": "stderr",
     "output_type": "stream",
     "text": [
      "videos:  29%|████████████████████████████████                                                                             | 276/940 [05:06<19:31,  1.76s/it]"
     ]
    },
    {
     "name": "stdout",
     "output_type": "stream",
     "text": [
      "✅ 1662: 15 pairs stored\n"
     ]
    },
    {
     "name": "stderr",
     "output_type": "stream",
     "text": [
      "videos:  29%|████████████████████████████████                                                                             | 277/940 [05:07<17:11,  1.56s/it]"
     ]
    },
    {
     "name": "stdout",
     "output_type": "stream",
     "text": [
      "✅ 1663: 0 pairs stored\n"
     ]
    },
    {
     "name": "stderr",
     "output_type": "stream",
     "text": [
      "videos:  30%|████████████████████████████████▏                                                                            | 278/940 [05:09<17:49,  1.62s/it]"
     ]
    },
    {
     "name": "stdout",
     "output_type": "stream",
     "text": [
      "✅ 1664: 56 pairs stored\n"
     ]
    },
    {
     "name": "stderr",
     "output_type": "stream",
     "text": [
      "videos:  30%|████████████████████████████████▎                                                                            | 279/940 [05:11<19:08,  1.74s/it]"
     ]
    },
    {
     "name": "stdout",
     "output_type": "stream",
     "text": [
      "✅ 1665: 30 pairs stored\n"
     ]
    },
    {
     "name": "stderr",
     "output_type": "stream",
     "text": [
      "videos:  30%|████████████████████████████████▍                                                                            | 280/940 [05:13<18:00,  1.64s/it]"
     ]
    },
    {
     "name": "stdout",
     "output_type": "stream",
     "text": [
      "✅ 1666: 6 pairs stored\n"
     ]
    },
    {
     "name": "stderr",
     "output_type": "stream",
     "text": [
      "videos:  30%|████████████████████████████████▌                                                                            | 281/940 [05:15<20:44,  1.89s/it]"
     ]
    },
    {
     "name": "stdout",
     "output_type": "stream",
     "text": [
      "✅ 1667: 28 pairs stored\n"
     ]
    },
    {
     "name": "stderr",
     "output_type": "stream",
     "text": [
      "videos:  30%|████████████████████████████████▋                                                                            | 282/940 [05:17<20:13,  1.84s/it]"
     ]
    },
    {
     "name": "stdout",
     "output_type": "stream",
     "text": [
      "✅ 1668: 11 pairs stored\n"
     ]
    },
    {
     "name": "stderr",
     "output_type": "stream",
     "text": [
      "videos:  30%|████████████████████████████████▊                                                                            | 283/940 [05:18<18:49,  1.72s/it]"
     ]
    },
    {
     "name": "stdout",
     "output_type": "stream",
     "text": [
      "✅ 1669: 51 pairs stored\n"
     ]
    },
    {
     "name": "stderr",
     "output_type": "stream",
     "text": [
      "videos:  30%|████████████████████████████████▉                                                                            | 284/940 [05:20<18:21,  1.68s/it]"
     ]
    },
    {
     "name": "stdout",
     "output_type": "stream",
     "text": [
      "✅ 1670: 17 pairs stored\n"
     ]
    },
    {
     "name": "stderr",
     "output_type": "stream",
     "text": [
      "videos:  30%|█████████████████████████████████                                                                            | 285/940 [05:21<15:43,  1.44s/it]"
     ]
    },
    {
     "name": "stdout",
     "output_type": "stream",
     "text": [
      "✅ 1671: 0 pairs stored\n"
     ]
    },
    {
     "name": "stderr",
     "output_type": "stream",
     "text": [
      "videos:  30%|█████████████████████████████████▏                                                                           | 286/940 [05:22<15:59,  1.47s/it]"
     ]
    },
    {
     "name": "stdout",
     "output_type": "stream",
     "text": [
      "✅ 1672: 43 pairs stored\n"
     ]
    },
    {
     "name": "stderr",
     "output_type": "stream",
     "text": [
      "videos:  31%|█████████████████████████████████▎                                                                           | 287/940 [05:23<15:15,  1.40s/it]"
     ]
    },
    {
     "name": "stdout",
     "output_type": "stream",
     "text": [
      "✅ 1673: 51 pairs stored\n"
     ]
    },
    {
     "name": "stderr",
     "output_type": "stream",
     "text": [
      "videos:  31%|█████████████████████████████████▍                                                                           | 288/940 [05:25<14:44,  1.36s/it]"
     ]
    },
    {
     "name": "stdout",
     "output_type": "stream",
     "text": [
      "✅ 1674: 51 pairs stored\n"
     ]
    },
    {
     "name": "stderr",
     "output_type": "stream",
     "text": [
      "videos:  31%|█████████████████████████████████▌                                                                           | 289/940 [05:27<17:01,  1.57s/it]"
     ]
    },
    {
     "name": "stdout",
     "output_type": "stream",
     "text": [
      "✅ 1675: 14 pairs stored\n"
     ]
    },
    {
     "name": "stderr",
     "output_type": "stream",
     "text": [
      "videos:  31%|█████████████████████████████████▋                                                                           | 290/940 [05:28<16:21,  1.51s/it]"
     ]
    },
    {
     "name": "stdout",
     "output_type": "stream",
     "text": [
      "✅ 1676: 2 pairs stored\n"
     ]
    },
    {
     "name": "stderr",
     "output_type": "stream",
     "text": [
      "videos:  31%|█████████████████████████████████▋                                                                           | 291/940 [05:30<17:50,  1.65s/it]"
     ]
    },
    {
     "name": "stdout",
     "output_type": "stream",
     "text": [
      "✅ 1677: 10 pairs stored\n"
     ]
    },
    {
     "name": "stderr",
     "output_type": "stream",
     "text": [
      "videos:  31%|█████████████████████████████████▊                                                                           | 292/940 [05:32<18:13,  1.69s/it]"
     ]
    },
    {
     "name": "stdout",
     "output_type": "stream",
     "text": [
      "✅ 1678: 4 pairs stored\n"
     ]
    },
    {
     "name": "stderr",
     "output_type": "stream",
     "text": [
      "videos:  31%|█████████████████████████████████▉                                                                           | 293/940 [05:33<15:46,  1.46s/it]"
     ]
    },
    {
     "name": "stdout",
     "output_type": "stream",
     "text": [
      "✅ 1679: 1 pairs stored\n"
     ]
    },
    {
     "name": "stderr",
     "output_type": "stream",
     "text": [
      "videos:  31%|██████████████████████████████████                                                                           | 294/940 [05:35<16:59,  1.58s/it]"
     ]
    },
    {
     "name": "stdout",
     "output_type": "stream",
     "text": [
      "✅ 1680: 69 pairs stored\n"
     ]
    },
    {
     "name": "stderr",
     "output_type": "stream",
     "text": [
      "videos:  31%|██████████████████████████████████▏                                                                          | 295/940 [05:37<18:21,  1.71s/it]"
     ]
    },
    {
     "name": "stdout",
     "output_type": "stream",
     "text": [
      "✅ 1681: 62 pairs stored\n"
     ]
    },
    {
     "name": "stderr",
     "output_type": "stream",
     "text": [
      "videos:  31%|██████████████████████████████████▎                                                                          | 296/940 [05:38<18:33,  1.73s/it]"
     ]
    },
    {
     "name": "stdout",
     "output_type": "stream",
     "text": [
      "✅ 1682: 10 pairs stored\n"
     ]
    },
    {
     "name": "stderr",
     "output_type": "stream",
     "text": [
      "videos:  32%|██████████████████████████████████▍                                                                          | 297/940 [05:40<18:28,  1.72s/it]"
     ]
    },
    {
     "name": "stdout",
     "output_type": "stream",
     "text": [
      "✅ 1683: 3 pairs stored\n"
     ]
    },
    {
     "name": "stderr",
     "output_type": "stream",
     "text": [
      "videos:  32%|██████████████████████████████████▌                                                                          | 298/940 [05:41<15:49,  1.48s/it]"
     ]
    },
    {
     "name": "stdout",
     "output_type": "stream",
     "text": [
      "✅ 1684: 6 pairs stored\n"
     ]
    },
    {
     "name": "stderr",
     "output_type": "stream",
     "text": [
      "videos:  32%|██████████████████████████████████▋                                                                          | 299/940 [05:42<13:36,  1.27s/it]"
     ]
    },
    {
     "name": "stdout",
     "output_type": "stream",
     "text": [
      "✅ 1685: 48 pairs stored\n"
     ]
    },
    {
     "name": "stderr",
     "output_type": "stream",
     "text": [
      "videos:  32%|██████████████████████████████████▊                                                                          | 300/940 [05:42<11:23,  1.07s/it]"
     ]
    },
    {
     "name": "stdout",
     "output_type": "stream",
     "text": [
      "✅ 1686: 18 pairs stored\n"
     ]
    },
    {
     "name": "stderr",
     "output_type": "stream",
     "text": [
      "videos:  32%|██████████████████████████████████▉                                                                          | 301/940 [05:44<12:59,  1.22s/it]"
     ]
    },
    {
     "name": "stdout",
     "output_type": "stream",
     "text": [
      "✅ 1687: 34 pairs stored\n"
     ]
    },
    {
     "name": "stderr",
     "output_type": "stream",
     "text": [
      "videos:  32%|███████████████████████████████████                                                                          | 302/940 [05:46<13:53,  1.31s/it]"
     ]
    },
    {
     "name": "stdout",
     "output_type": "stream",
     "text": [
      "✅ 1688: 9 pairs stored\n"
     ]
    },
    {
     "name": "stderr",
     "output_type": "stream",
     "text": [
      "videos:  32%|███████████████████████████████████▏                                                                         | 303/940 [05:48<16:04,  1.51s/it]"
     ]
    },
    {
     "name": "stdout",
     "output_type": "stream",
     "text": [
      "✅ 1689: 28 pairs stored\n"
     ]
    },
    {
     "name": "stderr",
     "output_type": "stream",
     "text": [
      "videos:  32%|███████████████████████████████████▎                                                                         | 304/940 [05:50<18:29,  1.74s/it]"
     ]
    },
    {
     "name": "stdout",
     "output_type": "stream",
     "text": [
      "✅ 1690: 3 pairs stored\n"
     ]
    },
    {
     "name": "stderr",
     "output_type": "stream",
     "text": [
      "videos:  32%|███████████████████████████████████▎                                                                         | 305/940 [05:51<15:37,  1.48s/it]"
     ]
    },
    {
     "name": "stdout",
     "output_type": "stream",
     "text": [
      "✅ 1691: 12 pairs stored\n"
     ]
    },
    {
     "name": "stderr",
     "output_type": "stream",
     "text": [
      "videos:  33%|███████████████████████████████████▍                                                                         | 306/940 [05:53<17:46,  1.68s/it]"
     ]
    },
    {
     "name": "stdout",
     "output_type": "stream",
     "text": [
      "✅ 1692: 2 pairs stored\n"
     ]
    },
    {
     "name": "stderr",
     "output_type": "stream",
     "text": [
      "videos:  33%|███████████████████████████████████▌                                                                         | 307/940 [05:54<17:35,  1.67s/it]"
     ]
    },
    {
     "name": "stdout",
     "output_type": "stream",
     "text": [
      "✅ 1693: 36 pairs stored\n"
     ]
    },
    {
     "name": "stderr",
     "output_type": "stream",
     "text": [
      "videos:  33%|███████████████████████████████████▋                                                                         | 308/940 [05:57<20:17,  1.93s/it]"
     ]
    },
    {
     "name": "stdout",
     "output_type": "stream",
     "text": [
      "✅ 1694: 10 pairs stored\n"
     ]
    },
    {
     "name": "stderr",
     "output_type": "stream",
     "text": [
      "videos:  33%|███████████████████████████████████▊                                                                         | 309/940 [05:59<19:52,  1.89s/it]"
     ]
    },
    {
     "name": "stdout",
     "output_type": "stream",
     "text": [
      "✅ 1695: 4 pairs stored\n"
     ]
    },
    {
     "name": "stderr",
     "output_type": "stream",
     "text": [
      "videos:  33%|███████████████████████████████████▉                                                                         | 310/940 [06:00<18:14,  1.74s/it]"
     ]
    },
    {
     "name": "stdout",
     "output_type": "stream",
     "text": [
      "✅ 1696: 15 pairs stored\n"
     ]
    },
    {
     "name": "stderr",
     "output_type": "stream",
     "text": [
      "videos:  33%|████████████████████████████████████                                                                         | 311/940 [06:01<16:29,  1.57s/it]"
     ]
    },
    {
     "name": "stdout",
     "output_type": "stream",
     "text": [
      "✅ 1697: 0 pairs stored\n"
     ]
    },
    {
     "name": "stderr",
     "output_type": "stream",
     "text": [
      "videos:  33%|████████████████████████████████████▏                                                                        | 312/940 [06:03<15:39,  1.50s/it]"
     ]
    },
    {
     "name": "stdout",
     "output_type": "stream",
     "text": [
      "✅ 1698: 51 pairs stored\n"
     ]
    },
    {
     "name": "stderr",
     "output_type": "stream",
     "text": [
      "videos:  33%|████████████████████████████████████▎                                                                        | 313/940 [06:04<13:54,  1.33s/it]"
     ]
    },
    {
     "name": "stdout",
     "output_type": "stream",
     "text": [
      "✅ 1699: 44 pairs stored\n"
     ]
    },
    {
     "name": "stderr",
     "output_type": "stream",
     "text": [
      "videos:  33%|████████████████████████████████████▍                                                                        | 314/940 [06:05<14:24,  1.38s/it]"
     ]
    },
    {
     "name": "stdout",
     "output_type": "stream",
     "text": [
      "✅ 1700: 23 pairs stored\n"
     ]
    },
    {
     "name": "stderr",
     "output_type": "stream",
     "text": [
      "videos:  34%|████████████████████████████████████▌                                                                        | 315/940 [06:07<14:42,  1.41s/it]"
     ]
    },
    {
     "name": "stdout",
     "output_type": "stream",
     "text": [
      "✅ 1701: 0 pairs stored\n"
     ]
    },
    {
     "name": "stderr",
     "output_type": "stream",
     "text": [
      "videos:  34%|████████████████████████████████████▋                                                                        | 316/940 [06:08<13:23,  1.29s/it]"
     ]
    },
    {
     "name": "stdout",
     "output_type": "stream",
     "text": [
      "✅ 1702: 10 pairs stored\n"
     ]
    },
    {
     "name": "stderr",
     "output_type": "stream",
     "text": [
      "videos:  34%|████████████████████████████████████▊                                                                        | 317/940 [06:09<12:23,  1.19s/it]"
     ]
    },
    {
     "name": "stdout",
     "output_type": "stream",
     "text": [
      "✅ 1703: 29 pairs stored\n"
     ]
    },
    {
     "name": "stderr",
     "output_type": "stream",
     "text": [
      "videos:  34%|████████████████████████████████████▊                                                                        | 318/940 [06:10<12:22,  1.19s/it]"
     ]
    },
    {
     "name": "stdout",
     "output_type": "stream",
     "text": [
      "✅ 1704: 42 pairs stored\n"
     ]
    },
    {
     "name": "stderr",
     "output_type": "stream",
     "text": [
      "videos:  34%|████████████████████████████████████▉                                                                        | 319/940 [06:11<13:00,  1.26s/it]"
     ]
    },
    {
     "name": "stdout",
     "output_type": "stream",
     "text": [
      "✅ 1705: 11 pairs stored\n"
     ]
    },
    {
     "name": "stderr",
     "output_type": "stream",
     "text": [
      "videos:  34%|█████████████████████████████████████                                                                        | 320/940 [06:12<12:35,  1.22s/it]"
     ]
    },
    {
     "name": "stdout",
     "output_type": "stream",
     "text": [
      "✅ 1706: 2 pairs stored\n"
     ]
    },
    {
     "name": "stderr",
     "output_type": "stream",
     "text": [
      "videos:  34%|█████████████████████████████████████▏                                                                       | 321/940 [06:14<12:42,  1.23s/it]"
     ]
    },
    {
     "name": "stdout",
     "output_type": "stream",
     "text": [
      "✅ 1707: 14 pairs stored\n"
     ]
    },
    {
     "name": "stderr",
     "output_type": "stream",
     "text": [
      "videos:  34%|█████████████████████████████████████▎                                                                       | 322/940 [06:15<13:15,  1.29s/it]"
     ]
    },
    {
     "name": "stdout",
     "output_type": "stream",
     "text": [
      "✅ 1708: 19 pairs stored\n"
     ]
    },
    {
     "name": "stderr",
     "output_type": "stream",
     "text": [
      "videos:  34%|█████████████████████████████████████▍                                                                       | 323/940 [06:17<15:08,  1.47s/it]"
     ]
    },
    {
     "name": "stdout",
     "output_type": "stream",
     "text": [
      "✅ 1709: 8 pairs stored\n"
     ]
    },
    {
     "name": "stderr",
     "output_type": "stream",
     "text": [
      "videos:  34%|█████████████████████████████████████▌                                                                       | 324/940 [06:19<16:52,  1.64s/it]"
     ]
    },
    {
     "name": "stdout",
     "output_type": "stream",
     "text": [
      "✅ 1710: 27 pairs stored\n"
     ]
    },
    {
     "name": "stderr",
     "output_type": "stream",
     "text": [
      "videos:  35%|█████████████████████████████████████▋                                                                       | 325/940 [06:21<18:02,  1.76s/it]"
     ]
    },
    {
     "name": "stdout",
     "output_type": "stream",
     "text": [
      "✅ 1711: 25 pairs stored\n"
     ]
    },
    {
     "name": "stderr",
     "output_type": "stream",
     "text": [
      "videos:  35%|█████████████████████████████████████▊                                                                       | 326/940 [06:22<16:08,  1.58s/it]"
     ]
    },
    {
     "name": "stdout",
     "output_type": "stream",
     "text": [
      "✅ 1712: 53 pairs stored\n"
     ]
    },
    {
     "name": "stderr",
     "output_type": "stream",
     "text": [
      "videos:  35%|█████████████████████████████████████▉                                                                       | 327/940 [06:24<17:00,  1.67s/it]"
     ]
    },
    {
     "name": "stdout",
     "output_type": "stream",
     "text": [
      "✅ 1713: 14 pairs stored\n"
     ]
    },
    {
     "name": "stderr",
     "output_type": "stream",
     "text": [
      "videos:  35%|██████████████████████████████████████                                                                       | 328/940 [06:25<16:01,  1.57s/it]"
     ]
    },
    {
     "name": "stdout",
     "output_type": "stream",
     "text": [
      "✅ 1714: 12 pairs stored\n"
     ]
    },
    {
     "name": "stderr",
     "output_type": "stream",
     "text": [
      "videos:  35%|██████████████████████████████████████▏                                                                      | 329/940 [06:28<17:54,  1.76s/it]"
     ]
    },
    {
     "name": "stdout",
     "output_type": "stream",
     "text": [
      "✅ 1715: 17 pairs stored\n"
     ]
    },
    {
     "name": "stderr",
     "output_type": "stream",
     "text": [
      "videos:  35%|██████████████████████████████████████▎                                                                      | 330/940 [06:29<18:31,  1.82s/it]"
     ]
    },
    {
     "name": "stdout",
     "output_type": "stream",
     "text": [
      "✅ 1716: 10 pairs stored\n"
     ]
    },
    {
     "name": "stderr",
     "output_type": "stream",
     "text": [
      "videos:  35%|██████████████████████████████████████▍                                                                      | 331/940 [06:31<18:51,  1.86s/it]"
     ]
    },
    {
     "name": "stdout",
     "output_type": "stream",
     "text": [
      "✅ 1717: 36 pairs stored\n"
     ]
    },
    {
     "name": "stderr",
     "output_type": "stream",
     "text": [
      "videos:  35%|██████████████████████████████████████▍                                                                      | 332/940 [06:34<19:29,  1.92s/it]"
     ]
    },
    {
     "name": "stdout",
     "output_type": "stream",
     "text": [
      "✅ 1718: 2 pairs stored\n"
     ]
    },
    {
     "name": "stderr",
     "output_type": "stream",
     "text": [
      "videos:  35%|██████████████████████████████████████▌                                                                      | 333/940 [06:36<21:30,  2.13s/it]"
     ]
    },
    {
     "name": "stdout",
     "output_type": "stream",
     "text": [
      "✅ 1719: 4 pairs stored\n"
     ]
    },
    {
     "name": "stderr",
     "output_type": "stream",
     "text": [
      "videos:  36%|██████████████████████████████████████▋                                                                      | 334/940 [06:38<19:17,  1.91s/it]"
     ]
    },
    {
     "name": "stdout",
     "output_type": "stream",
     "text": [
      "✅ 1720: 25 pairs stored\n"
     ]
    },
    {
     "name": "stderr",
     "output_type": "stream",
     "text": [
      "videos:  36%|██████████████████████████████████████▊                                                                      | 335/940 [06:39<17:10,  1.70s/it]"
     ]
    },
    {
     "name": "stdout",
     "output_type": "stream",
     "text": [
      "✅ 1721: 2 pairs stored\n"
     ]
    },
    {
     "name": "stderr",
     "output_type": "stream",
     "text": [
      "videos:  36%|██████████████████████████████████████▉                                                                      | 336/940 [06:40<16:33,  1.64s/it]"
     ]
    },
    {
     "name": "stdout",
     "output_type": "stream",
     "text": [
      "✅ 1722: 0 pairs stored\n"
     ]
    },
    {
     "name": "stderr",
     "output_type": "stream",
     "text": [
      "videos:  36%|███████████████████████████████████████                                                                      | 337/940 [06:41<14:25,  1.44s/it]"
     ]
    },
    {
     "name": "stdout",
     "output_type": "stream",
     "text": [
      "✅ 1723: 17 pairs stored\n"
     ]
    },
    {
     "name": "stderr",
     "output_type": "stream",
     "text": [
      "videos:  36%|███████████████████████████████████████▏                                                                     | 338/940 [06:42<13:12,  1.32s/it]"
     ]
    },
    {
     "name": "stdout",
     "output_type": "stream",
     "text": [
      "✅ 1724: 21 pairs stored\n"
     ]
    },
    {
     "name": "stderr",
     "output_type": "stream",
     "text": [
      "videos:  36%|███████████████████████████████████████▎                                                                     | 339/940 [06:45<18:54,  1.89s/it]"
     ]
    },
    {
     "name": "stdout",
     "output_type": "stream",
     "text": [
      "✅ 1725: 30 pairs stored\n"
     ]
    },
    {
     "name": "stderr",
     "output_type": "stream",
     "text": [
      "videos:  36%|███████████████████████████████████████▍                                                                     | 340/940 [06:47<17:33,  1.76s/it]"
     ]
    },
    {
     "name": "stdout",
     "output_type": "stream",
     "text": [
      "✅ 1726: 44 pairs stored\n"
     ]
    },
    {
     "name": "stderr",
     "output_type": "stream",
     "text": [
      "videos:  36%|███████████████████████████████████████▌                                                                     | 341/940 [06:48<17:00,  1.70s/it]"
     ]
    },
    {
     "name": "stdout",
     "output_type": "stream",
     "text": [
      "✅ 1727: 27 pairs stored\n"
     ]
    },
    {
     "name": "stderr",
     "output_type": "stream",
     "text": [
      "videos:  36%|███████████████████████████████████████▋                                                                     | 342/940 [06:50<16:02,  1.61s/it]"
     ]
    },
    {
     "name": "stdout",
     "output_type": "stream",
     "text": [
      "✅ 1728: 27 pairs stored\n"
     ]
    },
    {
     "name": "stderr",
     "output_type": "stream",
     "text": [
      "videos:  36%|███████████████████████████████████████▊                                                                     | 343/940 [06:52<16:53,  1.70s/it]"
     ]
    },
    {
     "name": "stdout",
     "output_type": "stream",
     "text": [
      "✅ 1729: 29 pairs stored\n"
     ]
    },
    {
     "name": "stderr",
     "output_type": "stream",
     "text": [
      "videos:  37%|███████████████████████████████████████▉                                                                     | 344/940 [06:54<17:14,  1.74s/it]"
     ]
    },
    {
     "name": "stdout",
     "output_type": "stream",
     "text": [
      "✅ 1730: 19 pairs stored\n"
     ]
    },
    {
     "name": "stderr",
     "output_type": "stream",
     "text": [
      "videos:  37%|████████████████████████████████████████                                                                     | 345/940 [06:55<16:19,  1.65s/it]"
     ]
    },
    {
     "name": "stdout",
     "output_type": "stream",
     "text": [
      "✅ 1731: 14 pairs stored\n"
     ]
    },
    {
     "name": "stderr",
     "output_type": "stream",
     "text": [
      "videos:  37%|████████████████████████████████████████                                                                     | 346/940 [06:57<18:17,  1.85s/it]"
     ]
    },
    {
     "name": "stdout",
     "output_type": "stream",
     "text": [
      "✅ 1732: 8 pairs stored\n"
     ]
    },
    {
     "name": "stderr",
     "output_type": "stream",
     "text": [
      "videos:  37%|████████████████████████████████████████▏                                                                    | 347/940 [06:59<16:35,  1.68s/it]"
     ]
    },
    {
     "name": "stdout",
     "output_type": "stream",
     "text": [
      "✅ 1733: 19 pairs stored\n"
     ]
    },
    {
     "name": "stderr",
     "output_type": "stream",
     "text": [
      "videos:  37%|████████████████████████████████████████▎                                                                    | 348/940 [07:01<19:08,  1.94s/it]"
     ]
    },
    {
     "name": "stdout",
     "output_type": "stream",
     "text": [
      "✅ 1734: 14 pairs stored\n"
     ]
    },
    {
     "name": "stderr",
     "output_type": "stream",
     "text": [
      "videos:  37%|████████████████████████████████████████▍                                                                    | 349/940 [07:02<15:45,  1.60s/it]"
     ]
    },
    {
     "name": "stdout",
     "output_type": "stream",
     "text": [
      "✅ 1735: 20 pairs stored\n"
     ]
    },
    {
     "name": "stderr",
     "output_type": "stream",
     "text": [
      "videos:  37%|████████████████████████████████████████▌                                                                    | 350/940 [07:03<15:25,  1.57s/it]"
     ]
    },
    {
     "name": "stdout",
     "output_type": "stream",
     "text": [
      "✅ 1736: 14 pairs stored\n"
     ]
    },
    {
     "name": "stderr",
     "output_type": "stream",
     "text": [
      "videos:  37%|████████████████████████████████████████▋                                                                    | 351/940 [07:06<17:09,  1.75s/it]"
     ]
    },
    {
     "name": "stdout",
     "output_type": "stream",
     "text": [
      "✅ 1737: 33 pairs stored\n"
     ]
    },
    {
     "name": "stderr",
     "output_type": "stream",
     "text": [
      "videos:  37%|████████████████████████████████████████▊                                                                    | 352/940 [07:07<15:16,  1.56s/it]"
     ]
    },
    {
     "name": "stdout",
     "output_type": "stream",
     "text": [
      "✅ 1738: 30 pairs stored\n"
     ]
    },
    {
     "name": "stderr",
     "output_type": "stream",
     "text": [
      "videos:  38%|████████████████████████████████████████▉                                                                    | 353/940 [07:08<14:14,  1.46s/it]"
     ]
    },
    {
     "name": "stdout",
     "output_type": "stream",
     "text": [
      "✅ 1739: 22 pairs stored\n"
     ]
    },
    {
     "name": "stderr",
     "output_type": "stream",
     "text": [
      "videos:  38%|█████████████████████████████████████████                                                                    | 354/940 [07:10<15:24,  1.58s/it]"
     ]
    },
    {
     "name": "stdout",
     "output_type": "stream",
     "text": [
      "✅ 1740: 44 pairs stored\n"
     ]
    },
    {
     "name": "stderr",
     "output_type": "stream",
     "text": [
      "videos:  38%|█████████████████████████████████████████▏                                                                   | 355/940 [07:11<13:23,  1.37s/it]"
     ]
    },
    {
     "name": "stdout",
     "output_type": "stream",
     "text": [
      "✅ 1741: 14 pairs stored\n"
     ]
    },
    {
     "name": "stderr",
     "output_type": "stream",
     "text": [
      "videos:  38%|█████████████████████████████████████████▎                                                                   | 356/940 [07:12<12:18,  1.26s/it]"
     ]
    },
    {
     "name": "stdout",
     "output_type": "stream",
     "text": [
      "✅ 1742: 0 pairs stored\n"
     ]
    },
    {
     "name": "stderr",
     "output_type": "stream",
     "text": [
      "videos:  38%|█████████████████████████████████████████▍                                                                   | 357/940 [07:13<11:01,  1.13s/it]"
     ]
    },
    {
     "name": "stdout",
     "output_type": "stream",
     "text": [
      "✅ 1743: 15 pairs stored\n"
     ]
    },
    {
     "name": "stderr",
     "output_type": "stream",
     "text": [
      "videos:  38%|█████████████████████████████████████████▌                                                                   | 358/940 [07:14<10:25,  1.08s/it]"
     ]
    },
    {
     "name": "stdout",
     "output_type": "stream",
     "text": [
      "✅ 1744: 0 pairs stored\n"
     ]
    },
    {
     "name": "stderr",
     "output_type": "stream",
     "text": [
      "videos:  38%|█████████████████████████████████████████▋                                                                   | 359/940 [07:14<09:56,  1.03s/it]"
     ]
    },
    {
     "name": "stdout",
     "output_type": "stream",
     "text": [
      "✅ 1745: 14 pairs stored\n"
     ]
    },
    {
     "name": "stderr",
     "output_type": "stream",
     "text": [
      "videos:  38%|█████████████████████████████████████████▋                                                                   | 360/940 [07:16<12:42,  1.32s/it]"
     ]
    },
    {
     "name": "stdout",
     "output_type": "stream",
     "text": [
      "✅ 1746: 22 pairs stored\n"
     ]
    },
    {
     "name": "stderr",
     "output_type": "stream",
     "text": [
      "videos:  38%|█████████████████████████████████████████▊                                                                   | 361/940 [07:18<13:38,  1.41s/it]"
     ]
    },
    {
     "name": "stdout",
     "output_type": "stream",
     "text": [
      "✅ 1747: 23 pairs stored\n"
     ]
    },
    {
     "name": "stderr",
     "output_type": "stream",
     "text": [
      "videos:  39%|█████████████████████████████████████████▉                                                                   | 362/940 [07:20<14:25,  1.50s/it]"
     ]
    },
    {
     "name": "stdout",
     "output_type": "stream",
     "text": [
      "✅ 1748: 34 pairs stored\n"
     ]
    },
    {
     "name": "stderr",
     "output_type": "stream",
     "text": [
      "videos:  39%|██████████████████████████████████████████                                                                   | 363/940 [07:22<15:50,  1.65s/it]"
     ]
    },
    {
     "name": "stdout",
     "output_type": "stream",
     "text": [
      "✅ 1749: 35 pairs stored\n"
     ]
    },
    {
     "name": "stderr",
     "output_type": "stream",
     "text": [
      "videos:  39%|██████████████████████████████████████████▏                                                                  | 364/940 [07:24<16:32,  1.72s/it]"
     ]
    },
    {
     "name": "stdout",
     "output_type": "stream",
     "text": [
      "✅ 1750: 46 pairs stored\n"
     ]
    },
    {
     "name": "stderr",
     "output_type": "stream",
     "text": [
      "videos:  39%|██████████████████████████████████████████▎                                                                  | 365/940 [07:25<16:12,  1.69s/it]"
     ]
    },
    {
     "name": "stdout",
     "output_type": "stream",
     "text": [
      "✅ 1751: 25 pairs stored\n"
     ]
    },
    {
     "name": "stderr",
     "output_type": "stream",
     "text": [
      "videos:  39%|██████████████████████████████████████████▍                                                                  | 366/940 [07:27<16:34,  1.73s/it]"
     ]
    },
    {
     "name": "stdout",
     "output_type": "stream",
     "text": [
      "✅ 1752: 42 pairs stored\n"
     ]
    },
    {
     "name": "stderr",
     "output_type": "stream",
     "text": [
      "videos:  39%|██████████████████████████████████████████▌                                                                  | 367/940 [07:29<17:15,  1.81s/it]"
     ]
    },
    {
     "name": "stdout",
     "output_type": "stream",
     "text": [
      "✅ 1753: 26 pairs stored\n"
     ]
    },
    {
     "name": "stderr",
     "output_type": "stream",
     "text": [
      "videos:  39%|██████████████████████████████████████████▋                                                                  | 368/940 [07:33<22:36,  2.37s/it]"
     ]
    },
    {
     "name": "stdout",
     "output_type": "stream",
     "text": [
      "✅ 1754: 16 pairs stored\n"
     ]
    },
    {
     "name": "stderr",
     "output_type": "stream",
     "text": [
      "videos:  39%|██████████████████████████████████████████▊                                                                  | 369/940 [07:35<21:28,  2.26s/it]"
     ]
    },
    {
     "name": "stdout",
     "output_type": "stream",
     "text": [
      "✅ 1755: 10 pairs stored\n"
     ]
    },
    {
     "name": "stderr",
     "output_type": "stream",
     "text": [
      "videos:  39%|██████████████████████████████████████████▉                                                                  | 370/940 [07:37<20:22,  2.14s/it]"
     ]
    },
    {
     "name": "stdout",
     "output_type": "stream",
     "text": [
      "✅ 1756: 42 pairs stored\n"
     ]
    },
    {
     "name": "stderr",
     "output_type": "stream",
     "text": [
      "videos:  39%|███████████████████████████████████████████                                                                  | 371/940 [07:39<20:41,  2.18s/it]"
     ]
    },
    {
     "name": "stdout",
     "output_type": "stream",
     "text": [
      "✅ 1757: 49 pairs stored\n"
     ]
    },
    {
     "name": "stderr",
     "output_type": "stream",
     "text": [
      "videos:  40%|███████████████████████████████████████████▏                                                                 | 372/940 [07:41<19:55,  2.10s/it]"
     ]
    },
    {
     "name": "stdout",
     "output_type": "stream",
     "text": [
      "✅ 1758: 31 pairs stored\n"
     ]
    },
    {
     "name": "stderr",
     "output_type": "stream",
     "text": [
      "videos:  40%|███████████████████████████████████████████▎                                                                 | 373/940 [07:44<21:52,  2.31s/it]"
     ]
    },
    {
     "name": "stdout",
     "output_type": "stream",
     "text": [
      "✅ 1759: 45 pairs stored\n"
     ]
    },
    {
     "name": "stderr",
     "output_type": "stream",
     "text": [
      "videos:  40%|███████████████████████████████████████████▎                                                                 | 374/940 [07:46<22:49,  2.42s/it]"
     ]
    },
    {
     "name": "stdout",
     "output_type": "stream",
     "text": [
      "✅ 1760: 57 pairs stored\n"
     ]
    },
    {
     "name": "stderr",
     "output_type": "stream",
     "text": [
      "videos:  40%|███████████████████████████████████████████▍                                                                 | 375/940 [07:49<23:40,  2.51s/it]"
     ]
    },
    {
     "name": "stdout",
     "output_type": "stream",
     "text": [
      "✅ 1761: 52 pairs stored\n"
     ]
    },
    {
     "name": "stderr",
     "output_type": "stream",
     "text": [
      "videos:  40%|███████████████████████████████████████████▌                                                                 | 376/940 [07:50<20:06,  2.14s/it]"
     ]
    },
    {
     "name": "stdout",
     "output_type": "stream",
     "text": [
      "✅ 1762: 48 pairs stored\n"
     ]
    },
    {
     "name": "stderr",
     "output_type": "stream",
     "text": [
      "videos:  40%|███████████████████████████████████████████▋                                                                 | 377/940 [07:52<18:49,  2.01s/it]"
     ]
    },
    {
     "name": "stdout",
     "output_type": "stream",
     "text": [
      "✅ 1763: 45 pairs stored\n"
     ]
    },
    {
     "name": "stderr",
     "output_type": "stream",
     "text": [
      "videos:  40%|███████████████████████████████████████████▊                                                                 | 378/940 [07:54<19:56,  2.13s/it]"
     ]
    },
    {
     "name": "stdout",
     "output_type": "stream",
     "text": [
      "✅ 1764: 74 pairs stored\n"
     ]
    },
    {
     "name": "stderr",
     "output_type": "stream",
     "text": [
      "videos:  40%|███████████████████████████████████████████▉                                                                 | 379/940 [07:57<20:27,  2.19s/it]"
     ]
    },
    {
     "name": "stdout",
     "output_type": "stream",
     "text": [
      "✅ 1765: 59 pairs stored\n"
     ]
    },
    {
     "name": "stderr",
     "output_type": "stream",
     "text": [
      "videos:  40%|████████████████████████████████████████████                                                                 | 380/940 [07:59<19:35,  2.10s/it]"
     ]
    },
    {
     "name": "stdout",
     "output_type": "stream",
     "text": [
      "✅ 1766: 52 pairs stored\n"
     ]
    },
    {
     "name": "stderr",
     "output_type": "stream",
     "text": [
      "videos:  41%|████████████████████████████████████████████▏                                                                | 381/940 [08:01<21:40,  2.33s/it]"
     ]
    },
    {
     "name": "stdout",
     "output_type": "stream",
     "text": [
      "✅ 1767: 52 pairs stored\n"
     ]
    },
    {
     "name": "stderr",
     "output_type": "stream",
     "text": [
      "videos:  41%|████████████████████████████████████████████▎                                                                | 382/940 [08:03<20:42,  2.23s/it]"
     ]
    },
    {
     "name": "stdout",
     "output_type": "stream",
     "text": [
      "✅ 1768: 47 pairs stored\n"
     ]
    },
    {
     "name": "stderr",
     "output_type": "stream",
     "text": [
      "videos:  41%|████████████████████████████████████████████▍                                                                | 383/940 [08:06<21:16,  2.29s/it]"
     ]
    },
    {
     "name": "stdout",
     "output_type": "stream",
     "text": [
      "✅ 1769: 57 pairs stored\n"
     ]
    },
    {
     "name": "stderr",
     "output_type": "stream",
     "text": [
      "videos:  41%|████████████████████████████████████████████▌                                                                | 384/940 [08:08<19:45,  2.13s/it]"
     ]
    },
    {
     "name": "stdout",
     "output_type": "stream",
     "text": [
      "✅ 1770: 35 pairs stored\n"
     ]
    },
    {
     "name": "stderr",
     "output_type": "stream",
     "text": [
      "videos:  41%|████████████████████████████████████████████▋                                                                | 385/940 [08:10<18:56,  2.05s/it]"
     ]
    },
    {
     "name": "stdout",
     "output_type": "stream",
     "text": [
      "✅ 1771: 50 pairs stored\n"
     ]
    },
    {
     "name": "stderr",
     "output_type": "stream",
     "text": [
      "videos:  41%|████████████████████████████████████████████▊                                                                | 386/940 [08:11<17:56,  1.94s/it]"
     ]
    },
    {
     "name": "stdout",
     "output_type": "stream",
     "text": [
      "✅ 1772: 31 pairs stored\n"
     ]
    },
    {
     "name": "stderr",
     "output_type": "stream",
     "text": [
      "videos:  41%|████████████████████████████████████████████▉                                                                | 387/940 [08:14<19:13,  2.09s/it]"
     ]
    },
    {
     "name": "stdout",
     "output_type": "stream",
     "text": [
      "✅ 1773: 35 pairs stored\n"
     ]
    },
    {
     "name": "stderr",
     "output_type": "stream",
     "text": [
      "videos:  41%|████████████████████████████████████████████▉                                                                | 388/940 [08:15<16:35,  1.80s/it]"
     ]
    },
    {
     "name": "stdout",
     "output_type": "stream",
     "text": [
      "✅ 1774: 10 pairs stored\n"
     ]
    },
    {
     "name": "stderr",
     "output_type": "stream",
     "text": [
      "videos:  41%|█████████████████████████████████████████████                                                                | 389/940 [08:18<20:49,  2.27s/it]"
     ]
    },
    {
     "name": "stdout",
     "output_type": "stream",
     "text": [
      "✅ 1775: 19 pairs stored\n"
     ]
    },
    {
     "name": "stderr",
     "output_type": "stream",
     "text": [
      "videos:  41%|█████████████████████████████████████████████▏                                                               | 390/940 [08:20<19:44,  2.15s/it]"
     ]
    },
    {
     "name": "stdout",
     "output_type": "stream",
     "text": [
      "✅ 1776: 32 pairs stored\n"
     ]
    },
    {
     "name": "stderr",
     "output_type": "stream",
     "text": [
      "videos:  42%|█████████████████████████████████████████████▎                                                               | 391/940 [08:22<18:19,  2.00s/it]"
     ]
    },
    {
     "name": "stdout",
     "output_type": "stream",
     "text": [
      "✅ 1777: 57 pairs stored\n"
     ]
    },
    {
     "name": "stderr",
     "output_type": "stream",
     "text": [
      "videos:  42%|█████████████████████████████████████████████▍                                                               | 392/940 [08:24<17:44,  1.94s/it]"
     ]
    },
    {
     "name": "stdout",
     "output_type": "stream",
     "text": [
      "✅ 1778: 55 pairs stored\n"
     ]
    },
    {
     "name": "stderr",
     "output_type": "stream",
     "text": [
      "videos:  42%|█████████████████████████████████████████████▌                                                               | 393/940 [08:25<17:08,  1.88s/it]"
     ]
    },
    {
     "name": "stdout",
     "output_type": "stream",
     "text": [
      "✅ 1779: 35 pairs stored\n"
     ]
    },
    {
     "name": "stderr",
     "output_type": "stream",
     "text": [
      "videos:  42%|█████████████████████████████████████████████▋                                                               | 394/940 [08:27<15:52,  1.74s/it]"
     ]
    },
    {
     "name": "stdout",
     "output_type": "stream",
     "text": [
      "✅ 1780: 0 pairs stored\n"
     ]
    },
    {
     "name": "stderr",
     "output_type": "stream",
     "text": [
      "videos:  42%|█████████████████████████████████████████████▊                                                               | 395/940 [08:28<14:45,  1.63s/it]"
     ]
    },
    {
     "name": "stdout",
     "output_type": "stream",
     "text": [
      "✅ 1781: 17 pairs stored\n"
     ]
    },
    {
     "name": "stderr",
     "output_type": "stream",
     "text": [
      "videos:  42%|█████████████████████████████████████████████▉                                                               | 396/940 [08:29<13:21,  1.47s/it]"
     ]
    },
    {
     "name": "stdout",
     "output_type": "stream",
     "text": [
      "✅ 1782: 9 pairs stored\n"
     ]
    },
    {
     "name": "stderr",
     "output_type": "stream",
     "text": [
      "videos:  42%|██████████████████████████████████████████████                                                               | 397/940 [08:31<13:04,  1.44s/it]"
     ]
    },
    {
     "name": "stdout",
     "output_type": "stream",
     "text": [
      "✅ 1783: 27 pairs stored\n"
     ]
    },
    {
     "name": "stderr",
     "output_type": "stream",
     "text": [
      "videos:  42%|██████████████████████████████████████████████▏                                                              | 398/940 [08:32<12:53,  1.43s/it]"
     ]
    },
    {
     "name": "stdout",
     "output_type": "stream",
     "text": [
      "✅ 1784: 37 pairs stored\n"
     ]
    },
    {
     "name": "stderr",
     "output_type": "stream",
     "text": [
      "videos:  42%|██████████████████████████████████████████████▎                                                              | 399/940 [08:33<12:54,  1.43s/it]"
     ]
    },
    {
     "name": "stdout",
     "output_type": "stream",
     "text": [
      "✅ 1785: 38 pairs stored\n"
     ]
    },
    {
     "name": "stderr",
     "output_type": "stream",
     "text": [
      "videos:  43%|██████████████████████████████████████████████▍                                                              | 400/940 [08:35<12:51,  1.43s/it]"
     ]
    },
    {
     "name": "stdout",
     "output_type": "stream",
     "text": [
      "✅ 1786: 14 pairs stored\n"
     ]
    },
    {
     "name": "stderr",
     "output_type": "stream",
     "text": [
      "videos:  43%|██████████████████████████████████████████████▍                                                              | 401/940 [08:37<14:12,  1.58s/it]"
     ]
    },
    {
     "name": "stdout",
     "output_type": "stream",
     "text": [
      "✅ 1787: 5 pairs stored\n"
     ]
    },
    {
     "name": "stderr",
     "output_type": "stream",
     "text": [
      "videos:  43%|██████████████████████████████████████████████▌                                                              | 402/940 [08:38<14:21,  1.60s/it]"
     ]
    },
    {
     "name": "stdout",
     "output_type": "stream",
     "text": [
      "✅ 1788: 2 pairs stored\n"
     ]
    },
    {
     "name": "stderr",
     "output_type": "stream",
     "text": [
      "videos:  43%|██████████████████████████████████████████████▋                                                              | 403/940 [08:40<14:03,  1.57s/it]"
     ]
    },
    {
     "name": "stdout",
     "output_type": "stream",
     "text": [
      "✅ 1789: 13 pairs stored\n"
     ]
    },
    {
     "name": "stderr",
     "output_type": "stream",
     "text": [
      "videos:  43%|██████████████████████████████████████████████▊                                                              | 404/940 [08:41<13:04,  1.46s/it]"
     ]
    },
    {
     "name": "stdout",
     "output_type": "stream",
     "text": [
      "✅ 1790: 27 pairs stored\n"
     ]
    },
    {
     "name": "stderr",
     "output_type": "stream",
     "text": [
      "videos:  43%|██████████████████████████████████████████████▉                                                              | 405/940 [08:43<13:08,  1.47s/it]"
     ]
    },
    {
     "name": "stdout",
     "output_type": "stream",
     "text": [
      "✅ 1791: 52 pairs stored\n"
     ]
    },
    {
     "name": "stderr",
     "output_type": "stream",
     "text": [
      "videos:  43%|███████████████████████████████████████████████                                                              | 406/940 [08:45<16:10,  1.82s/it]"
     ]
    },
    {
     "name": "stdout",
     "output_type": "stream",
     "text": [
      "✅ 1792: 12 pairs stored\n"
     ]
    },
    {
     "name": "stderr",
     "output_type": "stream",
     "text": [
      "videos:  43%|███████████████████████████████████████████████▏                                                             | 407/940 [08:47<15:44,  1.77s/it]"
     ]
    },
    {
     "name": "stdout",
     "output_type": "stream",
     "text": [
      "✅ 1793: 39 pairs stored\n"
     ]
    },
    {
     "name": "stderr",
     "output_type": "stream",
     "text": [
      "videos:  43%|███████████████████████████████████████████████▎                                                             | 408/940 [08:49<16:34,  1.87s/it]"
     ]
    },
    {
     "name": "stdout",
     "output_type": "stream",
     "text": [
      "✅ 1794: 49 pairs stored\n"
     ]
    },
    {
     "name": "stderr",
     "output_type": "stream",
     "text": [
      "videos:  44%|███████████████████████████████████████████████▍                                                             | 409/940 [08:50<14:04,  1.59s/it]"
     ]
    },
    {
     "name": "stdout",
     "output_type": "stream",
     "text": [
      "✅ 1795: 30 pairs stored\n"
     ]
    },
    {
     "name": "stderr",
     "output_type": "stream",
     "text": [
      "videos:  44%|███████████████████████████████████████████████▌                                                             | 410/940 [08:51<12:29,  1.41s/it]"
     ]
    },
    {
     "name": "stdout",
     "output_type": "stream",
     "text": [
      "✅ 1796: 5 pairs stored\n"
     ]
    },
    {
     "name": "stderr",
     "output_type": "stream",
     "text": [
      "videos:  44%|███████████████████████████████████████████████▋                                                             | 411/940 [08:52<11:08,  1.26s/it]"
     ]
    },
    {
     "name": "stdout",
     "output_type": "stream",
     "text": [
      "✅ 1797: 1 pairs stored\n"
     ]
    },
    {
     "name": "stderr",
     "output_type": "stream",
     "text": [
      "videos:  44%|███████████████████████████████████████████████▊                                                             | 412/940 [08:54<14:39,  1.67s/it]"
     ]
    },
    {
     "name": "stdout",
     "output_type": "stream",
     "text": [
      "✅ 1798: 22 pairs stored\n"
     ]
    },
    {
     "name": "stderr",
     "output_type": "stream",
     "text": [
      "videos:  44%|███████████████████████████████████████████████▉                                                             | 413/940 [08:56<14:33,  1.66s/it]"
     ]
    },
    {
     "name": "stdout",
     "output_type": "stream",
     "text": [
      "✅ 1799: 7 pairs stored\n"
     ]
    },
    {
     "name": "stderr",
     "output_type": "stream",
     "text": [
      "videos:  44%|████████████████████████████████████████████████                                                             | 414/940 [08:58<16:11,  1.85s/it]"
     ]
    },
    {
     "name": "stdout",
     "output_type": "stream",
     "text": [
      "✅ 1800: 39 pairs stored\n"
     ]
    },
    {
     "name": "stderr",
     "output_type": "stream",
     "text": [
      "videos:  44%|████████████████████████████████████████████████                                                             | 415/940 [09:00<15:12,  1.74s/it]"
     ]
    },
    {
     "name": "stdout",
     "output_type": "stream",
     "text": [
      "✅ 1801: 69 pairs stored\n"
     ]
    },
    {
     "name": "stderr",
     "output_type": "stream",
     "text": [
      "videos:  44%|████████████████████████████████████████████████▏                                                            | 416/940 [09:02<15:06,  1.73s/it]"
     ]
    },
    {
     "name": "stdout",
     "output_type": "stream",
     "text": [
      "✅ 1802: 55 pairs stored\n"
     ]
    },
    {
     "name": "stderr",
     "output_type": "stream",
     "text": [
      "videos:  44%|████████████████████████████████████████████████▎                                                            | 417/940 [09:03<13:58,  1.60s/it]"
     ]
    },
    {
     "name": "stdout",
     "output_type": "stream",
     "text": [
      "✅ 1803: 64 pairs stored\n"
     ]
    },
    {
     "name": "stderr",
     "output_type": "stream",
     "text": [
      "videos:  44%|████████████████████████████████████████████████▍                                                            | 418/940 [09:04<12:57,  1.49s/it]"
     ]
    },
    {
     "name": "stdout",
     "output_type": "stream",
     "text": [
      "✅ 1804: 40 pairs stored\n"
     ]
    },
    {
     "name": "stderr",
     "output_type": "stream",
     "text": [
      "videos:  45%|████████████████████████████████████████████████▌                                                            | 419/940 [09:05<12:16,  1.41s/it]"
     ]
    },
    {
     "name": "stdout",
     "output_type": "stream",
     "text": [
      "✅ 1805: 47 pairs stored\n"
     ]
    },
    {
     "name": "stderr",
     "output_type": "stream",
     "text": [
      "videos:  45%|████████████████████████████████████████████████▋                                                            | 420/940 [09:06<09:30,  1.10s/it]"
     ]
    },
    {
     "name": "stdout",
     "output_type": "stream",
     "text": [
      "✅ 1806: 1 pairs stored\n"
     ]
    },
    {
     "name": "stderr",
     "output_type": "stream",
     "text": [
      "videos:  45%|████████████████████████████████████████████████▊                                                            | 421/940 [09:08<12:51,  1.49s/it]"
     ]
    },
    {
     "name": "stdout",
     "output_type": "stream",
     "text": [
      "✅ 1807: 10 pairs stored\n"
     ]
    },
    {
     "name": "stderr",
     "output_type": "stream",
     "text": [
      "videos:  45%|████████████████████████████████████████████████▉                                                            | 422/940 [09:10<14:39,  1.70s/it]"
     ]
    },
    {
     "name": "stdout",
     "output_type": "stream",
     "text": [
      "✅ 1808: 16 pairs stored\n"
     ]
    },
    {
     "name": "stderr",
     "output_type": "stream",
     "text": [
      "videos:  45%|█████████████████████████████████████████████████                                                            | 423/940 [09:12<14:05,  1.63s/it]"
     ]
    },
    {
     "name": "stdout",
     "output_type": "stream",
     "text": [
      "✅ 1809: 0 pairs stored\n"
     ]
    },
    {
     "name": "stderr",
     "output_type": "stream",
     "text": [
      "videos:  45%|█████████████████████████████████████████████████▏                                                           | 424/940 [09:13<12:33,  1.46s/it]"
     ]
    },
    {
     "name": "stdout",
     "output_type": "stream",
     "text": [
      "✅ 1810: 0 pairs stored\n"
     ]
    },
    {
     "name": "stderr",
     "output_type": "stream",
     "text": [
      "videos:  45%|█████████████████████████████████████████████████▎                                                           | 425/940 [09:14<12:12,  1.42s/it]"
     ]
    },
    {
     "name": "stdout",
     "output_type": "stream",
     "text": [
      "✅ 1811: 0 pairs stored\n"
     ]
    },
    {
     "name": "stderr",
     "output_type": "stream",
     "text": [
      "videos:  45%|█████████████████████████████████████████████████▍                                                           | 426/940 [09:16<14:39,  1.71s/it]"
     ]
    },
    {
     "name": "stdout",
     "output_type": "stream",
     "text": [
      "✅ 1812: 9 pairs stored\n"
     ]
    },
    {
     "name": "stderr",
     "output_type": "stream",
     "text": [
      "videos:  45%|█████████████████████████████████████████████████▌                                                           | 427/940 [09:18<13:38,  1.60s/it]"
     ]
    },
    {
     "name": "stdout",
     "output_type": "stream",
     "text": [
      "✅ 1813: 0 pairs stored\n"
     ]
    },
    {
     "name": "stderr",
     "output_type": "stream",
     "text": [
      "videos:  46%|█████████████████████████████████████████████████▋                                                           | 428/940 [09:19<12:37,  1.48s/it]"
     ]
    },
    {
     "name": "stdout",
     "output_type": "stream",
     "text": [
      "✅ 1814: 5 pairs stored\n"
     ]
    },
    {
     "name": "stderr",
     "output_type": "stream",
     "text": [
      "videos:  46%|█████████████████████████████████████████████████▋                                                           | 429/940 [09:20<12:00,  1.41s/it]"
     ]
    },
    {
     "name": "stdout",
     "output_type": "stream",
     "text": [
      "✅ 1815: 27 pairs stored\n"
     ]
    },
    {
     "name": "stderr",
     "output_type": "stream",
     "text": [
      "videos:  46%|█████████████████████████████████████████████████▊                                                           | 430/940 [09:22<12:31,  1.47s/it]"
     ]
    },
    {
     "name": "stdout",
     "output_type": "stream",
     "text": [
      "✅ 1816: 28 pairs stored\n"
     ]
    },
    {
     "name": "stderr",
     "output_type": "stream",
     "text": [
      "videos:  46%|█████████████████████████████████████████████████▉                                                           | 431/940 [09:23<10:53,  1.28s/it]"
     ]
    },
    {
     "name": "stdout",
     "output_type": "stream",
     "text": [
      "✅ 1817: 0 pairs stored\n"
     ]
    },
    {
     "name": "stderr",
     "output_type": "stream",
     "text": [
      "videos:  46%|██████████████████████████████████████████████████                                                           | 432/940 [09:24<09:41,  1.14s/it]"
     ]
    },
    {
     "name": "stdout",
     "output_type": "stream",
     "text": [
      "✅ 1818: 0 pairs stored\n"
     ]
    },
    {
     "name": "stderr",
     "output_type": "stream",
     "text": [
      "videos:  46%|██████████████████████████████████████████████████▏                                                          | 433/940 [09:25<11:04,  1.31s/it]"
     ]
    },
    {
     "name": "stdout",
     "output_type": "stream",
     "text": [
      "✅ 1819: 13 pairs stored\n"
     ]
    },
    {
     "name": "stderr",
     "output_type": "stream",
     "text": [
      "videos:  46%|██████████████████████████████████████████████████▎                                                          | 434/940 [09:26<10:19,  1.22s/it]"
     ]
    },
    {
     "name": "stdout",
     "output_type": "stream",
     "text": [
      "✅ 1820: 0 pairs stored\n"
     ]
    },
    {
     "name": "stderr",
     "output_type": "stream",
     "text": [
      "videos:  46%|██████████████████████████████████████████████████▍                                                          | 435/940 [09:28<11:34,  1.37s/it]"
     ]
    },
    {
     "name": "stdout",
     "output_type": "stream",
     "text": [
      "✅ 1821: 16 pairs stored\n"
     ]
    },
    {
     "name": "stderr",
     "output_type": "stream",
     "text": [
      "videos:  46%|██████████████████████████████████████████████████▌                                                          | 436/940 [09:30<12:01,  1.43s/it]"
     ]
    },
    {
     "name": "stdout",
     "output_type": "stream",
     "text": [
      "✅ 1822: 5 pairs stored\n"
     ]
    },
    {
     "name": "stderr",
     "output_type": "stream",
     "text": [
      "videos:  46%|██████████████████████████████████████████████████▋                                                          | 437/940 [09:31<12:27,  1.49s/it]"
     ]
    },
    {
     "name": "stdout",
     "output_type": "stream",
     "text": [
      "✅ 1823: 6 pairs stored\n"
     ]
    },
    {
     "name": "stderr",
     "output_type": "stream",
     "text": [
      "videos:  47%|██████████████████████████████████████████████████▊                                                          | 438/940 [09:32<11:15,  1.35s/it]"
     ]
    },
    {
     "name": "stdout",
     "output_type": "stream",
     "text": [
      "✅ 1824: 0 pairs stored\n"
     ]
    },
    {
     "name": "stderr",
     "output_type": "stream",
     "text": [
      "videos:  47%|██████████████████████████████████████████████████▉                                                          | 439/940 [09:34<11:57,  1.43s/it]"
     ]
    },
    {
     "name": "stdout",
     "output_type": "stream",
     "text": [
      "✅ 1825: 28 pairs stored\n"
     ]
    },
    {
     "name": "stderr",
     "output_type": "stream",
     "text": [
      "videos:  47%|███████████████████████████████████████████████████                                                          | 440/940 [09:35<11:00,  1.32s/it]"
     ]
    },
    {
     "name": "stdout",
     "output_type": "stream",
     "text": [
      "✅ 1826: 4 pairs stored\n"
     ]
    },
    {
     "name": "stderr",
     "output_type": "stream",
     "text": [
      "videos:  47%|███████████████████████████████████████████████████▏                                                         | 441/940 [09:36<10:53,  1.31s/it]"
     ]
    },
    {
     "name": "stdout",
     "output_type": "stream",
     "text": [
      "✅ 1827: 4 pairs stored\n"
     ]
    },
    {
     "name": "stderr",
     "output_type": "stream",
     "text": [
      "videos:  47%|███████████████████████████████████████████████████▎                                                         | 442/940 [09:37<10:25,  1.26s/it]"
     ]
    },
    {
     "name": "stdout",
     "output_type": "stream",
     "text": [
      "✅ 1828: 0 pairs stored\n"
     ]
    },
    {
     "name": "stderr",
     "output_type": "stream",
     "text": [
      "videos:  47%|███████████████████████████████████████████████████▎                                                         | 443/940 [09:38<09:35,  1.16s/it]"
     ]
    },
    {
     "name": "stdout",
     "output_type": "stream",
     "text": [
      "✅ 1829: 12 pairs stored\n"
     ]
    },
    {
     "name": "stderr",
     "output_type": "stream",
     "text": [
      "videos:  47%|███████████████████████████████████████████████████▍                                                         | 444/940 [09:40<10:24,  1.26s/it]"
     ]
    },
    {
     "name": "stdout",
     "output_type": "stream",
     "text": [
      "✅ 1830: 15 pairs stored\n"
     ]
    },
    {
     "name": "stderr",
     "output_type": "stream",
     "text": [
      "videos:  47%|███████████████████████████████████████████████████▌                                                         | 445/940 [09:40<09:02,  1.10s/it]"
     ]
    },
    {
     "name": "stdout",
     "output_type": "stream",
     "text": [
      "✅ 1831: 0 pairs stored\n"
     ]
    },
    {
     "name": "stderr",
     "output_type": "stream",
     "text": [
      "videos:  47%|███████████████████████████████████████████████████▋                                                         | 446/940 [09:41<08:08,  1.01it/s]"
     ]
    },
    {
     "name": "stdout",
     "output_type": "stream",
     "text": [
      "✅ 1832: 10 pairs stored\n"
     ]
    },
    {
     "name": "stderr",
     "output_type": "stream",
     "text": [
      "videos:  48%|███████████████████████████████████████████████████▊                                                         | 447/940 [09:45<14:29,  1.76s/it]"
     ]
    },
    {
     "name": "stdout",
     "output_type": "stream",
     "text": [
      "✅ 1833: 51 pairs stored\n"
     ]
    },
    {
     "name": "stderr",
     "output_type": "stream",
     "text": [
      "videos:  48%|███████████████████████████████████████████████████▉                                                         | 448/940 [09:46<13:24,  1.64s/it]"
     ]
    },
    {
     "name": "stdout",
     "output_type": "stream",
     "text": [
      "✅ 1834: 4 pairs stored\n"
     ]
    },
    {
     "name": "stderr",
     "output_type": "stream",
     "text": [
      "videos:  48%|████████████████████████████████████████████████████                                                         | 449/940 [09:48<12:51,  1.57s/it]"
     ]
    },
    {
     "name": "stdout",
     "output_type": "stream",
     "text": [
      "✅ 1835: 6 pairs stored\n"
     ]
    },
    {
     "name": "stderr",
     "output_type": "stream",
     "text": [
      "videos:  48%|████████████████████████████████████████████████████▏                                                        | 450/940 [09:49<11:30,  1.41s/it]"
     ]
    },
    {
     "name": "stdout",
     "output_type": "stream",
     "text": [
      "✅ 1836: 2 pairs stored\n"
     ]
    },
    {
     "name": "stderr",
     "output_type": "stream",
     "text": [
      "videos:  48%|████████████████████████████████████████████████████▎                                                        | 451/940 [09:50<10:26,  1.28s/it]"
     ]
    },
    {
     "name": "stdout",
     "output_type": "stream",
     "text": [
      "✅ 1837: 2 pairs stored\n"
     ]
    },
    {
     "name": "stderr",
     "output_type": "stream",
     "text": [
      "videos:  48%|████████████████████████████████████████████████████▍                                                        | 452/940 [09:52<13:17,  1.63s/it]"
     ]
    },
    {
     "name": "stdout",
     "output_type": "stream",
     "text": [
      "✅ 1838: 19 pairs stored\n"
     ]
    },
    {
     "name": "stderr",
     "output_type": "stream",
     "text": [
      "videos:  48%|████████████████████████████████████████████████████▌                                                        | 453/940 [09:54<13:34,  1.67s/it]"
     ]
    },
    {
     "name": "stdout",
     "output_type": "stream",
     "text": [
      "✅ 1839: 10 pairs stored\n"
     ]
    },
    {
     "name": "stderr",
     "output_type": "stream",
     "text": [
      "videos:  48%|████████████████████████████████████████████████████▋                                                        | 454/940 [09:55<12:36,  1.56s/it]"
     ]
    },
    {
     "name": "stdout",
     "output_type": "stream",
     "text": [
      "✅ 1840: 1 pairs stored\n"
     ]
    },
    {
     "name": "stderr",
     "output_type": "stream",
     "text": [
      "videos:  48%|████████████████████████████████████████████████████▊                                                        | 455/940 [09:56<11:07,  1.38s/it]"
     ]
    },
    {
     "name": "stdout",
     "output_type": "stream",
     "text": [
      "✅ 1841: 4 pairs stored\n"
     ]
    },
    {
     "name": "stderr",
     "output_type": "stream",
     "text": [
      "videos:  49%|████████████████████████████████████████████████████▉                                                        | 456/940 [09:58<11:48,  1.46s/it]"
     ]
    },
    {
     "name": "stdout",
     "output_type": "stream",
     "text": [
      "✅ 1842: 54 pairs stored\n"
     ]
    },
    {
     "name": "stderr",
     "output_type": "stream",
     "text": [
      "videos:  49%|████████████████████████████████████████████████████▉                                                        | 457/940 [09:59<11:34,  1.44s/it]"
     ]
    },
    {
     "name": "stdout",
     "output_type": "stream",
     "text": [
      "✅ 1843: 5 pairs stored\n"
     ]
    },
    {
     "name": "stderr",
     "output_type": "stream",
     "text": [
      "videos:  49%|█████████████████████████████████████████████████████                                                        | 458/940 [10:01<13:48,  1.72s/it]"
     ]
    },
    {
     "name": "stdout",
     "output_type": "stream",
     "text": [
      "✅ 1844: 6 pairs stored\n"
     ]
    },
    {
     "name": "stderr",
     "output_type": "stream",
     "text": [
      "videos:  49%|█████████████████████████████████████████████████████▏                                                       | 459/940 [10:03<12:55,  1.61s/it]"
     ]
    },
    {
     "name": "stdout",
     "output_type": "stream",
     "text": [
      "✅ 1845: 48 pairs stored\n"
     ]
    },
    {
     "name": "stderr",
     "output_type": "stream",
     "text": [
      "videos:  49%|█████████████████████████████████████████████████████▎                                                       | 460/940 [10:04<12:22,  1.55s/it]"
     ]
    },
    {
     "name": "stdout",
     "output_type": "stream",
     "text": [
      "✅ 1846: 0 pairs stored\n"
     ]
    },
    {
     "name": "stderr",
     "output_type": "stream",
     "text": [
      "videos:  49%|█████████████████████████████████████████████████████▍                                                       | 461/940 [10:05<11:46,  1.48s/it]"
     ]
    },
    {
     "name": "stdout",
     "output_type": "stream",
     "text": [
      "✅ 1847: 2 pairs stored\n"
     ]
    },
    {
     "name": "stderr",
     "output_type": "stream",
     "text": [
      "videos:  49%|█████████████████████████████████████████████████████▌                                                       | 462/940 [10:07<11:27,  1.44s/it]"
     ]
    },
    {
     "name": "stdout",
     "output_type": "stream",
     "text": [
      "✅ 1848: 4 pairs stored\n"
     ]
    },
    {
     "name": "stderr",
     "output_type": "stream",
     "text": [
      "videos:  49%|█████████████████████████████████████████████████████▋                                                       | 463/940 [10:09<13:14,  1.67s/it]"
     ]
    },
    {
     "name": "stdout",
     "output_type": "stream",
     "text": [
      "✅ 1849: 9 pairs stored\n"
     ]
    },
    {
     "name": "stderr",
     "output_type": "stream",
     "text": [
      "videos:  49%|█████████████████████████████████████████████████████▊                                                       | 464/940 [10:11<14:15,  1.80s/it]"
     ]
    },
    {
     "name": "stdout",
     "output_type": "stream",
     "text": [
      "✅ 1850: 0 pairs stored\n"
     ]
    },
    {
     "name": "stderr",
     "output_type": "stream",
     "text": [
      "videos:  49%|█████████████████████████████████████████████████████▉                                                       | 465/940 [10:12<12:11,  1.54s/it]"
     ]
    },
    {
     "name": "stdout",
     "output_type": "stream",
     "text": [
      "✅ 1851: 0 pairs stored\n"
     ]
    },
    {
     "name": "stderr",
     "output_type": "stream",
     "text": [
      "videos:  50%|██████████████████████████████████████████████████████                                                       | 466/940 [10:13<10:57,  1.39s/it]"
     ]
    },
    {
     "name": "stdout",
     "output_type": "stream",
     "text": [
      "✅ 1852: 17 pairs stored\n"
     ]
    },
    {
     "name": "stderr",
     "output_type": "stream",
     "text": [
      "videos:  50%|██████████████████████████████████████████████████████▏                                                      | 467/940 [10:14<10:15,  1.30s/it]"
     ]
    },
    {
     "name": "stdout",
     "output_type": "stream",
     "text": [
      "✅ 1853: 2 pairs stored\n"
     ]
    },
    {
     "name": "stderr",
     "output_type": "stream",
     "text": [
      "videos:  50%|██████████████████████████████████████████████████████▎                                                      | 468/940 [10:16<12:02,  1.53s/it]"
     ]
    },
    {
     "name": "stdout",
     "output_type": "stream",
     "text": [
      "✅ 1854: 10 pairs stored\n"
     ]
    },
    {
     "name": "stderr",
     "output_type": "stream",
     "text": [
      "videos:  50%|██████████████████████████████████████████████████████▍                                                      | 469/940 [10:17<10:49,  1.38s/it]"
     ]
    },
    {
     "name": "stdout",
     "output_type": "stream",
     "text": [
      "✅ 1855: 10 pairs stored\n"
     ]
    },
    {
     "name": "stderr",
     "output_type": "stream",
     "text": [
      "videos:  50%|██████████████████████████████████████████████████████▌                                                      | 470/940 [10:19<11:30,  1.47s/it]"
     ]
    },
    {
     "name": "stdout",
     "output_type": "stream",
     "text": [
      "✅ 1856: 0 pairs stored\n"
     ]
    },
    {
     "name": "stderr",
     "output_type": "stream",
     "text": [
      "videos:  50%|██████████████████████████████████████████████████████▌                                                      | 471/940 [10:21<12:00,  1.54s/it]"
     ]
    },
    {
     "name": "stdout",
     "output_type": "stream",
     "text": [
      "✅ 1857: 1 pairs stored\n"
     ]
    },
    {
     "name": "stderr",
     "output_type": "stream",
     "text": [
      "videos:  50%|██████████████████████████████████████████████████████▋                                                      | 472/940 [10:24<15:38,  2.01s/it]"
     ]
    },
    {
     "name": "stdout",
     "output_type": "stream",
     "text": [
      "✅ 1858: 18 pairs stored\n"
     ]
    },
    {
     "name": "stderr",
     "output_type": "stream",
     "text": [
      "videos:  50%|██████████████████████████████████████████████████████▊                                                      | 473/940 [10:26<15:12,  1.95s/it]"
     ]
    },
    {
     "name": "stdout",
     "output_type": "stream",
     "text": [
      "✅ 1859: 4 pairs stored\n"
     ]
    },
    {
     "name": "stderr",
     "output_type": "stream",
     "text": [
      "videos:  50%|██████████████████████████████████████████████████████▉                                                      | 474/940 [10:28<16:10,  2.08s/it]"
     ]
    },
    {
     "name": "stdout",
     "output_type": "stream",
     "text": [
      "✅ 1860: 14 pairs stored\n"
     ]
    },
    {
     "name": "stderr",
     "output_type": "stream",
     "text": [
      "videos:  51%|███████████████████████████████████████████████████████                                                      | 475/940 [10:29<13:44,  1.77s/it]"
     ]
    },
    {
     "name": "stdout",
     "output_type": "stream",
     "text": [
      "✅ 1861: 21 pairs stored\n"
     ]
    },
    {
     "name": "stderr",
     "output_type": "stream",
     "text": [
      "videos:  51%|███████████████████████████████████████████████████████▏                                                     | 476/940 [10:31<13:59,  1.81s/it]"
     ]
    },
    {
     "name": "stdout",
     "output_type": "stream",
     "text": [
      "✅ 1862: 34 pairs stored\n"
     ]
    },
    {
     "name": "stderr",
     "output_type": "stream",
     "text": [
      "videos:  51%|███████████████████████████████████████████████████████▎                                                     | 477/940 [10:33<13:29,  1.75s/it]"
     ]
    },
    {
     "name": "stdout",
     "output_type": "stream",
     "text": [
      "✅ 1863: 8 pairs stored\n"
     ]
    },
    {
     "name": "stderr",
     "output_type": "stream",
     "text": [
      "videos:  51%|███████████████████████████████████████████████████████▍                                                     | 478/940 [10:34<13:52,  1.80s/it]"
     ]
    },
    {
     "name": "stdout",
     "output_type": "stream",
     "text": [
      "✅ 1864: 2 pairs stored\n"
     ]
    },
    {
     "name": "stderr",
     "output_type": "stream",
     "text": [
      "videos:  51%|███████████████████████████████████████████████████████▌                                                     | 479/940 [10:36<13:29,  1.76s/it]"
     ]
    },
    {
     "name": "stdout",
     "output_type": "stream",
     "text": [
      "✅ 1865: 44 pairs stored\n"
     ]
    },
    {
     "name": "stderr",
     "output_type": "stream",
     "text": [
      "videos:  51%|███████████████████████████████████████████████████████▋                                                     | 480/940 [10:38<13:23,  1.75s/it]"
     ]
    },
    {
     "name": "stdout",
     "output_type": "stream",
     "text": [
      "✅ 1866: 19 pairs stored\n"
     ]
    },
    {
     "name": "stderr",
     "output_type": "stream",
     "text": [
      "videos:  51%|███████████████████████████████████████████████████████▊                                                     | 481/940 [10:41<16:37,  2.17s/it]"
     ]
    },
    {
     "name": "stdout",
     "output_type": "stream",
     "text": [
      "✅ 1867: 38 pairs stored\n"
     ]
    },
    {
     "name": "stderr",
     "output_type": "stream",
     "text": [
      "videos:  51%|███████████████████████████████████████████████████████▉                                                     | 482/940 [10:43<16:06,  2.11s/it]"
     ]
    },
    {
     "name": "stdout",
     "output_type": "stream",
     "text": [
      "✅ 1868: 34 pairs stored\n"
     ]
    },
    {
     "name": "stderr",
     "output_type": "stream",
     "text": [
      "videos:  51%|████████████████████████████████████████████████████████                                                     | 483/940 [10:46<17:28,  2.29s/it]"
     ]
    },
    {
     "name": "stdout",
     "output_type": "stream",
     "text": [
      "✅ 1869: 32 pairs stored\n"
     ]
    },
    {
     "name": "stderr",
     "output_type": "stream",
     "text": [
      "videos:  51%|████████████████████████████████████████████████████████                                                     | 484/940 [10:48<18:24,  2.42s/it]"
     ]
    },
    {
     "name": "stdout",
     "output_type": "stream",
     "text": [
      "✅ 1870: 72 pairs stored\n"
     ]
    },
    {
     "name": "stderr",
     "output_type": "stream",
     "text": [
      "videos:  52%|████████████████████████████████████████████████████████▏                                                    | 485/940 [10:50<16:21,  2.16s/it]"
     ]
    },
    {
     "name": "stdout",
     "output_type": "stream",
     "text": [
      "✅ 1871: 16 pairs stored\n"
     ]
    },
    {
     "name": "stderr",
     "output_type": "stream",
     "text": [
      "videos:  52%|████████████████████████████████████████████████████████▎                                                    | 486/940 [10:52<15:34,  2.06s/it]"
     ]
    },
    {
     "name": "stdout",
     "output_type": "stream",
     "text": [
      "✅ 1872: 59 pairs stored\n"
     ]
    },
    {
     "name": "stderr",
     "output_type": "stream",
     "text": [
      "videos:  52%|████████████████████████████████████████████████████████▍                                                    | 487/940 [10:54<15:11,  2.01s/it]"
     ]
    },
    {
     "name": "stdout",
     "output_type": "stream",
     "text": [
      "✅ 1873: 41 pairs stored\n"
     ]
    },
    {
     "name": "stderr",
     "output_type": "stream",
     "text": [
      "videos:  52%|████████████████████████████████████████████████████████▌                                                    | 488/940 [10:55<14:28,  1.92s/it]"
     ]
    },
    {
     "name": "stdout",
     "output_type": "stream",
     "text": [
      "✅ 1874: 9 pairs stored\n"
     ]
    },
    {
     "name": "stderr",
     "output_type": "stream",
     "text": [
      "videos:  52%|████████████████████████████████████████████████████████▋                                                    | 489/940 [10:58<15:15,  2.03s/it]"
     ]
    },
    {
     "name": "stdout",
     "output_type": "stream",
     "text": [
      "✅ 1875: 26 pairs stored\n"
     ]
    },
    {
     "name": "stderr",
     "output_type": "stream",
     "text": [
      "videos:  52%|████████████████████████████████████████████████████████▊                                                    | 490/940 [10:59<14:14,  1.90s/it]"
     ]
    },
    {
     "name": "stdout",
     "output_type": "stream",
     "text": [
      "✅ 1876: 7 pairs stored\n"
     ]
    },
    {
     "name": "stderr",
     "output_type": "stream",
     "text": [
      "videos:  52%|████████████████████████████████████████████████████████▉                                                    | 491/940 [11:01<12:55,  1.73s/it]"
     ]
    },
    {
     "name": "stdout",
     "output_type": "stream",
     "text": [
      "✅ 1877: 40 pairs stored\n"
     ]
    },
    {
     "name": "stderr",
     "output_type": "stream",
     "text": [
      "videos:  52%|█████████████████████████████████████████████████████████                                                    | 492/940 [11:02<13:16,  1.78s/it]"
     ]
    },
    {
     "name": "stdout",
     "output_type": "stream",
     "text": [
      "✅ 1878: 48 pairs stored\n"
     ]
    },
    {
     "name": "stderr",
     "output_type": "stream",
     "text": [
      "videos:  52%|█████████████████████████████████████████████████████████▏                                                   | 493/940 [11:04<12:17,  1.65s/it]"
     ]
    },
    {
     "name": "stdout",
     "output_type": "stream",
     "text": [
      "✅ 1879: 6 pairs stored\n"
     ]
    },
    {
     "name": "stderr",
     "output_type": "stream",
     "text": [
      "videos:  53%|█████████████████████████████████████████████████████████▎                                                   | 494/940 [11:05<11:04,  1.49s/it]"
     ]
    },
    {
     "name": "stdout",
     "output_type": "stream",
     "text": [
      "✅ 1880: 1 pairs stored\n"
     ]
    },
    {
     "name": "stderr",
     "output_type": "stream",
     "text": [
      "videos:  53%|█████████████████████████████████████████████████████████▍                                                   | 495/940 [11:07<12:38,  1.70s/it]"
     ]
    },
    {
     "name": "stdout",
     "output_type": "stream",
     "text": [
      "✅ 1881: 13 pairs stored\n"
     ]
    },
    {
     "name": "stderr",
     "output_type": "stream",
     "text": [
      "videos:  53%|█████████████████████████████████████████████████████████▌                                                   | 496/940 [11:09<13:52,  1.88s/it]"
     ]
    },
    {
     "name": "stdout",
     "output_type": "stream",
     "text": [
      "✅ 1882: 0 pairs stored\n"
     ]
    },
    {
     "name": "stderr",
     "output_type": "stream",
     "text": [
      "videos:  53%|█████████████████████████████████████████████████████████▋                                                   | 497/940 [11:12<15:01,  2.03s/it]"
     ]
    },
    {
     "name": "stdout",
     "output_type": "stream",
     "text": [
      "✅ 1883: 8 pairs stored\n"
     ]
    },
    {
     "name": "stderr",
     "output_type": "stream",
     "text": [
      "videos:  53%|█████████████████████████████████████████████████████████▋                                                   | 498/940 [11:14<14:38,  1.99s/it]"
     ]
    },
    {
     "name": "stdout",
     "output_type": "stream",
     "text": [
      "✅ 1884: 1 pairs stored\n"
     ]
    },
    {
     "name": "stderr",
     "output_type": "stream",
     "text": [
      "videos:  53%|█████████████████████████████████████████████████████████▊                                                   | 499/940 [11:16<14:50,  2.02s/it]"
     ]
    },
    {
     "name": "stdout",
     "output_type": "stream",
     "text": [
      "✅ 1885: 63 pairs stored\n"
     ]
    },
    {
     "name": "stderr",
     "output_type": "stream",
     "text": [
      "videos:  53%|█████████████████████████████████████████████████████████▉                                                   | 500/940 [11:18<15:34,  2.12s/it]"
     ]
    },
    {
     "name": "stdout",
     "output_type": "stream",
     "text": [
      "✅ 1886: 39 pairs stored\n"
     ]
    },
    {
     "name": "stderr",
     "output_type": "stream",
     "text": [
      "videos:  53%|██████████████████████████████████████████████████████████                                                   | 501/940 [11:19<13:40,  1.87s/it]"
     ]
    },
    {
     "name": "stdout",
     "output_type": "stream",
     "text": [
      "✅ 1887: 11 pairs stored\n"
     ]
    },
    {
     "name": "stderr",
     "output_type": "stream",
     "text": [
      "videos:  53%|██████████████████████████████████████████████████████████▏                                                  | 502/940 [11:22<14:35,  2.00s/it]"
     ]
    },
    {
     "name": "stdout",
     "output_type": "stream",
     "text": [
      "✅ 1888: 0 pairs stored\n"
     ]
    },
    {
     "name": "stderr",
     "output_type": "stream",
     "text": [
      "videos:  54%|██████████████████████████████████████████████████████████▎                                                  | 503/940 [11:23<13:00,  1.79s/it]"
     ]
    },
    {
     "name": "stdout",
     "output_type": "stream",
     "text": [
      "✅ 1889: 40 pairs stored\n"
     ]
    },
    {
     "name": "stderr",
     "output_type": "stream",
     "text": [
      "videos:  54%|██████████████████████████████████████████████████████████▍                                                  | 504/940 [11:24<11:14,  1.55s/it]"
     ]
    },
    {
     "name": "stdout",
     "output_type": "stream",
     "text": [
      "✅ 1890: 18 pairs stored\n"
     ]
    },
    {
     "name": "stderr",
     "output_type": "stream",
     "text": [
      "videos:  54%|██████████████████████████████████████████████████████████▌                                                  | 505/940 [11:25<08:58,  1.24s/it]"
     ]
    },
    {
     "name": "stdout",
     "output_type": "stream",
     "text": [
      "✅ 1891: 5 pairs stored\n"
     ]
    },
    {
     "name": "stderr",
     "output_type": "stream",
     "text": [
      "videos:  54%|██████████████████████████████████████████████████████████▋                                                  | 506/940 [11:25<07:12,  1.00it/s]"
     ]
    },
    {
     "name": "stdout",
     "output_type": "stream",
     "text": [
      "✅ 1892: 10 pairs stored\n"
     ]
    },
    {
     "name": "stderr",
     "output_type": "stream",
     "text": [
      "videos:  54%|██████████████████████████████████████████████████████████▊                                                  | 507/940 [11:26<07:15,  1.01s/it]"
     ]
    },
    {
     "name": "stdout",
     "output_type": "stream",
     "text": [
      "✅ 1893: 15 pairs stored\n"
     ]
    },
    {
     "name": "stderr",
     "output_type": "stream",
     "text": [
      "videos:  54%|██████████████████████████████████████████████████████████▉                                                  | 508/940 [11:27<07:35,  1.06s/it]"
     ]
    },
    {
     "name": "stdout",
     "output_type": "stream",
     "text": [
      "✅ 1894: 14 pairs stored\n"
     ]
    },
    {
     "name": "stderr",
     "output_type": "stream",
     "text": [
      "videos:  54%|███████████████████████████████████████████████████████████                                                  | 509/940 [11:28<06:40,  1.08it/s]"
     ]
    },
    {
     "name": "stdout",
     "output_type": "stream",
     "text": [
      "✅ 1895: 10 pairs stored\n"
     ]
    },
    {
     "name": "stderr",
     "output_type": "stream",
     "text": [
      "videos:  54%|███████████████████████████████████████████████████████████▏                                                 | 510/940 [11:28<06:07,  1.17it/s]"
     ]
    },
    {
     "name": "stdout",
     "output_type": "stream",
     "text": [
      "✅ 1896: 0 pairs stored\n"
     ]
    },
    {
     "name": "stderr",
     "output_type": "stream",
     "text": [
      "videos:  54%|███████████████████████████████████████████████████████████▎                                                 | 511/940 [11:29<05:47,  1.24it/s]"
     ]
    },
    {
     "name": "stdout",
     "output_type": "stream",
     "text": [
      "✅ 1897: 41 pairs stored\n"
     ]
    },
    {
     "name": "stderr",
     "output_type": "stream",
     "text": [
      "videos:  54%|███████████████████████████████████████████████████████████▎                                                 | 512/940 [11:30<05:48,  1.23it/s]"
     ]
    },
    {
     "name": "stdout",
     "output_type": "stream",
     "text": [
      "✅ 1898: 13 pairs stored\n"
     ]
    },
    {
     "name": "stderr",
     "output_type": "stream",
     "text": [
      "videos:  55%|███████████████████████████████████████████████████████████▍                                                 | 513/940 [11:31<06:12,  1.15it/s]"
     ]
    },
    {
     "name": "stdout",
     "output_type": "stream",
     "text": [
      "✅ 1899: 12 pairs stored\n"
     ]
    },
    {
     "name": "stderr",
     "output_type": "stream",
     "text": [
      "videos:  55%|███████████████████████████████████████████████████████████▌                                                 | 514/940 [11:32<05:22,  1.32it/s]"
     ]
    },
    {
     "name": "stdout",
     "output_type": "stream",
     "text": [
      "✅ 1900: 11 pairs stored\n"
     ]
    },
    {
     "name": "stderr",
     "output_type": "stream",
     "text": [
      "videos:  55%|███████████████████████████████████████████████████████████▋                                                 | 515/940 [11:32<04:24,  1.61it/s]"
     ]
    },
    {
     "name": "stdout",
     "output_type": "stream",
     "text": [
      "✅ 1901: 10 pairs stored\n"
     ]
    },
    {
     "name": "stderr",
     "output_type": "stream",
     "text": [
      "videos:  55%|███████████████████████████████████████████████████████████▊                                                 | 516/940 [11:33<04:46,  1.48it/s]"
     ]
    },
    {
     "name": "stdout",
     "output_type": "stream",
     "text": [
      "✅ 1902: 1 pairs stored\n"
     ]
    },
    {
     "name": "stderr",
     "output_type": "stream",
     "text": [
      "videos:  55%|███████████████████████████████████████████████████████████▉                                                 | 517/940 [11:34<06:04,  1.16it/s]"
     ]
    },
    {
     "name": "stdout",
     "output_type": "stream",
     "text": [
      "✅ 1903: 20 pairs stored\n"
     ]
    },
    {
     "name": "stderr",
     "output_type": "stream",
     "text": [
      "videos:  55%|████████████████████████████████████████████████████████████                                                 | 518/940 [11:35<06:22,  1.10it/s]"
     ]
    },
    {
     "name": "stdout",
     "output_type": "stream",
     "text": [
      "✅ 1904: 18 pairs stored\n"
     ]
    },
    {
     "name": "stderr",
     "output_type": "stream",
     "text": [
      "videos:  55%|████████████████████████████████████████████████████████████▏                                                | 519/940 [11:35<05:32,  1.26it/s]"
     ]
    },
    {
     "name": "stdout",
     "output_type": "stream",
     "text": [
      "✅ 1905: 12 pairs stored\n"
     ]
    },
    {
     "name": "stderr",
     "output_type": "stream",
     "text": [
      "videos:  55%|████████████████████████████████████████████████████████████▎                                                | 520/940 [11:36<05:31,  1.27it/s]"
     ]
    },
    {
     "name": "stdout",
     "output_type": "stream",
     "text": [
      "✅ 1906: 20 pairs stored\n"
     ]
    },
    {
     "name": "stderr",
     "output_type": "stream",
     "text": [
      "videos:  55%|████████████████████████████████████████████████████████████▍                                                | 521/940 [11:37<05:39,  1.24it/s]"
     ]
    },
    {
     "name": "stdout",
     "output_type": "stream",
     "text": [
      "✅ 1907: 0 pairs stored\n"
     ]
    },
    {
     "name": "stderr",
     "output_type": "stream",
     "text": [
      "videos:  56%|████████████████████████████████████████████████████████████▌                                                | 522/940 [11:38<05:56,  1.17it/s]"
     ]
    },
    {
     "name": "stdout",
     "output_type": "stream",
     "text": [
      "✅ 1908: 33 pairs stored\n"
     ]
    },
    {
     "name": "stderr",
     "output_type": "stream",
     "text": [
      "videos:  56%|████████████████████████████████████████████████████████████▋                                                | 523/940 [11:39<05:43,  1.21it/s]"
     ]
    },
    {
     "name": "stdout",
     "output_type": "stream",
     "text": [
      "✅ 1909: 6 pairs stored\n"
     ]
    },
    {
     "name": "stderr",
     "output_type": "stream",
     "text": [
      "videos:  56%|████████████████████████████████████████████████████████████▊                                                | 524/940 [11:40<05:30,  1.26it/s]"
     ]
    },
    {
     "name": "stdout",
     "output_type": "stream",
     "text": [
      "✅ 1910: 0 pairs stored\n"
     ]
    },
    {
     "name": "stderr",
     "output_type": "stream",
     "text": [
      "videos:  56%|████████████████████████████████████████████████████████████▉                                                | 525/940 [11:40<05:21,  1.29it/s]"
     ]
    },
    {
     "name": "stdout",
     "output_type": "stream",
     "text": [
      "✅ 1911: 12 pairs stored\n"
     ]
    },
    {
     "name": "stderr",
     "output_type": "stream",
     "text": [
      "videos:  56%|████████████████████████████████████████████████████████████▉                                                | 526/940 [11:41<05:14,  1.32it/s]"
     ]
    },
    {
     "name": "stdout",
     "output_type": "stream",
     "text": [
      "✅ 1912: 0 pairs stored\n"
     ]
    },
    {
     "name": "stderr",
     "output_type": "stream",
     "text": [
      "videos:  56%|█████████████████████████████████████████████████████████████                                                | 527/940 [11:42<05:39,  1.22it/s]"
     ]
    },
    {
     "name": "stdout",
     "output_type": "stream",
     "text": [
      "✅ 1913: 2 pairs stored\n"
     ]
    },
    {
     "name": "stderr",
     "output_type": "stream",
     "text": [
      "videos:  56%|█████████████████████████████████████████████████████████████▏                                               | 528/940 [11:43<05:25,  1.26it/s]"
     ]
    },
    {
     "name": "stdout",
     "output_type": "stream",
     "text": [
      "✅ 1914: 17 pairs stored\n"
     ]
    },
    {
     "name": "stderr",
     "output_type": "stream",
     "text": [
      "videos:  56%|█████████████████████████████████████████████████████████████▎                                               | 529/940 [11:43<04:58,  1.38it/s]"
     ]
    },
    {
     "name": "stdout",
     "output_type": "stream",
     "text": [
      "✅ 1915: 32 pairs stored\n"
     ]
    },
    {
     "name": "stderr",
     "output_type": "stream",
     "text": [
      "videos:  56%|█████████████████████████████████████████████████████████████▍                                               | 530/940 [11:44<04:32,  1.51it/s]"
     ]
    },
    {
     "name": "stdout",
     "output_type": "stream",
     "text": [
      "✅ 1916: 2 pairs stored\n"
     ]
    },
    {
     "name": "stderr",
     "output_type": "stream",
     "text": [
      "videos:  56%|█████████████████████████████████████████████████████████████▌                                               | 531/940 [11:44<04:09,  1.64it/s]"
     ]
    },
    {
     "name": "stdout",
     "output_type": "stream",
     "text": [
      "✅ 1917: 2 pairs stored\n"
     ]
    },
    {
     "name": "stderr",
     "output_type": "stream",
     "text": [
      "videos:  57%|█████████████████████████████████████████████████████████████▋                                               | 532/940 [11:45<04:14,  1.60it/s]"
     ]
    },
    {
     "name": "stdout",
     "output_type": "stream",
     "text": [
      "✅ 1918: 2 pairs stored\n"
     ]
    },
    {
     "name": "stderr",
     "output_type": "stream",
     "text": [
      "videos:  57%|█████████████████████████████████████████████████████████████▊                                               | 533/940 [11:46<04:37,  1.46it/s]"
     ]
    },
    {
     "name": "stdout",
     "output_type": "stream",
     "text": [
      "✅ 1919: 1 pairs stored\n"
     ]
    },
    {
     "name": "stderr",
     "output_type": "stream",
     "text": [
      "videos:  57%|█████████████████████████████████████████████████████████████▉                                               | 534/940 [11:49<09:19,  1.38s/it]"
     ]
    },
    {
     "name": "stdout",
     "output_type": "stream",
     "text": [
      "✅ 1920: 1 pairs stored\n"
     ]
    },
    {
     "name": "stderr",
     "output_type": "stream",
     "text": [
      "videos:  57%|██████████████████████████████████████████████████████████████                                               | 535/940 [11:51<11:29,  1.70s/it]"
     ]
    },
    {
     "name": "stdout",
     "output_type": "stream",
     "text": [
      "✅ 1921: 3 pairs stored\n"
     ]
    },
    {
     "name": "stderr",
     "output_type": "stream",
     "text": [
      "videos:  57%|██████████████████████████████████████████████████████████████▏                                              | 536/940 [11:52<10:22,  1.54s/it]"
     ]
    },
    {
     "name": "stdout",
     "output_type": "stream",
     "text": [
      "✅ 1922: 9 pairs stored\n"
     ]
    },
    {
     "name": "stderr",
     "output_type": "stream",
     "text": [
      "videos:  57%|██████████████████████████████████████████████████████████████▎                                              | 537/940 [11:53<08:50,  1.32s/it]"
     ]
    },
    {
     "name": "stdout",
     "output_type": "stream",
     "text": [
      "✅ 1923: 2 pairs stored\n"
     ]
    },
    {
     "name": "stderr",
     "output_type": "stream",
     "text": [
      "videos:  57%|██████████████████████████████████████████████████████████████▍                                              | 538/940 [11:54<07:32,  1.12s/it]"
     ]
    },
    {
     "name": "stdout",
     "output_type": "stream",
     "text": [
      "✅ 1924: 13 pairs stored\n"
     ]
    },
    {
     "name": "stderr",
     "output_type": "stream",
     "text": [
      "videos:  57%|██████████████████████████████████████████████████████████████▌                                              | 539/940 [11:54<06:01,  1.11it/s]"
     ]
    },
    {
     "name": "stdout",
     "output_type": "stream",
     "text": [
      "✅ 1925: 0 pairs stored\n"
     ]
    },
    {
     "name": "stderr",
     "output_type": "stream",
     "text": [
      "videos:  57%|██████████████████████████████████████████████████████████████▌                                              | 540/940 [11:55<05:35,  1.19it/s]"
     ]
    },
    {
     "name": "stdout",
     "output_type": "stream",
     "text": [
      "✅ 1926: 7 pairs stored\n"
     ]
    },
    {
     "name": "stderr",
     "output_type": "stream",
     "text": [
      "videos:  58%|██████████████████████████████████████████████████████████████▋                                              | 541/940 [11:55<04:45,  1.40it/s]"
     ]
    },
    {
     "name": "stdout",
     "output_type": "stream",
     "text": [
      "✅ 1927: 4 pairs stored\n"
     ]
    },
    {
     "name": "stderr",
     "output_type": "stream",
     "text": [
      "videos:  58%|██████████████████████████████████████████████████████████████▊                                              | 542/940 [11:56<04:34,  1.45it/s]"
     ]
    },
    {
     "name": "stdout",
     "output_type": "stream",
     "text": [
      "✅ 1928: 16 pairs stored\n"
     ]
    },
    {
     "name": "stderr",
     "output_type": "stream",
     "text": [
      "videos:  58%|██████████████████████████████████████████████████████████████▉                                              | 543/940 [11:56<03:53,  1.70it/s]"
     ]
    },
    {
     "name": "stdout",
     "output_type": "stream",
     "text": [
      "✅ 1929: 3 pairs stored\n"
     ]
    },
    {
     "name": "stderr",
     "output_type": "stream",
     "text": [
      "videos:  58%|███████████████████████████████████████████████████████████████                                              | 544/940 [11:57<03:34,  1.85it/s]"
     ]
    },
    {
     "name": "stdout",
     "output_type": "stream",
     "text": [
      "✅ 1930: 3 pairs stored\n"
     ]
    },
    {
     "name": "stderr",
     "output_type": "stream",
     "text": [
      "videos:  58%|███████████████████████████████████████████████████████████████▏                                             | 545/940 [11:58<05:37,  1.17it/s]"
     ]
    },
    {
     "name": "stdout",
     "output_type": "stream",
     "text": [
      "✅ 1931: 16 pairs stored\n"
     ]
    },
    {
     "name": "stderr",
     "output_type": "stream",
     "text": [
      "videos:  58%|███████████████████████████████████████████████████████████████▎                                             | 546/940 [12:00<06:16,  1.05it/s]"
     ]
    },
    {
     "name": "stdout",
     "output_type": "stream",
     "text": [
      "✅ 1932: 2 pairs stored\n"
     ]
    },
    {
     "name": "stderr",
     "output_type": "stream",
     "text": [
      "videos:  58%|███████████████████████████████████████████████████████████████▍                                             | 547/940 [12:00<05:25,  1.21it/s]"
     ]
    },
    {
     "name": "stdout",
     "output_type": "stream",
     "text": [
      "✅ 1933: 2 pairs stored\n"
     ]
    },
    {
     "name": "stderr",
     "output_type": "stream",
     "text": [
      "videos:  58%|███████████████████████████████████████████████████████████████▌                                             | 548/940 [12:01<04:44,  1.38it/s]"
     ]
    },
    {
     "name": "stdout",
     "output_type": "stream",
     "text": [
      "✅ 1934: 3 pairs stored\n"
     ]
    },
    {
     "name": "stderr",
     "output_type": "stream",
     "text": [
      "videos:  58%|███████████████████████████████████████████████████████████████▋                                             | 549/940 [12:02<06:05,  1.07it/s]"
     ]
    },
    {
     "name": "stdout",
     "output_type": "stream",
     "text": [
      "✅ 1935: 18 pairs stored\n"
     ]
    },
    {
     "name": "stderr",
     "output_type": "stream",
     "text": [
      "videos:  59%|███████████████████████████████████████████████████████████████▊                                             | 550/940 [12:03<05:29,  1.18it/s]"
     ]
    },
    {
     "name": "stdout",
     "output_type": "stream",
     "text": [
      "✅ 1936: 2 pairs stored\n"
     ]
    },
    {
     "name": "stderr",
     "output_type": "stream",
     "text": [
      "videos:  59%|███████████████████████████████████████████████████████████████▉                                             | 551/940 [12:03<04:52,  1.33it/s]"
     ]
    },
    {
     "name": "stdout",
     "output_type": "stream",
     "text": [
      "✅ 1937: 8 pairs stored\n"
     ]
    },
    {
     "name": "stderr",
     "output_type": "stream",
     "text": [
      "videos:  59%|████████████████████████████████████████████████████████████████                                             | 552/940 [12:04<05:01,  1.29it/s]"
     ]
    },
    {
     "name": "stdout",
     "output_type": "stream",
     "text": [
      "✅ 1938: 3 pairs stored\n"
     ]
    },
    {
     "name": "stderr",
     "output_type": "stream",
     "text": [
      "videos:  59%|████████████████████████████████████████████████████████████████                                             | 553/940 [12:04<04:23,  1.47it/s]"
     ]
    },
    {
     "name": "stdout",
     "output_type": "stream",
     "text": [
      "✅ 1939: 23 pairs stored\n"
     ]
    },
    {
     "name": "stderr",
     "output_type": "stream",
     "text": [
      "videos:  59%|████████████████████████████████████████████████████████████████▏                                            | 554/940 [12:05<04:03,  1.59it/s]"
     ]
    },
    {
     "name": "stdout",
     "output_type": "stream",
     "text": [
      "✅ 1940: 6 pairs stored\n"
     ]
    },
    {
     "name": "stderr",
     "output_type": "stream",
     "text": [
      "videos:  59%|████████████████████████████████████████████████████████████████▎                                            | 555/940 [12:06<03:59,  1.61it/s]"
     ]
    },
    {
     "name": "stdout",
     "output_type": "stream",
     "text": [
      "✅ 1941: 12 pairs stored\n"
     ]
    },
    {
     "name": "stderr",
     "output_type": "stream",
     "text": [
      "videos:  59%|████████████████████████████████████████████████████████████████▍                                            | 556/940 [12:06<04:03,  1.58it/s]"
     ]
    },
    {
     "name": "stdout",
     "output_type": "stream",
     "text": [
      "✅ 1942: 14 pairs stored\n"
     ]
    },
    {
     "name": "stderr",
     "output_type": "stream",
     "text": [
      "videos:  59%|████████████████████████████████████████████████████████████████▌                                            | 557/940 [12:07<04:15,  1.50it/s]"
     ]
    },
    {
     "name": "stdout",
     "output_type": "stream",
     "text": [
      "✅ 1943: 4 pairs stored\n"
     ]
    },
    {
     "name": "stderr",
     "output_type": "stream",
     "text": [
      "videos:  59%|████████████████████████████████████████████████████████████████▋                                            | 558/940 [12:07<03:48,  1.67it/s]"
     ]
    },
    {
     "name": "stdout",
     "output_type": "stream",
     "text": [
      "✅ 1944: 0 pairs stored\n"
     ]
    },
    {
     "name": "stderr",
     "output_type": "stream",
     "text": [
      "videos:  59%|████████████████████████████████████████████████████████████████▊                                            | 559/940 [12:08<04:32,  1.40it/s]"
     ]
    },
    {
     "name": "stdout",
     "output_type": "stream",
     "text": [
      "✅ 1945: 8 pairs stored\n"
     ]
    },
    {
     "name": "stderr",
     "output_type": "stream",
     "text": [
      "videos:  60%|████████████████████████████████████████████████████████████████▉                                            | 560/940 [12:09<04:13,  1.50it/s]"
     ]
    },
    {
     "name": "stdout",
     "output_type": "stream",
     "text": [
      "✅ 1946: 8 pairs stored\n"
     ]
    },
    {
     "name": "stderr",
     "output_type": "stream",
     "text": [
      "videos:  60%|█████████████████████████████████████████████████████████████████                                            | 561/940 [12:10<04:11,  1.51it/s]"
     ]
    },
    {
     "name": "stdout",
     "output_type": "stream",
     "text": [
      "✅ 1947: 17 pairs stored\n"
     ]
    },
    {
     "name": "stderr",
     "output_type": "stream",
     "text": [
      "videos:  60%|█████████████████████████████████████████████████████████████████▏                                           | 562/940 [12:10<03:57,  1.59it/s]"
     ]
    },
    {
     "name": "stdout",
     "output_type": "stream",
     "text": [
      "✅ 1948: 10 pairs stored\n"
     ]
    },
    {
     "name": "stderr",
     "output_type": "stream",
     "text": [
      "videos:  60%|█████████████████████████████████████████████████████████████████▎                                           | 563/940 [12:10<03:20,  1.88it/s]"
     ]
    },
    {
     "name": "stdout",
     "output_type": "stream",
     "text": [
      "✅ 1949: 2 pairs stored\n"
     ]
    },
    {
     "name": "stderr",
     "output_type": "stream",
     "text": [
      "videos:  60%|█████████████████████████████████████████████████████████████████▍                                           | 564/940 [12:11<03:43,  1.68it/s]"
     ]
    },
    {
     "name": "stdout",
     "output_type": "stream",
     "text": [
      "✅ 1950: 7 pairs stored\n"
     ]
    },
    {
     "name": "stderr",
     "output_type": "stream",
     "text": [
      "videos:  60%|█████████████████████████████████████████████████████████████████▌                                           | 565/940 [12:12<05:03,  1.23it/s]"
     ]
    },
    {
     "name": "stdout",
     "output_type": "stream",
     "text": [
      "✅ 1951: 16 pairs stored\n"
     ]
    },
    {
     "name": "stderr",
     "output_type": "stream",
     "text": [
      "videos:  60%|█████████████████████████████████████████████████████████████████▋                                           | 566/940 [12:14<05:51,  1.06it/s]"
     ]
    },
    {
     "name": "stdout",
     "output_type": "stream",
     "text": [
      "✅ 1952: 16 pairs stored\n"
     ]
    },
    {
     "name": "stderr",
     "output_type": "stream",
     "text": [
      "videos:  60%|█████████████████████████████████████████████████████████████████▋                                           | 567/940 [12:14<05:00,  1.24it/s]"
     ]
    },
    {
     "name": "stdout",
     "output_type": "stream",
     "text": [
      "✅ 1953: 4 pairs stored\n"
     ]
    },
    {
     "name": "stderr",
     "output_type": "stream",
     "text": [
      "videos:  60%|█████████████████████████████████████████████████████████████████▊                                           | 568/940 [12:15<04:16,  1.45it/s]"
     ]
    },
    {
     "name": "stdout",
     "output_type": "stream",
     "text": [
      "✅ 1954: 9 pairs stored\n"
     ]
    },
    {
     "name": "stderr",
     "output_type": "stream",
     "text": [
      "videos:  61%|█████████████████████████████████████████████████████████████████▉                                           | 569/940 [12:15<03:37,  1.70it/s]"
     ]
    },
    {
     "name": "stdout",
     "output_type": "stream",
     "text": [
      "✅ 1955: 1 pairs stored\n"
     ]
    },
    {
     "name": "stderr",
     "output_type": "stream",
     "text": [
      "videos:  61%|██████████████████████████████████████████████████████████████████                                           | 570/940 [12:16<03:39,  1.69it/s]"
     ]
    },
    {
     "name": "stdout",
     "output_type": "stream",
     "text": [
      "✅ 1956: 6 pairs stored\n"
     ]
    },
    {
     "name": "stderr",
     "output_type": "stream",
     "text": [
      "videos:  61%|██████████████████████████████████████████████████████████████████▏                                          | 571/940 [12:16<03:35,  1.71it/s]"
     ]
    },
    {
     "name": "stdout",
     "output_type": "stream",
     "text": [
      "✅ 1957: 5 pairs stored\n"
     ]
    },
    {
     "name": "stderr",
     "output_type": "stream",
     "text": [
      "videos:  61%|██████████████████████████████████████████████████████████████████▎                                          | 572/940 [12:17<03:40,  1.67it/s]"
     ]
    },
    {
     "name": "stdout",
     "output_type": "stream",
     "text": [
      "✅ 1958: 2 pairs stored\n"
     ]
    },
    {
     "name": "stderr",
     "output_type": "stream",
     "text": [
      "videos:  61%|██████████████████████████████████████████████████████████████████▍                                          | 573/940 [12:17<03:08,  1.95it/s]"
     ]
    },
    {
     "name": "stdout",
     "output_type": "stream",
     "text": [
      "✅ 1959: 0 pairs stored\n"
     ]
    },
    {
     "name": "stderr",
     "output_type": "stream",
     "text": [
      "videos:  61%|██████████████████████████████████████████████████████████████████▌                                          | 574/940 [12:18<03:21,  1.81it/s]"
     ]
    },
    {
     "name": "stdout",
     "output_type": "stream",
     "text": [
      "✅ 1960: 1 pairs stored\n"
     ]
    },
    {
     "name": "stderr",
     "output_type": "stream",
     "text": [
      "videos:  61%|██████████████████████████████████████████████████████████████████▋                                          | 575/940 [12:18<03:21,  1.81it/s]"
     ]
    },
    {
     "name": "stdout",
     "output_type": "stream",
     "text": [
      "✅ 1961: 7 pairs stored\n"
     ]
    },
    {
     "name": "stderr",
     "output_type": "stream",
     "text": [
      "videos:  61%|██████████████████████████████████████████████████████████████████▊                                          | 576/940 [12:19<03:52,  1.57it/s]"
     ]
    },
    {
     "name": "stdout",
     "output_type": "stream",
     "text": [
      "✅ 1962: 1 pairs stored\n"
     ]
    },
    {
     "name": "stderr",
     "output_type": "stream",
     "text": [
      "videos:  61%|██████████████████████████████████████████████████████████████████▉                                          | 577/940 [12:20<04:18,  1.40it/s]"
     ]
    },
    {
     "name": "stdout",
     "output_type": "stream",
     "text": [
      "✅ 1963: 7 pairs stored\n"
     ]
    },
    {
     "name": "stderr",
     "output_type": "stream",
     "text": [
      "videos:  61%|███████████████████████████████████████████████████████████████████                                          | 578/940 [12:20<03:50,  1.57it/s]"
     ]
    },
    {
     "name": "stdout",
     "output_type": "stream",
     "text": [
      "✅ 1964: 6 pairs stored\n"
     ]
    },
    {
     "name": "stderr",
     "output_type": "stream",
     "text": [
      "videos:  62%|███████████████████████████████████████████████████████████████████▏                                         | 579/940 [12:22<05:26,  1.11it/s]"
     ]
    },
    {
     "name": "stdout",
     "output_type": "stream",
     "text": [
      "✅ 1965: 36 pairs stored\n"
     ]
    },
    {
     "name": "stderr",
     "output_type": "stream",
     "text": [
      "videos:  62%|███████████████████████████████████████████████████████████████████▎                                         | 580/940 [12:23<04:54,  1.22it/s]"
     ]
    },
    {
     "name": "stdout",
     "output_type": "stream",
     "text": [
      "✅ 1966: 8 pairs stored\n"
     ]
    },
    {
     "name": "stderr",
     "output_type": "stream",
     "text": [
      "videos:  62%|███████████████████████████████████████████████████████████████████▎                                         | 581/940 [12:23<04:43,  1.26it/s]"
     ]
    },
    {
     "name": "stdout",
     "output_type": "stream",
     "text": [
      "✅ 1967: 12 pairs stored\n"
     ]
    },
    {
     "name": "stderr",
     "output_type": "stream",
     "text": [
      "videos:  62%|███████████████████████████████████████████████████████████████████▍                                         | 582/940 [12:24<04:09,  1.44it/s]"
     ]
    },
    {
     "name": "stdout",
     "output_type": "stream",
     "text": [
      "✅ 1968: 2 pairs stored\n"
     ]
    },
    {
     "name": "stderr",
     "output_type": "stream",
     "text": [
      "videos:  62%|███████████████████████████████████████████████████████████████████▌                                         | 583/940 [12:25<04:36,  1.29it/s]"
     ]
    },
    {
     "name": "stdout",
     "output_type": "stream",
     "text": [
      "✅ 1969: 12 pairs stored\n"
     ]
    },
    {
     "name": "stderr",
     "output_type": "stream",
     "text": [
      "videos:  62%|███████████████████████████████████████████████████████████████████▋                                         | 584/940 [12:26<05:39,  1.05it/s]"
     ]
    },
    {
     "name": "stdout",
     "output_type": "stream",
     "text": [
      "✅ 1970: 18 pairs stored\n"
     ]
    },
    {
     "name": "stderr",
     "output_type": "stream",
     "text": [
      "videos:  62%|███████████████████████████████████████████████████████████████████▊                                         | 585/940 [12:27<05:04,  1.16it/s]"
     ]
    },
    {
     "name": "stdout",
     "output_type": "stream",
     "text": [
      "✅ 1971: 10 pairs stored\n"
     ]
    },
    {
     "name": "stderr",
     "output_type": "stream",
     "text": [
      "videos:  62%|███████████████████████████████████████████████████████████████████▉                                         | 586/940 [12:28<05:10,  1.14it/s]"
     ]
    },
    {
     "name": "stdout",
     "output_type": "stream",
     "text": [
      "✅ 1972: 12 pairs stored\n"
     ]
    },
    {
     "name": "stderr",
     "output_type": "stream",
     "text": [
      "videos:  62%|████████████████████████████████████████████████████████████████████                                         | 587/940 [12:28<04:27,  1.32it/s]"
     ]
    },
    {
     "name": "stdout",
     "output_type": "stream",
     "text": [
      "✅ 1973: 1 pairs stored\n"
     ]
    },
    {
     "name": "stderr",
     "output_type": "stream",
     "text": [
      "videos:  63%|████████████████████████████████████████████████████████████████████▏                                        | 588/940 [12:29<04:10,  1.41it/s]"
     ]
    },
    {
     "name": "stdout",
     "output_type": "stream",
     "text": [
      "✅ 1974: 12 pairs stored\n"
     ]
    },
    {
     "name": "stderr",
     "output_type": "stream",
     "text": [
      "videos:  63%|████████████████████████████████████████████████████████████████████▎                                        | 589/940 [12:30<05:11,  1.13it/s]"
     ]
    },
    {
     "name": "stdout",
     "output_type": "stream",
     "text": [
      "✅ 1975: 12 pairs stored\n"
     ]
    },
    {
     "name": "stderr",
     "output_type": "stream",
     "text": [
      "videos:  63%|████████████████████████████████████████████████████████████████████▍                                        | 590/940 [12:31<05:32,  1.05it/s]"
     ]
    },
    {
     "name": "stdout",
     "output_type": "stream",
     "text": [
      "✅ 1976: 9 pairs stored\n"
     ]
    },
    {
     "name": "stderr",
     "output_type": "stream",
     "text": [
      "videos:  63%|████████████████████████████████████████████████████████████████████▌                                        | 591/940 [12:32<04:51,  1.20it/s]"
     ]
    },
    {
     "name": "stdout",
     "output_type": "stream",
     "text": [
      "✅ 1977: 0 pairs stored\n"
     ]
    },
    {
     "name": "stderr",
     "output_type": "stream",
     "text": [
      "videos:  63%|████████████████████████████████████████████████████████████████████▋                                        | 592/940 [12:32<04:31,  1.28it/s]"
     ]
    },
    {
     "name": "stdout",
     "output_type": "stream",
     "text": [
      "✅ 1978: 7 pairs stored\n"
     ]
    },
    {
     "name": "stderr",
     "output_type": "stream",
     "text": [
      "videos:  63%|████████████████████████████████████████████████████████████████████▊                                        | 593/940 [12:33<04:06,  1.41it/s]"
     ]
    },
    {
     "name": "stdout",
     "output_type": "stream",
     "text": [
      "✅ 1979: 0 pairs stored\n"
     ]
    },
    {
     "name": "stderr",
     "output_type": "stream",
     "text": [
      "videos:  63%|████████████████████████████████████████████████████████████████████▉                                        | 594/940 [12:34<04:51,  1.19it/s]"
     ]
    },
    {
     "name": "stdout",
     "output_type": "stream",
     "text": [
      "✅ 1980: 8 pairs stored\n"
     ]
    },
    {
     "name": "stderr",
     "output_type": "stream",
     "text": [
      "videos:  63%|████████████████████████████████████████████████████████████████████▉                                        | 595/940 [12:35<04:11,  1.37it/s]"
     ]
    },
    {
     "name": "stdout",
     "output_type": "stream",
     "text": [
      "✅ 1981: 1 pairs stored\n"
     ]
    },
    {
     "name": "stderr",
     "output_type": "stream",
     "text": [
      "videos:  63%|█████████████████████████████████████████████████████████████████████                                        | 596/940 [12:36<04:51,  1.18it/s]"
     ]
    },
    {
     "name": "stdout",
     "output_type": "stream",
     "text": [
      "✅ 1982: 14 pairs stored\n"
     ]
    },
    {
     "name": "stderr",
     "output_type": "stream",
     "text": [
      "videos:  64%|█████████████████████████████████████████████████████████████████████▏                                       | 597/940 [12:36<04:47,  1.19it/s]"
     ]
    },
    {
     "name": "stdout",
     "output_type": "stream",
     "text": [
      "✅ 1983: 4 pairs stored\n"
     ]
    },
    {
     "name": "stderr",
     "output_type": "stream",
     "text": [
      "videos:  64%|█████████████████████████████████████████████████████████████████████▎                                       | 598/940 [12:37<04:37,  1.23it/s]"
     ]
    },
    {
     "name": "stdout",
     "output_type": "stream",
     "text": [
      "✅ 1984: 2 pairs stored\n"
     ]
    },
    {
     "name": "stderr",
     "output_type": "stream",
     "text": [
      "videos:  64%|█████████████████████████████████████████████████████████████████████▍                                       | 599/940 [12:38<04:21,  1.30it/s]"
     ]
    },
    {
     "name": "stdout",
     "output_type": "stream",
     "text": [
      "✅ 1985: 5 pairs stored\n"
     ]
    },
    {
     "name": "stderr",
     "output_type": "stream",
     "text": [
      "videos:  64%|█████████████████████████████████████████████████████████████████████▌                                       | 600/940 [12:39<04:42,  1.20it/s]"
     ]
    },
    {
     "name": "stdout",
     "output_type": "stream",
     "text": [
      "✅ 1986: 1 pairs stored\n"
     ]
    },
    {
     "name": "stderr",
     "output_type": "stream",
     "text": [
      "videos:  64%|█████████████████████████████████████████████████████████████████████▋                                       | 601/940 [12:40<05:16,  1.07it/s]"
     ]
    },
    {
     "name": "stdout",
     "output_type": "stream",
     "text": [
      "✅ 1987: 0 pairs stored\n"
     ]
    },
    {
     "name": "stderr",
     "output_type": "stream",
     "text": [
      "videos:  64%|█████████████████████████████████████████████████████████████████████▊                                       | 602/940 [12:41<05:27,  1.03it/s]"
     ]
    },
    {
     "name": "stdout",
     "output_type": "stream",
     "text": [
      "✅ 1988: 1 pairs stored\n"
     ]
    },
    {
     "name": "stderr",
     "output_type": "stream",
     "text": [
      "videos:  64%|█████████████████████████████████████████████████████████████████████▉                                       | 603/940 [12:42<05:11,  1.08it/s]"
     ]
    },
    {
     "name": "stdout",
     "output_type": "stream",
     "text": [
      "✅ 1989: 2 pairs stored\n"
     ]
    },
    {
     "name": "stderr",
     "output_type": "stream",
     "text": [
      "videos:  64%|██████████████████████████████████████████████████████████████████████                                       | 604/940 [12:43<04:46,  1.17it/s]"
     ]
    },
    {
     "name": "stdout",
     "output_type": "stream",
     "text": [
      "✅ 1990: 6 pairs stored\n"
     ]
    },
    {
     "name": "stderr",
     "output_type": "stream",
     "text": [
      "videos:  64%|██████████████████████████████████████████████████████████████████████▏                                      | 605/940 [12:44<04:51,  1.15it/s]"
     ]
    },
    {
     "name": "stdout",
     "output_type": "stream",
     "text": [
      "✅ 1991: 10 pairs stored\n"
     ]
    },
    {
     "name": "stderr",
     "output_type": "stream",
     "text": [
      "videos:  64%|██████████████████████████████████████████████████████████████████████▎                                      | 606/940 [12:44<04:17,  1.30it/s]"
     ]
    },
    {
     "name": "stdout",
     "output_type": "stream",
     "text": [
      "✅ 1992: 5 pairs stored\n"
     ]
    },
    {
     "name": "stderr",
     "output_type": "stream",
     "text": [
      "videos:  65%|██████████████████████████████████████████████████████████████████████▍                                      | 607/940 [12:44<03:36,  1.54it/s]"
     ]
    },
    {
     "name": "stdout",
     "output_type": "stream",
     "text": [
      "✅ 1993: 2 pairs stored\n"
     ]
    },
    {
     "name": "stderr",
     "output_type": "stream",
     "text": [
      "videos:  65%|██████████████████████████████████████████████████████████████████████▌                                      | 608/940 [12:45<03:24,  1.63it/s]"
     ]
    },
    {
     "name": "stdout",
     "output_type": "stream",
     "text": [
      "✅ 1994: 2 pairs stored\n"
     ]
    },
    {
     "name": "stderr",
     "output_type": "stream",
     "text": [
      "videos:  65%|██████████████████████████████████████████████████████████████████████▌                                      | 609/940 [12:46<04:46,  1.15it/s]"
     ]
    },
    {
     "name": "stdout",
     "output_type": "stream",
     "text": [
      "✅ 1995: 3 pairs stored\n"
     ]
    },
    {
     "name": "stderr",
     "output_type": "stream",
     "text": [
      "videos:  65%|██████████████████████████████████████████████████████████████████████▋                                      | 610/940 [12:47<04:10,  1.31it/s]"
     ]
    },
    {
     "name": "stdout",
     "output_type": "stream",
     "text": [
      "✅ 1996: 1 pairs stored\n"
     ]
    },
    {
     "name": "stderr",
     "output_type": "stream",
     "text": [
      "videos:  65%|██████████████████████████████████████████████████████████████████████▊                                      | 611/940 [12:47<03:44,  1.46it/s]"
     ]
    },
    {
     "name": "stdout",
     "output_type": "stream",
     "text": [
      "✅ 1997: 1 pairs stored\n"
     ]
    },
    {
     "name": "stderr",
     "output_type": "stream",
     "text": [
      "videos:  65%|██████████████████████████████████████████████████████████████████████▉                                      | 612/940 [12:48<03:32,  1.54it/s]"
     ]
    },
    {
     "name": "stdout",
     "output_type": "stream",
     "text": [
      "✅ 1998: 6 pairs stored\n"
     ]
    },
    {
     "name": "stderr",
     "output_type": "stream",
     "text": [
      "videos:  65%|███████████████████████████████████████████████████████████████████████                                      | 613/940 [12:49<03:56,  1.39it/s]"
     ]
    },
    {
     "name": "stdout",
     "output_type": "stream",
     "text": [
      "✅ 1999: 20 pairs stored\n"
     ]
    },
    {
     "name": "stderr",
     "output_type": "stream",
     "text": [
      "videos:  65%|███████████████████████████████████████████████████████████████████████▏                                     | 614/940 [12:50<03:50,  1.42it/s]"
     ]
    },
    {
     "name": "stdout",
     "output_type": "stream",
     "text": [
      "✅ 2000: 4 pairs stored\n"
     ]
    },
    {
     "name": "stderr",
     "output_type": "stream",
     "text": [
      "videos:  65%|███████████████████████████████████████████████████████████████████████▎                                     | 615/940 [12:50<03:47,  1.43it/s]"
     ]
    },
    {
     "name": "stdout",
     "output_type": "stream",
     "text": [
      "✅ 2001: 2 pairs stored\n"
     ]
    },
    {
     "name": "stderr",
     "output_type": "stream",
     "text": [
      "videos:  66%|███████████████████████████████████████████████████████████████████████▍                                     | 616/940 [12:51<03:24,  1.59it/s]"
     ]
    },
    {
     "name": "stdout",
     "output_type": "stream",
     "text": [
      "✅ 2002: 18 pairs stored\n"
     ]
    },
    {
     "name": "stderr",
     "output_type": "stream",
     "text": [
      "videos:  66%|███████████████████████████████████████████████████████████████████████▌                                     | 617/940 [12:51<02:56,  1.83it/s]"
     ]
    },
    {
     "name": "stdout",
     "output_type": "stream",
     "text": [
      "✅ 2003: 0 pairs stored\n"
     ]
    },
    {
     "name": "stderr",
     "output_type": "stream",
     "text": [
      "videos:  66%|███████████████████████████████████████████████████████████████████████▋                                     | 618/940 [12:52<03:07,  1.72it/s]"
     ]
    },
    {
     "name": "stdout",
     "output_type": "stream",
     "text": [
      "✅ 2004: 0 pairs stored\n"
     ]
    },
    {
     "name": "stderr",
     "output_type": "stream",
     "text": [
      "videos:  66%|███████████████████████████████████████████████████████████████████████▊                                     | 619/940 [12:52<02:53,  1.85it/s]"
     ]
    },
    {
     "name": "stdout",
     "output_type": "stream",
     "text": [
      "✅ 2005: 19 pairs stored\n"
     ]
    },
    {
     "name": "stderr",
     "output_type": "stream",
     "text": [
      "videos:  66%|███████████████████████████████████████████████████████████████████████▉                                     | 620/940 [12:53<02:57,  1.80it/s]"
     ]
    },
    {
     "name": "stdout",
     "output_type": "stream",
     "text": [
      "✅ 2006: 16 pairs stored\n"
     ]
    },
    {
     "name": "stderr",
     "output_type": "stream",
     "text": [
      "videos:  66%|████████████████████████████████████████████████████████████████████████                                     | 621/940 [12:53<03:08,  1.69it/s]"
     ]
    },
    {
     "name": "stdout",
     "output_type": "stream",
     "text": [
      "✅ 2007: 8 pairs stored\n"
     ]
    },
    {
     "name": "stderr",
     "output_type": "stream",
     "text": [
      "videos:  66%|████████████████████████████████████████████████████████████████████████▏                                    | 622/940 [12:54<02:51,  1.85it/s]"
     ]
    },
    {
     "name": "stdout",
     "output_type": "stream",
     "text": [
      "✅ 2008: 9 pairs stored\n"
     ]
    },
    {
     "name": "stderr",
     "output_type": "stream",
     "text": [
      "videos:  66%|████████████████████████████████████████████████████████████████████████▏                                    | 623/940 [12:54<02:50,  1.86it/s]"
     ]
    },
    {
     "name": "stdout",
     "output_type": "stream",
     "text": [
      "✅ 2009: 17 pairs stored\n"
     ]
    },
    {
     "name": "stderr",
     "output_type": "stream",
     "text": [
      "videos:  66%|████████████████████████████████████████████████████████████████████████▎                                    | 624/940 [12:55<03:03,  1.72it/s]"
     ]
    },
    {
     "name": "stdout",
     "output_type": "stream",
     "text": [
      "✅ 2010: 1 pairs stored\n"
     ]
    },
    {
     "name": "stderr",
     "output_type": "stream",
     "text": [
      "videos:  66%|████████████████████████████████████████████████████████████████████████▍                                    | 625/940 [12:56<03:15,  1.61it/s]"
     ]
    },
    {
     "name": "stdout",
     "output_type": "stream",
     "text": [
      "✅ 2011: 3 pairs stored\n"
     ]
    },
    {
     "name": "stderr",
     "output_type": "stream",
     "text": [
      "videos:  67%|████████████████████████████████████████████████████████████████████████▌                                    | 626/940 [12:57<03:25,  1.53it/s]"
     ]
    },
    {
     "name": "stdout",
     "output_type": "stream",
     "text": [
      "✅ 2012: 0 pairs stored\n"
     ]
    },
    {
     "name": "stderr",
     "output_type": "stream",
     "text": [
      "videos:  67%|████████████████████████████████████████████████████████████████████████▋                                    | 627/940 [12:57<03:34,  1.46it/s]"
     ]
    },
    {
     "name": "stdout",
     "output_type": "stream",
     "text": [
      "✅ 2013: 6 pairs stored\n"
     ]
    },
    {
     "name": "stderr",
     "output_type": "stream",
     "text": [
      "videos:  67%|████████████████████████████████████████████████████████████████████████▊                                    | 628/940 [12:58<03:54,  1.33it/s]"
     ]
    },
    {
     "name": "stdout",
     "output_type": "stream",
     "text": [
      "✅ 2014: 14 pairs stored\n"
     ]
    },
    {
     "name": "stderr",
     "output_type": "stream",
     "text": [
      "videos:  67%|████████████████████████████████████████████████████████████████████████▉                                    | 629/940 [12:59<03:57,  1.31it/s]"
     ]
    },
    {
     "name": "stdout",
     "output_type": "stream",
     "text": [
      "✅ 2015: 0 pairs stored\n"
     ]
    },
    {
     "name": "stderr",
     "output_type": "stream",
     "text": [
      "videos:  67%|█████████████████████████████████████████████████████████████████████████                                    | 630/940 [13:00<04:02,  1.28it/s]"
     ]
    },
    {
     "name": "stdout",
     "output_type": "stream",
     "text": [
      "✅ 2016: 10 pairs stored\n"
     ]
    },
    {
     "name": "stderr",
     "output_type": "stream",
     "text": [
      "videos:  67%|█████████████████████████████████████████████████████████████████████████▏                                   | 631/940 [13:01<03:59,  1.29it/s]"
     ]
    },
    {
     "name": "stdout",
     "output_type": "stream",
     "text": [
      "✅ 2017: 2 pairs stored\n"
     ]
    },
    {
     "name": "stderr",
     "output_type": "stream",
     "text": [
      "videos:  67%|█████████████████████████████████████████████████████████████████████████▎                                   | 632/940 [13:01<04:05,  1.25it/s]"
     ]
    },
    {
     "name": "stdout",
     "output_type": "stream",
     "text": [
      "✅ 2018: 14 pairs stored\n"
     ]
    },
    {
     "name": "stderr",
     "output_type": "stream",
     "text": [
      "videos:  67%|█████████████████████████████████████████████████████████████████████████▍                                   | 633/940 [13:02<04:06,  1.25it/s]"
     ]
    },
    {
     "name": "stdout",
     "output_type": "stream",
     "text": [
      "✅ 2019: 14 pairs stored\n"
     ]
    },
    {
     "name": "stderr",
     "output_type": "stream",
     "text": [
      "videos:  67%|█████████████████████████████████████████████████████████████████████████▌                                   | 634/940 [13:03<04:12,  1.21it/s]"
     ]
    },
    {
     "name": "stdout",
     "output_type": "stream",
     "text": [
      "✅ 2020: 8 pairs stored\n"
     ]
    },
    {
     "name": "stderr",
     "output_type": "stream",
     "text": [
      "videos:  68%|█████████████████████████████████████████████████████████████████████████▋                                   | 635/940 [13:04<03:49,  1.33it/s]"
     ]
    },
    {
     "name": "stdout",
     "output_type": "stream",
     "text": [
      "✅ 2021: 17 pairs stored\n"
     ]
    },
    {
     "name": "stderr",
     "output_type": "stream",
     "text": [
      "videos:  68%|█████████████████████████████████████████████████████████████████████████▋                                   | 636/940 [13:04<03:30,  1.44it/s]"
     ]
    },
    {
     "name": "stdout",
     "output_type": "stream",
     "text": [
      "✅ 2022: 1 pairs stored\n"
     ]
    },
    {
     "name": "stderr",
     "output_type": "stream",
     "text": [
      "videos:  68%|█████████████████████████████████████████████████████████████████████████▊                                   | 637/940 [13:05<03:20,  1.51it/s]"
     ]
    },
    {
     "name": "stdout",
     "output_type": "stream",
     "text": [
      "✅ 2023: 0 pairs stored\n"
     ]
    },
    {
     "name": "stderr",
     "output_type": "stream",
     "text": [
      "videos:  68%|█████████████████████████████████████████████████████████████████████████▉                                   | 638/940 [13:06<03:23,  1.49it/s]"
     ]
    },
    {
     "name": "stdout",
     "output_type": "stream",
     "text": [
      "✅ 2024: 5 pairs stored\n"
     ]
    },
    {
     "name": "stderr",
     "output_type": "stream",
     "text": [
      "videos:  68%|██████████████████████████████████████████████████████████████████████████                                   | 639/940 [13:06<02:58,  1.69it/s]"
     ]
    },
    {
     "name": "stdout",
     "output_type": "stream",
     "text": [
      "✅ 2025: 0 pairs stored\n"
     ]
    },
    {
     "name": "stderr",
     "output_type": "stream",
     "text": [
      "videos:  68%|██████████████████████████████████████████████████████████████████████████▏                                  | 640/940 [13:06<02:47,  1.79it/s]"
     ]
    },
    {
     "name": "stdout",
     "output_type": "stream",
     "text": [
      "✅ 2026: 0 pairs stored\n"
     ]
    },
    {
     "name": "stderr",
     "output_type": "stream",
     "text": [
      "videos:  68%|██████████████████████████████████████████████████████████████████████████▎                                  | 641/940 [13:07<03:00,  1.65it/s]"
     ]
    },
    {
     "name": "stdout",
     "output_type": "stream",
     "text": [
      "✅ 2027: 27 pairs stored\n"
     ]
    },
    {
     "name": "stderr",
     "output_type": "stream",
     "text": [
      "videos:  68%|██████████████████████████████████████████████████████████████████████████▍                                  | 642/940 [13:08<02:49,  1.75it/s]"
     ]
    },
    {
     "name": "stdout",
     "output_type": "stream",
     "text": [
      "✅ 2028: 23 pairs stored\n"
     ]
    },
    {
     "name": "stderr",
     "output_type": "stream",
     "text": [
      "videos:  68%|██████████████████████████████████████████████████████████████████████████▌                                  | 643/940 [13:08<02:44,  1.81it/s]"
     ]
    },
    {
     "name": "stdout",
     "output_type": "stream",
     "text": [
      "✅ 2029: 9 pairs stored\n"
     ]
    },
    {
     "name": "stderr",
     "output_type": "stream",
     "text": [
      "videos:  69%|██████████████████████████████████████████████████████████████████████████▋                                  | 644/940 [13:09<02:48,  1.75it/s]"
     ]
    },
    {
     "name": "stdout",
     "output_type": "stream",
     "text": [
      "✅ 2030: 24 pairs stored\n"
     ]
    },
    {
     "name": "stderr",
     "output_type": "stream",
     "text": [
      "videos:  69%|██████████████████████████████████████████████████████████████████████████▊                                  | 645/940 [13:09<02:55,  1.68it/s]"
     ]
    },
    {
     "name": "stdout",
     "output_type": "stream",
     "text": [
      "✅ 2031: 15 pairs stored\n"
     ]
    },
    {
     "name": "stderr",
     "output_type": "stream",
     "text": [
      "videos:  69%|██████████████████████████████████████████████████████████████████████████▉                                  | 646/940 [13:10<02:49,  1.74it/s]"
     ]
    },
    {
     "name": "stdout",
     "output_type": "stream",
     "text": [
      "✅ 2032: 1 pairs stored\n"
     ]
    },
    {
     "name": "stderr",
     "output_type": "stream",
     "text": [
      "videos:  69%|███████████████████████████████████████████████████████████████████████████                                  | 647/940 [13:11<03:02,  1.60it/s]"
     ]
    },
    {
     "name": "stdout",
     "output_type": "stream",
     "text": [
      "✅ 2033: 0 pairs stored\n"
     ]
    },
    {
     "name": "stderr",
     "output_type": "stream",
     "text": [
      "videos:  69%|███████████████████████████████████████████████████████████████████████████▏                                 | 648/940 [13:11<02:54,  1.67it/s]"
     ]
    },
    {
     "name": "stdout",
     "output_type": "stream",
     "text": [
      "✅ 2034: 32 pairs stored\n"
     ]
    },
    {
     "name": "stderr",
     "output_type": "stream",
     "text": [
      "videos:  69%|███████████████████████████████████████████████████████████████████████████▎                                 | 649/940 [13:12<03:39,  1.33it/s]"
     ]
    },
    {
     "name": "stdout",
     "output_type": "stream",
     "text": [
      "✅ 2035: 41 pairs stored\n"
     ]
    },
    {
     "name": "stderr",
     "output_type": "stream",
     "text": [
      "videos:  69%|███████████████████████████████████████████████████████████████████████████▎                                 | 650/940 [13:13<03:33,  1.36it/s]"
     ]
    },
    {
     "name": "stdout",
     "output_type": "stream",
     "text": [
      "✅ 2036: 14 pairs stored\n"
     ]
    },
    {
     "name": "stderr",
     "output_type": "stream",
     "text": [
      "videos:  69%|███████████████████████████████████████████████████████████████████████████▍                                 | 651/940 [13:14<03:36,  1.34it/s]"
     ]
    },
    {
     "name": "stdout",
     "output_type": "stream",
     "text": [
      "✅ 2037: 8 pairs stored\n"
     ]
    },
    {
     "name": "stderr",
     "output_type": "stream",
     "text": [
      "videos:  69%|███████████████████████████████████████████████████████████████████████████▌                                 | 652/940 [13:14<03:15,  1.47it/s]"
     ]
    },
    {
     "name": "stdout",
     "output_type": "stream",
     "text": [
      "✅ 2038: 6 pairs stored\n"
     ]
    },
    {
     "name": "stderr",
     "output_type": "stream",
     "text": [
      "videos:  69%|███████████████████████████████████████████████████████████████████████████▋                                 | 653/940 [13:15<03:43,  1.29it/s]"
     ]
    },
    {
     "name": "stdout",
     "output_type": "stream",
     "text": [
      "✅ 2039: 7 pairs stored\n"
     ]
    },
    {
     "name": "stderr",
     "output_type": "stream",
     "text": [
      "videos:  70%|███████████████████████████████████████████████████████████████████████████▊                                 | 654/940 [13:16<03:42,  1.28it/s]"
     ]
    },
    {
     "name": "stdout",
     "output_type": "stream",
     "text": [
      "✅ 2040: 10 pairs stored\n"
     ]
    },
    {
     "name": "stderr",
     "output_type": "stream",
     "text": [
      "videos:  70%|███████████████████████████████████████████████████████████████████████████▉                                 | 655/940 [13:17<03:29,  1.36it/s]"
     ]
    },
    {
     "name": "stdout",
     "output_type": "stream",
     "text": [
      "✅ 2041: 1 pairs stored\n"
     ]
    },
    {
     "name": "stderr",
     "output_type": "stream",
     "text": [
      "videos:  70%|████████████████████████████████████████████████████████████████████████████                                 | 656/940 [13:18<03:33,  1.33it/s]"
     ]
    },
    {
     "name": "stdout",
     "output_type": "stream",
     "text": [
      "✅ 2042: 27 pairs stored\n"
     ]
    },
    {
     "name": "stderr",
     "output_type": "stream",
     "text": [
      "videos:  70%|████████████████████████████████████████████████████████████████████████████▏                                | 657/940 [13:19<04:05,  1.15it/s]"
     ]
    },
    {
     "name": "stdout",
     "output_type": "stream",
     "text": [
      "✅ 2043: 0 pairs stored\n"
     ]
    },
    {
     "name": "stderr",
     "output_type": "stream",
     "text": [
      "videos:  70%|████████████████████████████████████████████████████████████████████████████▎                                | 658/940 [13:20<04:02,  1.16it/s]"
     ]
    },
    {
     "name": "stdout",
     "output_type": "stream",
     "text": [
      "✅ 2044: 0 pairs stored\n"
     ]
    },
    {
     "name": "stderr",
     "output_type": "stream",
     "text": [
      "videos:  70%|████████████████████████████████████████████████████████████████████████████▍                                | 659/940 [13:20<03:58,  1.18it/s]"
     ]
    },
    {
     "name": "stdout",
     "output_type": "stream",
     "text": [
      "✅ 2045: 1 pairs stored\n"
     ]
    },
    {
     "name": "stderr",
     "output_type": "stream",
     "text": [
      "videos:  70%|████████████████████████████████████████████████████████████████████████████▌                                | 660/940 [13:21<03:45,  1.24it/s]"
     ]
    },
    {
     "name": "stdout",
     "output_type": "stream",
     "text": [
      "✅ 2046: 10 pairs stored\n"
     ]
    },
    {
     "name": "stderr",
     "output_type": "stream",
     "text": [
      "videos:  70%|████████████████████████████████████████████████████████████████████████████▋                                | 661/940 [13:22<03:35,  1.30it/s]"
     ]
    },
    {
     "name": "stdout",
     "output_type": "stream",
     "text": [
      "✅ 2047: 1 pairs stored\n"
     ]
    },
    {
     "name": "stderr",
     "output_type": "stream",
     "text": [
      "videos:  70%|████████████████████████████████████████████████████████████████████████████▊                                | 662/940 [13:22<03:23,  1.37it/s]"
     ]
    },
    {
     "name": "stdout",
     "output_type": "stream",
     "text": [
      "✅ 2048: 16 pairs stored\n"
     ]
    },
    {
     "name": "stderr",
     "output_type": "stream",
     "text": [
      "videos:  71%|████████████████████████████████████████████████████████████████████████████▉                                | 663/940 [13:23<03:53,  1.19it/s]"
     ]
    },
    {
     "name": "stdout",
     "output_type": "stream",
     "text": [
      "✅ 2049: 25 pairs stored\n"
     ]
    },
    {
     "name": "stderr",
     "output_type": "stream",
     "text": [
      "videos:  71%|████████████████████████████████████████████████████████████████████████████▉                                | 664/940 [13:24<03:59,  1.15it/s]"
     ]
    },
    {
     "name": "stdout",
     "output_type": "stream",
     "text": [
      "✅ 2050: 5 pairs stored\n"
     ]
    },
    {
     "name": "stderr",
     "output_type": "stream",
     "text": [
      "videos:  71%|█████████████████████████████████████████████████████████████████████████████                                | 665/940 [13:25<03:41,  1.24it/s]"
     ]
    },
    {
     "name": "stdout",
     "output_type": "stream",
     "text": [
      "✅ 2051: 0 pairs stored\n"
     ]
    },
    {
     "name": "stderr",
     "output_type": "stream",
     "text": [
      "videos:  71%|█████████████████████████████████████████████████████████████████████████████▏                               | 666/940 [13:26<03:49,  1.19it/s]"
     ]
    },
    {
     "name": "stdout",
     "output_type": "stream",
     "text": [
      "✅ 2052: 0 pairs stored\n"
     ]
    },
    {
     "name": "stderr",
     "output_type": "stream",
     "text": [
      "videos:  71%|█████████████████████████████████████████████████████████████████████████████▎                               | 667/940 [13:27<03:48,  1.19it/s]"
     ]
    },
    {
     "name": "stdout",
     "output_type": "stream",
     "text": [
      "✅ 2053: 0 pairs stored\n"
     ]
    },
    {
     "name": "stderr",
     "output_type": "stream",
     "text": [
      "videos:  71%|█████████████████████████████████████████████████████████████████████████████▍                               | 668/940 [13:28<03:49,  1.19it/s]"
     ]
    },
    {
     "name": "stdout",
     "output_type": "stream",
     "text": [
      "✅ 2054: 26 pairs stored\n"
     ]
    },
    {
     "name": "stderr",
     "output_type": "stream",
     "text": [
      "videos:  71%|█████████████████████████████████████████████████████████████████████████████▌                               | 669/940 [13:29<04:06,  1.10it/s]"
     ]
    },
    {
     "name": "stdout",
     "output_type": "stream",
     "text": [
      "✅ 2055: 3 pairs stored\n"
     ]
    },
    {
     "name": "stderr",
     "output_type": "stream",
     "text": [
      "videos:  71%|█████████████████████████████████████████████████████████████████████████████▋                               | 670/940 [13:30<04:28,  1.01it/s]"
     ]
    },
    {
     "name": "stdout",
     "output_type": "stream",
     "text": [
      "✅ 2056: 3 pairs stored\n"
     ]
    },
    {
     "name": "stderr",
     "output_type": "stream",
     "text": [
      "videos:  71%|█████████████████████████████████████████████████████████████████████████████▊                               | 671/940 [13:31<04:11,  1.07it/s]"
     ]
    },
    {
     "name": "stdout",
     "output_type": "stream",
     "text": [
      "✅ 2057: 0 pairs stored\n"
     ]
    },
    {
     "name": "stderr",
     "output_type": "stream",
     "text": [
      "videos:  71%|█████████████████████████████████████████████████████████████████████████████▉                               | 672/940 [13:31<03:38,  1.22it/s]"
     ]
    },
    {
     "name": "stdout",
     "output_type": "stream",
     "text": [
      "✅ 2058: 0 pairs stored\n"
     ]
    },
    {
     "name": "stderr",
     "output_type": "stream",
     "text": [
      "videos:  72%|██████████████████████████████████████████████████████████████████████████████                               | 673/940 [13:32<03:09,  1.41it/s]"
     ]
    },
    {
     "name": "stdout",
     "output_type": "stream",
     "text": [
      "✅ 2059: 0 pairs stored\n"
     ]
    },
    {
     "name": "stderr",
     "output_type": "stream",
     "text": [
      "videos:  72%|██████████████████████████████████████████████████████████████████████████████▏                              | 674/940 [13:32<03:09,  1.40it/s]"
     ]
    },
    {
     "name": "stdout",
     "output_type": "stream",
     "text": [
      "✅ 2060: 0 pairs stored\n"
     ]
    },
    {
     "name": "stderr",
     "output_type": "stream",
     "text": [
      "videos:  72%|██████████████████████████████████████████████████████████████████████████████▎                              | 675/940 [13:33<03:10,  1.39it/s]"
     ]
    },
    {
     "name": "stdout",
     "output_type": "stream",
     "text": [
      "✅ 2061: 44 pairs stored\n"
     ]
    },
    {
     "name": "stderr",
     "output_type": "stream",
     "text": [
      "videos:  72%|██████████████████████████████████████████████████████████████████████████████▍                              | 676/940 [13:34<03:33,  1.24it/s]"
     ]
    },
    {
     "name": "stdout",
     "output_type": "stream",
     "text": [
      "✅ 2062: 18 pairs stored\n"
     ]
    },
    {
     "name": "stderr",
     "output_type": "stream",
     "text": [
      "videos:  72%|██████████████████████████████████████████████████████████████████████████████▌                              | 677/940 [13:36<04:12,  1.04it/s]"
     ]
    },
    {
     "name": "stdout",
     "output_type": "stream",
     "text": [
      "✅ 2063: 14 pairs stored\n"
     ]
    },
    {
     "name": "stderr",
     "output_type": "stream",
     "text": [
      "videos:  72%|██████████████████████████████████████████████████████████████████████████████▌                              | 678/940 [13:36<04:03,  1.08it/s]"
     ]
    },
    {
     "name": "stdout",
     "output_type": "stream",
     "text": [
      "✅ 2064: 39 pairs stored\n"
     ]
    },
    {
     "name": "stderr",
     "output_type": "stream",
     "text": [
      "videos:  72%|██████████████████████████████████████████████████████████████████████████████▋                              | 679/940 [13:37<03:42,  1.17it/s]"
     ]
    },
    {
     "name": "stdout",
     "output_type": "stream",
     "text": [
      "✅ 2065: 27 pairs stored\n"
     ]
    },
    {
     "name": "stderr",
     "output_type": "stream",
     "text": [
      "videos:  72%|██████████████████████████████████████████████████████████████████████████████▊                              | 680/940 [13:38<03:41,  1.17it/s]"
     ]
    },
    {
     "name": "stdout",
     "output_type": "stream",
     "text": [
      "✅ 2066: 21 pairs stored\n"
     ]
    },
    {
     "name": "stderr",
     "output_type": "stream",
     "text": [
      "videos:  72%|██████████████████████████████████████████████████████████████████████████████▉                              | 681/940 [13:39<03:36,  1.19it/s]"
     ]
    },
    {
     "name": "stdout",
     "output_type": "stream",
     "text": [
      "✅ 2067: 5 pairs stored\n"
     ]
    },
    {
     "name": "stderr",
     "output_type": "stream",
     "text": [
      "videos:  73%|███████████████████████████████████████████████████████████████████████████████                              | 682/940 [13:39<03:16,  1.31it/s]"
     ]
    },
    {
     "name": "stdout",
     "output_type": "stream",
     "text": [
      "✅ 2068: 19 pairs stored\n"
     ]
    },
    {
     "name": "stderr",
     "output_type": "stream",
     "text": [
      "videos:  73%|███████████████████████████████████████████████████████████████████████████████▏                             | 683/940 [13:40<03:15,  1.32it/s]"
     ]
    },
    {
     "name": "stdout",
     "output_type": "stream",
     "text": [
      "✅ 2069: 43 pairs stored\n"
     ]
    },
    {
     "name": "stderr",
     "output_type": "stream",
     "text": [
      "videos:  73%|███████████████████████████████████████████████████████████████████████████████▎                             | 684/940 [13:41<03:08,  1.36it/s]"
     ]
    },
    {
     "name": "stdout",
     "output_type": "stream",
     "text": [
      "✅ 2070: 0 pairs stored\n"
     ]
    },
    {
     "name": "stderr",
     "output_type": "stream",
     "text": [
      "videos:  73%|███████████████████████████████████████████████████████████████████████████████▍                             | 685/940 [13:41<02:57,  1.44it/s]"
     ]
    },
    {
     "name": "stdout",
     "output_type": "stream",
     "text": [
      "✅ 2071: 10 pairs stored\n"
     ]
    },
    {
     "name": "stderr",
     "output_type": "stream",
     "text": [
      "videos:  73%|███████████████████████████████████████████████████████████████████████████████▌                             | 686/940 [13:42<02:51,  1.48it/s]"
     ]
    },
    {
     "name": "stdout",
     "output_type": "stream",
     "text": [
      "✅ 2072: 5 pairs stored\n"
     ]
    },
    {
     "name": "stderr",
     "output_type": "stream",
     "text": [
      "videos:  73%|███████████████████████████████████████████████████████████████████████████████▋                             | 687/940 [13:42<02:41,  1.57it/s]"
     ]
    },
    {
     "name": "stdout",
     "output_type": "stream",
     "text": [
      "✅ 2073: 20 pairs stored\n"
     ]
    },
    {
     "name": "stderr",
     "output_type": "stream",
     "text": [
      "videos:  73%|███████████████████████████████████████████████████████████████████████████████▊                             | 688/940 [13:43<02:24,  1.75it/s]"
     ]
    },
    {
     "name": "stdout",
     "output_type": "stream",
     "text": [
      "✅ 2074: 14 pairs stored\n"
     ]
    },
    {
     "name": "stderr",
     "output_type": "stream",
     "text": [
      "videos:  73%|███████████████████████████████████████████████████████████████████████████████▉                             | 689/940 [13:44<02:31,  1.65it/s]"
     ]
    },
    {
     "name": "stdout",
     "output_type": "stream",
     "text": [
      "✅ 2075: 2 pairs stored\n"
     ]
    },
    {
     "name": "stderr",
     "output_type": "stream",
     "text": [
      "videos:  73%|████████████████████████████████████████████████████████████████████████████████                             | 690/940 [13:44<02:38,  1.58it/s]"
     ]
    },
    {
     "name": "stdout",
     "output_type": "stream",
     "text": [
      "✅ 2076: 12 pairs stored\n"
     ]
    },
    {
     "name": "stderr",
     "output_type": "stream",
     "text": [
      "videos:  74%|████████████████████████████████████████████████████████████████████████████████▏                            | 691/940 [13:45<02:31,  1.64it/s]"
     ]
    },
    {
     "name": "stdout",
     "output_type": "stream",
     "text": [
      "✅ 2077: 2 pairs stored\n"
     ]
    },
    {
     "name": "stderr",
     "output_type": "stream",
     "text": [
      "videos:  74%|████████████████████████████████████████████████████████████████████████████████▏                            | 692/940 [13:46<02:43,  1.52it/s]"
     ]
    },
    {
     "name": "stdout",
     "output_type": "stream",
     "text": [
      "✅ 2078: 30 pairs stored\n"
     ]
    },
    {
     "name": "stderr",
     "output_type": "stream",
     "text": [
      "videos:  74%|████████████████████████████████████████████████████████████████████████████████▎                            | 693/940 [13:46<02:25,  1.70it/s]"
     ]
    },
    {
     "name": "stdout",
     "output_type": "stream",
     "text": [
      "✅ 2079: 20 pairs stored\n"
     ]
    },
    {
     "name": "stderr",
     "output_type": "stream",
     "text": [
      "videos:  74%|████████████████████████████████████████████████████████████████████████████████▍                            | 694/940 [13:47<02:53,  1.42it/s]"
     ]
    },
    {
     "name": "stdout",
     "output_type": "stream",
     "text": [
      "✅ 2080: 3 pairs stored\n"
     ]
    },
    {
     "name": "stderr",
     "output_type": "stream",
     "text": [
      "videos:  74%|████████████████████████████████████████████████████████████████████████████████▌                            | 695/940 [13:48<03:18,  1.24it/s]"
     ]
    },
    {
     "name": "stdout",
     "output_type": "stream",
     "text": [
      "✅ 2081: 4 pairs stored\n"
     ]
    },
    {
     "name": "stderr",
     "output_type": "stream",
     "text": [
      "videos:  74%|████████████████████████████████████████████████████████████████████████████████▋                            | 696/940 [13:49<03:24,  1.19it/s]"
     ]
    },
    {
     "name": "stdout",
     "output_type": "stream",
     "text": [
      "✅ 2082: 1 pairs stored\n"
     ]
    },
    {
     "name": "stderr",
     "output_type": "stream",
     "text": [
      "videos:  74%|████████████████████████████████████████████████████████████████████████████████▊                            | 697/940 [13:50<03:17,  1.23it/s]"
     ]
    },
    {
     "name": "stdout",
     "output_type": "stream",
     "text": [
      "✅ 2083: 2 pairs stored\n"
     ]
    },
    {
     "name": "stderr",
     "output_type": "stream",
     "text": [
      "videos:  74%|████████████████████████████████████████████████████████████████████████████████▉                            | 698/940 [13:51<03:39,  1.10it/s]"
     ]
    },
    {
     "name": "stdout",
     "output_type": "stream",
     "text": [
      "✅ 2084: 2 pairs stored\n"
     ]
    },
    {
     "name": "stderr",
     "output_type": "stream",
     "text": [
      "videos:  74%|█████████████████████████████████████████████████████████████████████████████████                            | 699/940 [13:52<03:21,  1.19it/s]"
     ]
    },
    {
     "name": "stdout",
     "output_type": "stream",
     "text": [
      "✅ 2085: 5 pairs stored\n"
     ]
    },
    {
     "name": "stderr",
     "output_type": "stream",
     "text": [
      "videos:  74%|█████████████████████████████████████████████████████████████████████████████████▏                           | 700/940 [13:52<03:16,  1.22it/s]"
     ]
    },
    {
     "name": "stdout",
     "output_type": "stream",
     "text": [
      "✅ 2086: 0 pairs stored\n"
     ]
    },
    {
     "name": "stderr",
     "output_type": "stream",
     "text": [
      "videos:  75%|█████████████████████████████████████████████████████████████████████████████████▎                           | 701/940 [13:53<03:16,  1.22it/s]"
     ]
    },
    {
     "name": "stdout",
     "output_type": "stream",
     "text": [
      "✅ 2087: 21 pairs stored\n"
     ]
    },
    {
     "name": "stderr",
     "output_type": "stream",
     "text": [
      "videos:  75%|█████████████████████████████████████████████████████████████████████████████████▍                           | 702/940 [13:54<03:15,  1.22it/s]"
     ]
    },
    {
     "name": "stdout",
     "output_type": "stream",
     "text": [
      "✅ 2088: 2 pairs stored\n"
     ]
    },
    {
     "name": "stderr",
     "output_type": "stream",
     "text": [
      "videos:  75%|█████████████████████████████████████████████████████████████████████████████████▌                           | 703/940 [13:55<02:57,  1.34it/s]"
     ]
    },
    {
     "name": "stdout",
     "output_type": "stream",
     "text": [
      "✅ 2089: 8 pairs stored\n"
     ]
    },
    {
     "name": "stderr",
     "output_type": "stream",
     "text": [
      "videos:  75%|█████████████████████████████████████████████████████████████████████████████████▋                           | 704/940 [13:55<02:38,  1.48it/s]"
     ]
    },
    {
     "name": "stdout",
     "output_type": "stream",
     "text": [
      "✅ 2090: 6 pairs stored\n"
     ]
    },
    {
     "name": "stderr",
     "output_type": "stream",
     "text": [
      "videos:  75%|█████████████████████████████████████████████████████████████████████████████████▊                           | 705/940 [13:56<02:49,  1.39it/s]"
     ]
    },
    {
     "name": "stdout",
     "output_type": "stream",
     "text": [
      "✅ 2091: 22 pairs stored\n"
     ]
    },
    {
     "name": "stderr",
     "output_type": "stream",
     "text": [
      "videos:  75%|█████████████████████████████████████████████████████████████████████████████████▊                           | 706/940 [13:57<03:16,  1.19it/s]"
     ]
    },
    {
     "name": "stdout",
     "output_type": "stream",
     "text": [
      "✅ 2092: 2 pairs stored\n"
     ]
    },
    {
     "name": "stderr",
     "output_type": "stream",
     "text": [
      "videos:  75%|█████████████████████████████████████████████████████████████████████████████████▉                           | 707/940 [13:58<03:14,  1.20it/s]"
     ]
    },
    {
     "name": "stdout",
     "output_type": "stream",
     "text": [
      "✅ 2093: 0 pairs stored\n"
     ]
    },
    {
     "name": "stderr",
     "output_type": "stream",
     "text": [
      "videos:  75%|██████████████████████████████████████████████████████████████████████████████████                           | 708/940 [13:59<03:04,  1.26it/s]"
     ]
    },
    {
     "name": "stdout",
     "output_type": "stream",
     "text": [
      "✅ 2094: 7 pairs stored\n"
     ]
    },
    {
     "name": "stderr",
     "output_type": "stream",
     "text": [
      "videos:  75%|██████████████████████████████████████████████████████████████████████████████████▏                          | 709/940 [14:00<03:21,  1.14it/s]"
     ]
    },
    {
     "name": "stdout",
     "output_type": "stream",
     "text": [
      "✅ 2095: 32 pairs stored\n"
     ]
    },
    {
     "name": "stderr",
     "output_type": "stream",
     "text": [
      "videos:  76%|██████████████████████████████████████████████████████████████████████████████████▎                          | 710/940 [14:00<03:12,  1.20it/s]"
     ]
    },
    {
     "name": "stdout",
     "output_type": "stream",
     "text": [
      "✅ 2096: 6 pairs stored\n"
     ]
    },
    {
     "name": "stderr",
     "output_type": "stream",
     "text": [
      "videos:  76%|██████████████████████████████████████████████████████████████████████████████████▍                          | 711/940 [14:01<02:39,  1.43it/s]"
     ]
    },
    {
     "name": "stdout",
     "output_type": "stream",
     "text": [
      "✅ 2097: 0 pairs stored\n"
     ]
    },
    {
     "name": "stderr",
     "output_type": "stream",
     "text": [
      "videos:  76%|██████████████████████████████████████████████████████████████████████████████████▌                          | 712/940 [14:01<02:31,  1.51it/s]"
     ]
    },
    {
     "name": "stdout",
     "output_type": "stream",
     "text": [
      "✅ 2098: 5 pairs stored\n"
     ]
    },
    {
     "name": "stderr",
     "output_type": "stream",
     "text": [
      "videos:  76%|██████████████████████████████████████████████████████████████████████████████████▋                          | 713/940 [14:02<02:28,  1.53it/s]"
     ]
    },
    {
     "name": "stdout",
     "output_type": "stream",
     "text": [
      "✅ 2099: 6 pairs stored\n"
     ]
    },
    {
     "name": "stderr",
     "output_type": "stream",
     "text": [
      "videos:  76%|██████████████████████████████████████████████████████████████████████████████████▊                          | 714/940 [14:02<02:20,  1.60it/s]"
     ]
    },
    {
     "name": "stdout",
     "output_type": "stream",
     "text": [
      "✅ 2100: 3 pairs stored\n"
     ]
    },
    {
     "name": "stderr",
     "output_type": "stream",
     "text": [
      "videos:  76%|██████████████████████████████████████████████████████████████████████████████████▉                          | 715/940 [14:03<02:42,  1.39it/s]"
     ]
    },
    {
     "name": "stdout",
     "output_type": "stream",
     "text": [
      "✅ 2101: 36 pairs stored\n"
     ]
    },
    {
     "name": "stderr",
     "output_type": "stream",
     "text": [
      "videos:  76%|███████████████████████████████████████████████████████████████████████████████████                          | 716/940 [14:04<02:29,  1.50it/s]"
     ]
    },
    {
     "name": "stdout",
     "output_type": "stream",
     "text": [
      "✅ 2102: 27 pairs stored\n"
     ]
    },
    {
     "name": "stderr",
     "output_type": "stream",
     "text": [
      "videos:  76%|███████████████████████████████████████████████████████████████████████████████████▏                         | 717/940 [14:05<02:39,  1.40it/s]"
     ]
    },
    {
     "name": "stdout",
     "output_type": "stream",
     "text": [
      "✅ 2103: 10 pairs stored\n"
     ]
    },
    {
     "name": "stderr",
     "output_type": "stream",
     "text": [
      "videos:  76%|███████████████████████████████████████████████████████████████████████████████████▎                         | 718/940 [14:06<03:12,  1.15it/s]"
     ]
    },
    {
     "name": "stdout",
     "output_type": "stream",
     "text": [
      "✅ 2104: 17 pairs stored\n"
     ]
    },
    {
     "name": "stderr",
     "output_type": "stream",
     "text": [
      "videos:  76%|███████████████████████████████████████████████████████████████████████████████████▎                         | 719/940 [14:07<03:04,  1.20it/s]"
     ]
    },
    {
     "name": "stdout",
     "output_type": "stream",
     "text": [
      "✅ 2105: 17 pairs stored\n"
     ]
    },
    {
     "name": "stderr",
     "output_type": "stream",
     "text": [
      "videos:  77%|███████████████████████████████████████████████████████████████████████████████████▍                         | 720/940 [14:08<03:35,  1.02it/s]"
     ]
    },
    {
     "name": "stdout",
     "output_type": "stream",
     "text": [
      "✅ 2106: 10 pairs stored\n"
     ]
    },
    {
     "name": "stderr",
     "output_type": "stream",
     "text": [
      "videos:  77%|███████████████████████████████████████████████████████████████████████████████████▌                         | 721/940 [14:09<03:34,  1.02it/s]"
     ]
    },
    {
     "name": "stdout",
     "output_type": "stream",
     "text": [
      "✅ 2107: 0 pairs stored\n"
     ]
    },
    {
     "name": "stderr",
     "output_type": "stream",
     "text": [
      "videos:  77%|███████████████████████████████████████████████████████████████████████████████████▋                         | 722/940 [14:10<03:27,  1.05it/s]"
     ]
    },
    {
     "name": "stdout",
     "output_type": "stream",
     "text": [
      "✅ 2108: 19 pairs stored\n"
     ]
    },
    {
     "name": "stderr",
     "output_type": "stream",
     "text": [
      "videos:  77%|███████████████████████████████████████████████████████████████████████████████████▊                         | 723/940 [14:11<03:59,  1.10s/it]"
     ]
    },
    {
     "name": "stdout",
     "output_type": "stream",
     "text": [
      "✅ 2109: 1 pairs stored\n"
     ]
    },
    {
     "name": "stderr",
     "output_type": "stream",
     "text": [
      "videos:  77%|███████████████████████████████████████████████████████████████████████████████████▉                         | 724/940 [14:12<03:41,  1.03s/it]"
     ]
    },
    {
     "name": "stdout",
     "output_type": "stream",
     "text": [
      "✅ 2110: 1 pairs stored\n"
     ]
    },
    {
     "name": "stderr",
     "output_type": "stream",
     "text": [
      "videos:  77%|████████████████████████████████████████████████████████████████████████████████████                         | 725/940 [14:13<03:24,  1.05it/s]"
     ]
    },
    {
     "name": "stdout",
     "output_type": "stream",
     "text": [
      "✅ 2111: 2 pairs stored\n"
     ]
    },
    {
     "name": "stderr",
     "output_type": "stream",
     "text": [
      "videos:  77%|████████████████████████████████████████████████████████████████████████████████████▏                        | 726/940 [14:14<03:00,  1.19it/s]"
     ]
    },
    {
     "name": "stdout",
     "output_type": "stream",
     "text": [
      "✅ 2112: 0 pairs stored\n"
     ]
    },
    {
     "name": "stderr",
     "output_type": "stream",
     "text": [
      "videos:  77%|████████████████████████████████████████████████████████████████████████████████████▎                        | 727/940 [14:14<02:44,  1.29it/s]"
     ]
    },
    {
     "name": "stdout",
     "output_type": "stream",
     "text": [
      "✅ 2113: 0 pairs stored\n"
     ]
    },
    {
     "name": "stderr",
     "output_type": "stream",
     "text": [
      "videos:  77%|████████████████████████████████████████████████████████████████████████████████████▍                        | 728/940 [14:15<02:30,  1.41it/s]"
     ]
    },
    {
     "name": "stdout",
     "output_type": "stream",
     "text": [
      "✅ 2114: 0 pairs stored\n"
     ]
    },
    {
     "name": "stderr",
     "output_type": "stream",
     "text": [
      "videos:  78%|████████████████████████████████████████████████████████████████████████████████████▌                        | 729/940 [14:16<02:31,  1.39it/s]"
     ]
    },
    {
     "name": "stdout",
     "output_type": "stream",
     "text": [
      "✅ 2115: 3 pairs stored\n"
     ]
    },
    {
     "name": "stderr",
     "output_type": "stream",
     "text": [
      "videos:  78%|████████████████████████████████████████████████████████████████████████████████████▋                        | 730/940 [14:16<02:35,  1.35it/s]"
     ]
    },
    {
     "name": "stdout",
     "output_type": "stream",
     "text": [
      "✅ 2116: 4 pairs stored\n"
     ]
    },
    {
     "name": "stderr",
     "output_type": "stream",
     "text": [
      "videos:  78%|████████████████████████████████████████████████████████████████████████████████████▊                        | 731/940 [14:17<02:51,  1.22it/s]"
     ]
    },
    {
     "name": "stdout",
     "output_type": "stream",
     "text": [
      "✅ 2117: 1 pairs stored\n"
     ]
    },
    {
     "name": "stderr",
     "output_type": "stream",
     "text": [
      "videos:  78%|████████████████████████████████████████████████████████████████████████████████████▉                        | 732/940 [14:18<02:38,  1.31it/s]"
     ]
    },
    {
     "name": "stdout",
     "output_type": "stream",
     "text": [
      "✅ 2118: 7 pairs stored\n"
     ]
    },
    {
     "name": "stderr",
     "output_type": "stream",
     "text": [
      "videos:  78%|████████████████████████████████████████████████████████████████████████████████████▉                        | 733/940 [14:18<02:16,  1.52it/s]"
     ]
    },
    {
     "name": "stdout",
     "output_type": "stream",
     "text": [
      "✅ 2119: 27 pairs stored\n"
     ]
    },
    {
     "name": "stderr",
     "output_type": "stream",
     "text": [
      "videos:  78%|█████████████████████████████████████████████████████████████████████████████████████                        | 734/940 [14:19<01:59,  1.72it/s]"
     ]
    },
    {
     "name": "stdout",
     "output_type": "stream",
     "text": [
      "✅ 2120: 0 pairs stored\n"
     ]
    },
    {
     "name": "stderr",
     "output_type": "stream",
     "text": [
      "videos:  78%|█████████████████████████████████████████████████████████████████████████████████████▏                       | 735/940 [14:20<02:33,  1.34it/s]"
     ]
    },
    {
     "name": "stdout",
     "output_type": "stream",
     "text": [
      "✅ 2121: 24 pairs stored\n"
     ]
    },
    {
     "name": "stderr",
     "output_type": "stream",
     "text": [
      "videos:  78%|█████████████████████████████████████████████████████████████████████████████████████▎                       | 736/940 [14:21<02:23,  1.42it/s]"
     ]
    },
    {
     "name": "stdout",
     "output_type": "stream",
     "text": [
      "✅ 2122: 24 pairs stored\n"
     ]
    },
    {
     "name": "stderr",
     "output_type": "stream",
     "text": [
      "videos:  78%|█████████████████████████████████████████████████████████████████████████████████████▍                       | 737/940 [14:21<02:23,  1.42it/s]"
     ]
    },
    {
     "name": "stdout",
     "output_type": "stream",
     "text": [
      "✅ 2123: 25 pairs stored\n"
     ]
    },
    {
     "name": "stderr",
     "output_type": "stream",
     "text": [
      "videos:  79%|█████████████████████████████████████████████████████████████████████████████████████▌                       | 738/940 [14:22<02:13,  1.51it/s]"
     ]
    },
    {
     "name": "stdout",
     "output_type": "stream",
     "text": [
      "✅ 2124: 1 pairs stored\n"
     ]
    },
    {
     "name": "stderr",
     "output_type": "stream",
     "text": [
      "videos:  79%|█████████████████████████████████████████████████████████████████████████████████████▋                       | 739/940 [14:22<02:03,  1.62it/s]"
     ]
    },
    {
     "name": "stdout",
     "output_type": "stream",
     "text": [
      "✅ 2125: 13 pairs stored\n"
     ]
    },
    {
     "name": "stderr",
     "output_type": "stream",
     "text": [
      "videos:  79%|█████████████████████████████████████████████████████████████████████████████████████▊                       | 740/940 [14:23<01:45,  1.90it/s]"
     ]
    },
    {
     "name": "stdout",
     "output_type": "stream",
     "text": [
      "✅ 2126: 10 pairs stored\n"
     ]
    },
    {
     "name": "stderr",
     "output_type": "stream",
     "text": [
      "videos:  79%|█████████████████████████████████████████████████████████████████████████████████████▉                       | 741/940 [14:23<01:55,  1.73it/s]"
     ]
    },
    {
     "name": "stdout",
     "output_type": "stream",
     "text": [
      "✅ 2127: 17 pairs stored\n"
     ]
    },
    {
     "name": "stderr",
     "output_type": "stream",
     "text": [
      "videos:  79%|██████████████████████████████████████████████████████████████████████████████████████                       | 742/940 [14:24<01:58,  1.67it/s]"
     ]
    },
    {
     "name": "stdout",
     "output_type": "stream",
     "text": [
      "✅ 2128: 2 pairs stored\n"
     ]
    },
    {
     "name": "stderr",
     "output_type": "stream",
     "text": [
      "videos:  79%|██████████████████████████████████████████████████████████████████████████████████████▏                      | 743/940 [14:25<02:06,  1.55it/s]"
     ]
    },
    {
     "name": "stdout",
     "output_type": "stream",
     "text": [
      "✅ 2129: 0 pairs stored\n"
     ]
    },
    {
     "name": "stderr",
     "output_type": "stream",
     "text": [
      "videos:  79%|██████████████████████████████████████████████████████████████████████████████████████▎                      | 744/940 [14:25<02:11,  1.49it/s]"
     ]
    },
    {
     "name": "stdout",
     "output_type": "stream",
     "text": [
      "✅ 2130: 0 pairs stored\n"
     ]
    },
    {
     "name": "stderr",
     "output_type": "stream",
     "text": [
      "videos:  79%|██████████████████████████████████████████████████████████████████████████████████████▍                      | 745/940 [14:26<02:06,  1.54it/s]"
     ]
    },
    {
     "name": "stdout",
     "output_type": "stream",
     "text": [
      "✅ 2131: 0 pairs stored\n"
     ]
    },
    {
     "name": "stderr",
     "output_type": "stream",
     "text": [
      "videos:  79%|██████████████████████████████████████████████████████████████████████████████████████▌                      | 746/940 [14:27<02:11,  1.48it/s]"
     ]
    },
    {
     "name": "stdout",
     "output_type": "stream",
     "text": [
      "✅ 2132: 12 pairs stored\n"
     ]
    },
    {
     "name": "stderr",
     "output_type": "stream",
     "text": [
      "videos:  79%|██████████████████████████████████████████████████████████████████████████████████████▌                      | 747/940 [14:27<02:13,  1.45it/s]"
     ]
    },
    {
     "name": "stdout",
     "output_type": "stream",
     "text": [
      "✅ 2133: 25 pairs stored\n"
     ]
    },
    {
     "name": "stderr",
     "output_type": "stream",
     "text": [
      "videos:  80%|██████████████████████████████████████████████████████████████████████████████████████▋                      | 748/940 [14:28<02:23,  1.33it/s]"
     ]
    },
    {
     "name": "stdout",
     "output_type": "stream",
     "text": [
      "✅ 2134: 36 pairs stored\n"
     ]
    },
    {
     "name": "stderr",
     "output_type": "stream",
     "text": [
      "videos:  80%|██████████████████████████████████████████████████████████████████████████████████████▊                      | 749/940 [14:29<02:05,  1.52it/s]"
     ]
    },
    {
     "name": "stdout",
     "output_type": "stream",
     "text": [
      "✅ 2135: 9 pairs stored\n"
     ]
    },
    {
     "name": "stderr",
     "output_type": "stream",
     "text": [
      "videos:  80%|██████████████████████████████████████████████████████████████████████████████████████▉                      | 750/940 [14:30<02:19,  1.36it/s]"
     ]
    },
    {
     "name": "stdout",
     "output_type": "stream",
     "text": [
      "✅ 2136: 14 pairs stored\n"
     ]
    },
    {
     "name": "stderr",
     "output_type": "stream",
     "text": [
      "videos:  80%|███████████████████████████████████████████████████████████████████████████████████████                      | 751/940 [14:31<02:56,  1.07it/s]"
     ]
    },
    {
     "name": "stdout",
     "output_type": "stream",
     "text": [
      "✅ 2137: 48 pairs stored\n"
     ]
    },
    {
     "name": "stderr",
     "output_type": "stream",
     "text": [
      "videos:  80%|███████████████████████████████████████████████████████████████████████████████████████▏                     | 752/940 [14:33<04:13,  1.35s/it]"
     ]
    },
    {
     "name": "stdout",
     "output_type": "stream",
     "text": [
      "✅ 2138: 43 pairs stored\n"
     ]
    },
    {
     "name": "stderr",
     "output_type": "stream",
     "text": [
      "videos:  80%|███████████████████████████████████████████████████████████████████████████████████████▎                     | 753/940 [14:34<03:29,  1.12s/it]"
     ]
    },
    {
     "name": "stdout",
     "output_type": "stream",
     "text": [
      "✅ 2139: 34 pairs stored\n"
     ]
    },
    {
     "name": "stderr",
     "output_type": "stream",
     "text": [
      "videos:  80%|███████████████████████████████████████████████████████████████████████████████████████▍                     | 754/940 [14:35<03:05,  1.00it/s]"
     ]
    },
    {
     "name": "stdout",
     "output_type": "stream",
     "text": [
      "✅ 2140: 9 pairs stored\n"
     ]
    },
    {
     "name": "stderr",
     "output_type": "stream",
     "text": [
      "videos:  80%|███████████████████████████████████████████████████████████████████████████████████████▌                     | 755/940 [14:36<03:23,  1.10s/it]"
     ]
    },
    {
     "name": "stdout",
     "output_type": "stream",
     "text": [
      "✅ 2141: 8 pairs stored\n"
     ]
    },
    {
     "name": "stderr",
     "output_type": "stream",
     "text": [
      "videos:  80%|███████████████████████████████████████████████████████████████████████████████████████▋                     | 756/940 [14:37<03:02,  1.01it/s]"
     ]
    },
    {
     "name": "stdout",
     "output_type": "stream",
     "text": [
      "✅ 2142: 3 pairs stored\n"
     ]
    },
    {
     "name": "stderr",
     "output_type": "stream",
     "text": [
      "videos:  81%|███████████████████████████████████████████████████████████████████████████████████████▊                     | 757/940 [14:38<02:46,  1.10it/s]"
     ]
    },
    {
     "name": "stdout",
     "output_type": "stream",
     "text": [
      "✅ 2143: 4 pairs stored\n"
     ]
    },
    {
     "name": "stderr",
     "output_type": "stream",
     "text": [
      "videos:  81%|███████████████████████████████████████████████████████████████████████████████████████▉                     | 758/940 [14:38<02:22,  1.28it/s]"
     ]
    },
    {
     "name": "stdout",
     "output_type": "stream",
     "text": [
      "✅ 2144: 0 pairs stored\n"
     ]
    },
    {
     "name": "stderr",
     "output_type": "stream",
     "text": [
      "videos:  81%|████████████████████████████████████████████████████████████████████████████████████████                     | 759/940 [14:39<02:45,  1.10it/s]"
     ]
    },
    {
     "name": "stdout",
     "output_type": "stream",
     "text": [
      "✅ 2145: 4 pairs stored\n"
     ]
    },
    {
     "name": "stderr",
     "output_type": "stream",
     "text": [
      "videos:  81%|████████████████████████████████████████████████████████████████████████████████████████▏                    | 760/940 [14:40<02:31,  1.19it/s]"
     ]
    },
    {
     "name": "stdout",
     "output_type": "stream",
     "text": [
      "✅ 2146: 4 pairs stored\n"
     ]
    },
    {
     "name": "stderr",
     "output_type": "stream",
     "text": [
      "videos:  81%|████████████████████████████████████████████████████████████████████████████████████████▏                    | 761/940 [14:41<02:56,  1.02it/s]"
     ]
    },
    {
     "name": "stdout",
     "output_type": "stream",
     "text": [
      "✅ 2147: 8 pairs stored\n"
     ]
    },
    {
     "name": "stderr",
     "output_type": "stream",
     "text": [
      "videos:  81%|████████████████████████████████████████████████████████████████████████████████████████▎                    | 762/940 [14:42<02:48,  1.06it/s]"
     ]
    },
    {
     "name": "stdout",
     "output_type": "stream",
     "text": [
      "✅ 2148: 15 pairs stored\n"
     ]
    },
    {
     "name": "stderr",
     "output_type": "stream",
     "text": [
      "videos:  81%|████████████████████████████████████████████████████████████████████████████████████████▍                    | 763/940 [14:43<02:57,  1.00s/it]"
     ]
    },
    {
     "name": "stdout",
     "output_type": "stream",
     "text": [
      "✅ 2149: 10 pairs stored\n"
     ]
    },
    {
     "name": "stderr",
     "output_type": "stream",
     "text": [
      "videos:  81%|████████████████████████████████████████████████████████████████████████████████████████▌                    | 764/940 [14:45<03:10,  1.09s/it]"
     ]
    },
    {
     "name": "stdout",
     "output_type": "stream",
     "text": [
      "✅ 2150: 7 pairs stored\n"
     ]
    },
    {
     "name": "stderr",
     "output_type": "stream",
     "text": [
      "videos:  81%|████████████████████████████████████████████████████████████████████████████████████████▋                    | 765/940 [14:45<02:56,  1.01s/it]"
     ]
    },
    {
     "name": "stdout",
     "output_type": "stream",
     "text": [
      "✅ 2151: 5 pairs stored\n"
     ]
    },
    {
     "name": "stderr",
     "output_type": "stream",
     "text": [
      "videos:  81%|████████████████████████████████████████████████████████████████████████████████████████▊                    | 766/940 [14:46<02:55,  1.01s/it]"
     ]
    },
    {
     "name": "stdout",
     "output_type": "stream",
     "text": [
      "✅ 2152: 5 pairs stored\n"
     ]
    },
    {
     "name": "stderr",
     "output_type": "stream",
     "text": [
      "videos:  82%|████████████████████████████████████████████████████████████████████████████████████████▉                    | 767/940 [14:47<02:38,  1.09it/s]"
     ]
    },
    {
     "name": "stdout",
     "output_type": "stream",
     "text": [
      "✅ 2153: 2 pairs stored\n"
     ]
    },
    {
     "name": "stderr",
     "output_type": "stream",
     "text": [
      "videos:  82%|█████████████████████████████████████████████████████████████████████████████████████████                    | 768/940 [14:48<02:15,  1.27it/s]"
     ]
    },
    {
     "name": "stdout",
     "output_type": "stream",
     "text": [
      "✅ 2154: 0 pairs stored\n"
     ]
    },
    {
     "name": "stderr",
     "output_type": "stream",
     "text": [
      "videos:  82%|█████████████████████████████████████████████████████████████████████████████████████████▏                   | 769/940 [14:48<02:08,  1.33it/s]"
     ]
    },
    {
     "name": "stdout",
     "output_type": "stream",
     "text": [
      "✅ 2155: 1 pairs stored\n"
     ]
    },
    {
     "name": "stderr",
     "output_type": "stream",
     "text": [
      "videos:  82%|█████████████████████████████████████████████████████████████████████████████████████████▎                   | 770/940 [14:49<02:26,  1.16it/s]"
     ]
    },
    {
     "name": "stdout",
     "output_type": "stream",
     "text": [
      "✅ 2156: 1 pairs stored\n"
     ]
    },
    {
     "name": "stderr",
     "output_type": "stream",
     "text": [
      "videos:  82%|█████████████████████████████████████████████████████████████████████████████████████████▍                   | 771/940 [14:50<02:36,  1.08it/s]"
     ]
    },
    {
     "name": "stdout",
     "output_type": "stream",
     "text": [
      "✅ 2157: 2 pairs stored\n"
     ]
    },
    {
     "name": "stderr",
     "output_type": "stream",
     "text": [
      "videos:  82%|█████████████████████████████████████████████████████████████████████████████████████████▌                   | 772/940 [14:51<02:33,  1.10it/s]"
     ]
    },
    {
     "name": "stdout",
     "output_type": "stream",
     "text": [
      "✅ 2158: 6 pairs stored\n"
     ]
    },
    {
     "name": "stderr",
     "output_type": "stream",
     "text": [
      "videos:  82%|█████████████████████████████████████████████████████████████████████████████████████████▋                   | 773/940 [14:53<02:49,  1.01s/it]"
     ]
    },
    {
     "name": "stdout",
     "output_type": "stream",
     "text": [
      "✅ 2159: 5 pairs stored\n"
     ]
    },
    {
     "name": "stderr",
     "output_type": "stream",
     "text": [
      "videos:  82%|█████████████████████████████████████████████████████████████████████████████████████████▊                   | 774/940 [14:53<02:40,  1.03it/s]"
     ]
    },
    {
     "name": "stdout",
     "output_type": "stream",
     "text": [
      "✅ 2160: 6 pairs stored\n"
     ]
    },
    {
     "name": "stderr",
     "output_type": "stream",
     "text": [
      "videos:  82%|█████████████████████████████████████████████████████████████████████████████████████████▊                   | 775/940 [14:55<02:51,  1.04s/it]"
     ]
    },
    {
     "name": "stdout",
     "output_type": "stream",
     "text": [
      "✅ 2161: 7 pairs stored\n"
     ]
    },
    {
     "name": "stderr",
     "output_type": "stream",
     "text": [
      "videos:  83%|█████████████████████████████████████████████████████████████████████████████████████████▉                   | 776/940 [14:56<02:49,  1.03s/it]"
     ]
    },
    {
     "name": "stdout",
     "output_type": "stream",
     "text": [
      "✅ 2162: 8 pairs stored\n"
     ]
    },
    {
     "name": "stderr",
     "output_type": "stream",
     "text": [
      "videos:  83%|██████████████████████████████████████████████████████████████████████████████████████████                   | 777/940 [14:57<02:49,  1.04s/it]"
     ]
    },
    {
     "name": "stdout",
     "output_type": "stream",
     "text": [
      "✅ 2163: 8 pairs stored\n"
     ]
    },
    {
     "name": "stderr",
     "output_type": "stream",
     "text": [
      "videos:  83%|██████████████████████████████████████████████████████████████████████████████████████████▏                  | 778/940 [15:00<04:32,  1.68s/it]"
     ]
    },
    {
     "name": "stdout",
     "output_type": "stream",
     "text": [
      "✅ 2164: 34 pairs stored\n"
     ]
    },
    {
     "name": "stderr",
     "output_type": "stream",
     "text": [
      "videos:  83%|██████████████████████████████████████████████████████████████████████████████████████████▎                  | 779/940 [15:01<04:09,  1.55s/it]"
     ]
    },
    {
     "name": "stdout",
     "output_type": "stream",
     "text": [
      "✅ 2165: 21 pairs stored\n"
     ]
    },
    {
     "name": "stderr",
     "output_type": "stream",
     "text": [
      "videos:  83%|██████████████████████████████████████████████████████████████████████████████████████████▍                  | 780/940 [15:03<04:15,  1.59s/it]"
     ]
    },
    {
     "name": "stdout",
     "output_type": "stream",
     "text": [
      "✅ 2166: 18 pairs stored\n"
     ]
    },
    {
     "name": "stderr",
     "output_type": "stream",
     "text": [
      "videos:  83%|██████████████████████████████████████████████████████████████████████████████████████████▌                  | 781/940 [15:04<03:52,  1.46s/it]"
     ]
    },
    {
     "name": "stdout",
     "output_type": "stream",
     "text": [
      "✅ 2167: 28 pairs stored\n"
     ]
    },
    {
     "name": "stderr",
     "output_type": "stream",
     "text": [
      "videos:  83%|██████████████████████████████████████████████████████████████████████████████████████████▋                  | 782/940 [15:05<03:35,  1.36s/it]"
     ]
    },
    {
     "name": "stdout",
     "output_type": "stream",
     "text": [
      "✅ 2168: 1 pairs stored\n"
     ]
    },
    {
     "name": "stderr",
     "output_type": "stream",
     "text": [
      "videos:  83%|██████████████████████████████████████████████████████████████████████████████████████████▊                  | 783/940 [15:06<03:31,  1.35s/it]"
     ]
    },
    {
     "name": "stdout",
     "output_type": "stream",
     "text": [
      "✅ 2169: 1 pairs stored\n"
     ]
    },
    {
     "name": "stderr",
     "output_type": "stream",
     "text": [
      "videos:  83%|██████████████████████████████████████████████████████████████████████████████████████████▉                  | 784/940 [15:08<03:23,  1.30s/it]"
     ]
    },
    {
     "name": "stdout",
     "output_type": "stream",
     "text": [
      "✅ 2170: 0 pairs stored\n"
     ]
    },
    {
     "name": "stderr",
     "output_type": "stream",
     "text": [
      "videos:  84%|███████████████████████████████████████████████████████████████████████████████████████████                  | 785/940 [15:09<03:23,  1.31s/it]"
     ]
    },
    {
     "name": "stdout",
     "output_type": "stream",
     "text": [
      "✅ 2171: 0 pairs stored\n"
     ]
    },
    {
     "name": "stderr",
     "output_type": "stream",
     "text": [
      "videos:  84%|███████████████████████████████████████████████████████████████████████████████████████████▏                 | 786/940 [15:10<02:51,  1.11s/it]"
     ]
    },
    {
     "name": "stdout",
     "output_type": "stream",
     "text": [
      "✅ 2172: 7 pairs stored\n"
     ]
    },
    {
     "name": "stderr",
     "output_type": "stream",
     "text": [
      "videos:  84%|███████████████████████████████████████████████████████████████████████████████████████████▎                 | 787/940 [15:11<02:47,  1.10s/it]"
     ]
    },
    {
     "name": "stdout",
     "output_type": "stream",
     "text": [
      "✅ 2173: 12 pairs stored\n"
     ]
    },
    {
     "name": "stderr",
     "output_type": "stream",
     "text": [
      "videos:  84%|███████████████████████████████████████████████████████████████████████████████████████████▎                 | 788/940 [15:11<02:31,  1.00it/s]"
     ]
    },
    {
     "name": "stdout",
     "output_type": "stream",
     "text": [
      "✅ 2174: 20 pairs stored\n"
     ]
    },
    {
     "name": "stderr",
     "output_type": "stream",
     "text": [
      "videos:  84%|███████████████████████████████████████████████████████████████████████████████████████████▍                 | 789/940 [15:13<02:36,  1.04s/it]"
     ]
    },
    {
     "name": "stdout",
     "output_type": "stream",
     "text": [
      "✅ 2175: 23 pairs stored\n"
     ]
    },
    {
     "name": "stderr",
     "output_type": "stream",
     "text": [
      "videos:  84%|███████████████████████████████████████████████████████████████████████████████████████████▌                 | 790/940 [15:13<02:23,  1.04it/s]"
     ]
    },
    {
     "name": "stdout",
     "output_type": "stream",
     "text": [
      "✅ 2176: 14 pairs stored\n"
     ]
    },
    {
     "name": "stderr",
     "output_type": "stream",
     "text": [
      "videos:  84%|███████████████████████████████████████████████████████████████████████████████████████████▋                 | 791/940 [15:15<02:37,  1.06s/it]"
     ]
    },
    {
     "name": "stdout",
     "output_type": "stream",
     "text": [
      "✅ 2177: 47 pairs stored\n"
     ]
    },
    {
     "name": "stderr",
     "output_type": "stream",
     "text": [
      "videos:  84%|███████████████████████████████████████████████████████████████████████████████████████████▊                 | 792/940 [15:15<02:25,  1.02it/s]"
     ]
    },
    {
     "name": "stdout",
     "output_type": "stream",
     "text": [
      "✅ 2178: 15 pairs stored\n"
     ]
    },
    {
     "name": "stderr",
     "output_type": "stream",
     "text": [
      "videos:  84%|███████████████████████████████████████████████████████████████████████████████████████████▉                 | 793/940 [15:16<02:24,  1.02it/s]"
     ]
    },
    {
     "name": "stdout",
     "output_type": "stream",
     "text": [
      "✅ 2179: 19 pairs stored\n"
     ]
    },
    {
     "name": "stderr",
     "output_type": "stream",
     "text": [
      "videos:  84%|████████████████████████████████████████████████████████████████████████████████████████████                 | 794/940 [15:17<02:10,  1.12it/s]"
     ]
    },
    {
     "name": "stdout",
     "output_type": "stream",
     "text": [
      "✅ 2180: 0 pairs stored\n"
     ]
    },
    {
     "name": "stderr",
     "output_type": "stream",
     "text": [
      "videos:  85%|████████████████████████████████████████████████████████████████████████████████████████████▏                | 795/940 [15:18<02:16,  1.06it/s]"
     ]
    },
    {
     "name": "stdout",
     "output_type": "stream",
     "text": [
      "✅ 2181: 5 pairs stored\n"
     ]
    },
    {
     "name": "stderr",
     "output_type": "stream",
     "text": [
      "videos:  85%|████████████████████████████████████████████████████████████████████████████████████████████▎                | 796/940 [15:19<02:24,  1.00s/it]"
     ]
    },
    {
     "name": "stdout",
     "output_type": "stream",
     "text": [
      "✅ 2182: 3 pairs stored\n"
     ]
    },
    {
     "name": "stderr",
     "output_type": "stream",
     "text": [
      "videos:  85%|████████████████████████████████████████████████████████████████████████████████████████████▍                | 797/940 [15:20<02:28,  1.04s/it]"
     ]
    },
    {
     "name": "stdout",
     "output_type": "stream",
     "text": [
      "✅ 2183: 4 pairs stored\n"
     ]
    },
    {
     "name": "stderr",
     "output_type": "stream",
     "text": [
      "videos:  85%|████████████████████████████████████████████████████████████████████████████████████████████▌                | 798/940 [15:22<02:34,  1.09s/it]"
     ]
    },
    {
     "name": "stdout",
     "output_type": "stream",
     "text": [
      "✅ 2184: 20 pairs stored\n"
     ]
    },
    {
     "name": "stderr",
     "output_type": "stream",
     "text": [
      "videos:  85%|████████████████████████████████████████████████████████████████████████████████████████████▋                | 799/940 [15:23<02:36,  1.11s/it]"
     ]
    },
    {
     "name": "stdout",
     "output_type": "stream",
     "text": [
      "✅ 2185: 0 pairs stored\n"
     ]
    },
    {
     "name": "stderr",
     "output_type": "stream",
     "text": [
      "videos:  85%|████████████████████████████████████████████████████████████████████████████████████████████▊                | 800/940 [15:24<02:46,  1.19s/it]"
     ]
    },
    {
     "name": "stdout",
     "output_type": "stream",
     "text": [
      "✅ 2186: 0 pairs stored\n"
     ]
    },
    {
     "name": "stderr",
     "output_type": "stream",
     "text": [
      "videos:  85%|████████████████████████████████████████████████████████████████████████████████████████████▉                | 801/940 [15:26<02:53,  1.25s/it]"
     ]
    },
    {
     "name": "stdout",
     "output_type": "stream",
     "text": [
      "✅ 2187: 10 pairs stored\n"
     ]
    },
    {
     "name": "stderr",
     "output_type": "stream",
     "text": [
      "videos:  85%|████████████████████████████████████████████████████████████████████████████████████████████▉                | 802/940 [15:26<02:35,  1.13s/it]"
     ]
    },
    {
     "name": "stdout",
     "output_type": "stream",
     "text": [
      "✅ 2188: 0 pairs stored\n"
     ]
    },
    {
     "name": "stderr",
     "output_type": "stream",
     "text": [
      "videos:  85%|█████████████████████████████████████████████████████████████████████████████████████████████                | 803/940 [15:28<02:49,  1.24s/it]"
     ]
    },
    {
     "name": "stdout",
     "output_type": "stream",
     "text": [
      "✅ 2189: 2 pairs stored\n"
     ]
    },
    {
     "name": "stderr",
     "output_type": "stream",
     "text": [
      "videos:  86%|█████████████████████████████████████████████████████████████████████████████████████████████▏               | 804/940 [15:29<02:30,  1.11s/it]"
     ]
    },
    {
     "name": "stdout",
     "output_type": "stream",
     "text": [
      "✅ 2190: 17 pairs stored\n"
     ]
    },
    {
     "name": "stderr",
     "output_type": "stream",
     "text": [
      "videos:  86%|█████████████████████████████████████████████████████████████████████████████████████████████▎               | 805/940 [15:30<02:27,  1.09s/it]"
     ]
    },
    {
     "name": "stdout",
     "output_type": "stream",
     "text": [
      "✅ 2191: 0 pairs stored\n"
     ]
    },
    {
     "name": "stderr",
     "output_type": "stream",
     "text": [
      "videos:  86%|█████████████████████████████████████████████████████████████████████████████████████████████▍               | 806/940 [15:30<02:14,  1.00s/it]"
     ]
    },
    {
     "name": "stdout",
     "output_type": "stream",
     "text": [
      "✅ 2192: 6 pairs stored\n"
     ]
    },
    {
     "name": "stderr",
     "output_type": "stream",
     "text": [
      "videos:  86%|█████████████████████████████████████████████████████████████████████████████████████████████▌               | 807/940 [15:32<02:32,  1.15s/it]"
     ]
    },
    {
     "name": "stdout",
     "output_type": "stream",
     "text": [
      "✅ 2193: 53 pairs stored\n"
     ]
    },
    {
     "name": "stderr",
     "output_type": "stream",
     "text": [
      "videos:  86%|█████████████████████████████████████████████████████████████████████████████████████████████▋               | 808/940 [15:33<02:31,  1.15s/it]"
     ]
    },
    {
     "name": "stdout",
     "output_type": "stream",
     "text": [
      "✅ 2194: 0 pairs stored\n"
     ]
    },
    {
     "name": "stderr",
     "output_type": "stream",
     "text": [
      "videos:  86%|█████████████████████████████████████████████████████████████████████████████████████████████▊               | 809/940 [15:34<02:27,  1.13s/it]"
     ]
    },
    {
     "name": "stdout",
     "output_type": "stream",
     "text": [
      "✅ 2195: 0 pairs stored\n"
     ]
    },
    {
     "name": "stderr",
     "output_type": "stream",
     "text": [
      "videos:  86%|█████████████████████████████████████████████████████████████████████████████████████████████▉               | 810/940 [15:35<02:29,  1.15s/it]"
     ]
    },
    {
     "name": "stdout",
     "output_type": "stream",
     "text": [
      "✅ 2196: 34 pairs stored\n"
     ]
    },
    {
     "name": "stderr",
     "output_type": "stream",
     "text": [
      "videos:  86%|██████████████████████████████████████████████████████████████████████████████████████████████               | 811/940 [15:37<02:37,  1.22s/it]"
     ]
    },
    {
     "name": "stdout",
     "output_type": "stream",
     "text": [
      "✅ 2197: 26 pairs stored\n"
     ]
    },
    {
     "name": "stderr",
     "output_type": "stream",
     "text": [
      "videos:  86%|██████████████████████████████████████████████████████████████████████████████████████████████▏              | 812/940 [15:39<02:57,  1.38s/it]"
     ]
    },
    {
     "name": "stdout",
     "output_type": "stream",
     "text": [
      "✅ 2198: 33 pairs stored\n"
     ]
    },
    {
     "name": "stderr",
     "output_type": "stream",
     "text": [
      "videos:  86%|██████████████████████████████████████████████████████████████████████████████████████████████▎              | 813/940 [15:40<02:42,  1.28s/it]"
     ]
    },
    {
     "name": "stdout",
     "output_type": "stream",
     "text": [
      "✅ 2199: 23 pairs stored\n"
     ]
    },
    {
     "name": "stderr",
     "output_type": "stream",
     "text": [
      "videos:  87%|██████████████████████████████████████████████████████████████████████████████████████████████▍              | 814/940 [15:41<02:30,  1.19s/it]"
     ]
    },
    {
     "name": "stdout",
     "output_type": "stream",
     "text": [
      "✅ 2200: 49 pairs stored\n"
     ]
    },
    {
     "name": "stderr",
     "output_type": "stream",
     "text": [
      "videos:  87%|██████████████████████████████████████████████████████████████████████████████████████████████▌              | 815/940 [15:41<02:03,  1.01it/s]"
     ]
    },
    {
     "name": "stdout",
     "output_type": "stream",
     "text": [
      "✅ 2201: 25 pairs stored\n"
     ]
    },
    {
     "name": "stderr",
     "output_type": "stream",
     "text": [
      "videos:  87%|██████████████████████████████████████████████████████████████████████████████████████████████▌              | 816/940 [15:42<01:47,  1.16it/s]"
     ]
    },
    {
     "name": "stdout",
     "output_type": "stream",
     "text": [
      "✅ 2202: 21 pairs stored\n"
     ]
    },
    {
     "name": "stderr",
     "output_type": "stream",
     "text": [
      "videos:  87%|██████████████████████████████████████████████████████████████████████████████████████████████▋              | 817/940 [15:43<02:02,  1.00it/s]"
     ]
    },
    {
     "name": "stdout",
     "output_type": "stream",
     "text": [
      "✅ 2203: 12 pairs stored\n"
     ]
    },
    {
     "name": "stderr",
     "output_type": "stream",
     "text": [
      "videos:  87%|██████████████████████████████████████████████████████████████████████████████████████████████▊              | 818/940 [15:44<01:59,  1.02it/s]"
     ]
    },
    {
     "name": "stdout",
     "output_type": "stream",
     "text": [
      "✅ 2204: 11 pairs stored\n"
     ]
    },
    {
     "name": "stderr",
     "output_type": "stream",
     "text": [
      "videos:  87%|██████████████████████████████████████████████████████████████████████████████████████████████▉              | 819/940 [15:45<02:01,  1.00s/it]"
     ]
    },
    {
     "name": "stdout",
     "output_type": "stream",
     "text": [
      "✅ 2205: 17 pairs stored\n"
     ]
    },
    {
     "name": "stderr",
     "output_type": "stream",
     "text": [
      "videos:  87%|███████████████████████████████████████████████████████████████████████████████████████████████              | 820/940 [15:46<02:09,  1.08s/it]"
     ]
    },
    {
     "name": "stdout",
     "output_type": "stream",
     "text": [
      "✅ 2206: 1 pairs stored\n"
     ]
    },
    {
     "name": "stderr",
     "output_type": "stream",
     "text": [
      "videos:  87%|███████████████████████████████████████████████████████████████████████████████████████████████▏             | 821/940 [15:47<02:08,  1.08s/it]"
     ]
    },
    {
     "name": "stdout",
     "output_type": "stream",
     "text": [
      "✅ 2207: 0 pairs stored\n"
     ]
    },
    {
     "name": "stderr",
     "output_type": "stream",
     "text": [
      "videos:  87%|███████████████████████████████████████████████████████████████████████████████████████████████▎             | 822/940 [15:48<02:09,  1.10s/it]"
     ]
    },
    {
     "name": "stdout",
     "output_type": "stream",
     "text": [
      "✅ 2208: 1 pairs stored\n"
     ]
    },
    {
     "name": "stderr",
     "output_type": "stream",
     "text": [
      "videos:  88%|███████████████████████████████████████████████████████████████████████████████████████████████▍             | 823/940 [15:49<02:05,  1.07s/it]"
     ]
    },
    {
     "name": "stdout",
     "output_type": "stream",
     "text": [
      "✅ 2209: 1 pairs stored\n"
     ]
    },
    {
     "name": "stderr",
     "output_type": "stream",
     "text": [
      "videos:  88%|███████████████████████████████████████████████████████████████████████████████████████████████▌             | 824/940 [15:50<01:55,  1.00it/s]"
     ]
    },
    {
     "name": "stdout",
     "output_type": "stream",
     "text": [
      "✅ 2210: 0 pairs stored\n"
     ]
    },
    {
     "name": "stderr",
     "output_type": "stream",
     "text": [
      "videos:  88%|███████████████████████████████████████████████████████████████████████████████████████████████▋             | 825/940 [15:51<02:01,  1.06s/it]"
     ]
    },
    {
     "name": "stdout",
     "output_type": "stream",
     "text": [
      "✅ 2211: 5 pairs stored\n"
     ]
    },
    {
     "name": "stderr",
     "output_type": "stream",
     "text": [
      "videos:  88%|███████████████████████████████████████████████████████████████████████████████████████████████▊             | 826/940 [15:53<02:05,  1.10s/it]"
     ]
    },
    {
     "name": "stdout",
     "output_type": "stream",
     "text": [
      "✅ 2212: 12 pairs stored\n"
     ]
    },
    {
     "name": "stderr",
     "output_type": "stream",
     "text": [
      "videos:  88%|███████████████████████████████████████████████████████████████████████████████████████████████▉             | 827/940 [15:54<02:05,  1.11s/it]"
     ]
    },
    {
     "name": "stdout",
     "output_type": "stream",
     "text": [
      "✅ 2213: 38 pairs stored\n"
     ]
    },
    {
     "name": "stderr",
     "output_type": "stream",
     "text": [
      "videos:  88%|████████████████████████████████████████████████████████████████████████████████████████████████             | 828/940 [15:55<02:11,  1.17s/it]"
     ]
    },
    {
     "name": "stdout",
     "output_type": "stream",
     "text": [
      "✅ 2214: 0 pairs stored\n"
     ]
    },
    {
     "name": "stderr",
     "output_type": "stream",
     "text": [
      "videos:  88%|████████████████████████████████████████████████████████████████████████████████████████████████▏            | 829/940 [15:56<02:09,  1.17s/it]"
     ]
    },
    {
     "name": "stdout",
     "output_type": "stream",
     "text": [
      "✅ 2215: 27 pairs stored\n"
     ]
    },
    {
     "name": "stderr",
     "output_type": "stream",
     "text": [
      "videos:  88%|████████████████████████████████████████████████████████████████████████████████████████████████▏            | 830/940 [15:58<02:12,  1.21s/it]"
     ]
    },
    {
     "name": "stdout",
     "output_type": "stream",
     "text": [
      "✅ 2216: 15 pairs stored\n"
     ]
    },
    {
     "name": "stderr",
     "output_type": "stream",
     "text": [
      "videos:  88%|████████████████████████████████████████████████████████████████████████████████████████████████▎            | 831/940 [15:59<02:02,  1.13s/it]"
     ]
    },
    {
     "name": "stdout",
     "output_type": "stream",
     "text": [
      "✅ 2217: 2 pairs stored\n"
     ]
    },
    {
     "name": "stderr",
     "output_type": "stream",
     "text": [
      "videos:  89%|████████████████████████████████████████████████████████████████████████████████████████████████▍            | 832/940 [16:00<02:18,  1.28s/it]"
     ]
    },
    {
     "name": "stdout",
     "output_type": "stream",
     "text": [
      "✅ 2218: 2 pairs stored\n"
     ]
    },
    {
     "name": "stderr",
     "output_type": "stream",
     "text": [
      "videos:  89%|████████████████████████████████████████████████████████████████████████████████████████████████▌            | 833/940 [16:01<02:01,  1.13s/it]"
     ]
    },
    {
     "name": "stdout",
     "output_type": "stream",
     "text": [
      "✅ 2219: 2 pairs stored\n"
     ]
    },
    {
     "name": "stderr",
     "output_type": "stream",
     "text": [
      "videos:  89%|████████████████████████████████████████████████████████████████████████████████████████████████▋            | 834/940 [16:02<01:53,  1.07s/it]"
     ]
    },
    {
     "name": "stdout",
     "output_type": "stream",
     "text": [
      "✅ 2220: 40 pairs stored\n"
     ]
    },
    {
     "name": "stderr",
     "output_type": "stream",
     "text": [
      "videos:  89%|████████████████████████████████████████████████████████████████████████████████████████████████▊            | 835/940 [16:03<01:48,  1.03s/it]"
     ]
    },
    {
     "name": "stdout",
     "output_type": "stream",
     "text": [
      "✅ 2221: 18 pairs stored\n"
     ]
    },
    {
     "name": "stderr",
     "output_type": "stream",
     "text": [
      "videos:  89%|████████████████████████████████████████████████████████████████████████████████████████████████▉            | 836/940 [16:04<01:40,  1.03it/s]"
     ]
    },
    {
     "name": "stdout",
     "output_type": "stream",
     "text": [
      "✅ 2222: 1 pairs stored\n"
     ]
    },
    {
     "name": "stderr",
     "output_type": "stream",
     "text": [
      "videos:  89%|█████████████████████████████████████████████████████████████████████████████████████████████████            | 837/940 [16:05<01:39,  1.03it/s]"
     ]
    },
    {
     "name": "stdout",
     "output_type": "stream",
     "text": [
      "✅ 2223: 30 pairs stored\n"
     ]
    },
    {
     "name": "stderr",
     "output_type": "stream",
     "text": [
      "videos:  89%|█████████████████████████████████████████████████████████████████████████████████████████████████▏           | 838/940 [16:06<01:37,  1.05it/s]"
     ]
    },
    {
     "name": "stdout",
     "output_type": "stream",
     "text": [
      "✅ 2224: 10 pairs stored\n"
     ]
    },
    {
     "name": "stderr",
     "output_type": "stream",
     "text": [
      "videos:  89%|█████████████████████████████████████████████████████████████████████████████████████████████████▎           | 839/940 [16:06<01:33,  1.08it/s]"
     ]
    },
    {
     "name": "stdout",
     "output_type": "stream",
     "text": [
      "✅ 2225: 34 pairs stored\n"
     ]
    },
    {
     "name": "stderr",
     "output_type": "stream",
     "text": [
      "videos:  89%|█████████████████████████████████████████████████████████████████████████████████████████████████▍           | 840/940 [16:07<01:26,  1.15it/s]"
     ]
    },
    {
     "name": "stdout",
     "output_type": "stream",
     "text": [
      "✅ 2226: 9 pairs stored\n"
     ]
    },
    {
     "name": "stderr",
     "output_type": "stream",
     "text": [
      "videos:  89%|█████████████████████████████████████████████████████████████████████████████████████████████████▌           | 841/940 [16:08<01:31,  1.08it/s]"
     ]
    },
    {
     "name": "stdout",
     "output_type": "stream",
     "text": [
      "✅ 2227: 21 pairs stored\n"
     ]
    },
    {
     "name": "stderr",
     "output_type": "stream",
     "text": [
      "videos:  90%|█████████████████████████████████████████████████████████████████████████████████████████████████▋           | 842/940 [16:09<01:25,  1.15it/s]"
     ]
    },
    {
     "name": "stdout",
     "output_type": "stream",
     "text": [
      "✅ 2228: 31 pairs stored\n"
     ]
    },
    {
     "name": "stderr",
     "output_type": "stream",
     "text": [
      "videos:  90%|█████████████████████████████████████████████████████████████████████████████████████████████████▊           | 843/940 [16:10<01:28,  1.09it/s]"
     ]
    },
    {
     "name": "stdout",
     "output_type": "stream",
     "text": [
      "✅ 2229: 22 pairs stored\n"
     ]
    },
    {
     "name": "stderr",
     "output_type": "stream",
     "text": [
      "videos:  90%|█████████████████████████████████████████████████████████████████████████████████████████████████▊           | 844/940 [16:11<01:18,  1.23it/s]"
     ]
    },
    {
     "name": "stdout",
     "output_type": "stream",
     "text": [
      "✅ 2230: 0 pairs stored\n"
     ]
    },
    {
     "name": "stderr",
     "output_type": "stream",
     "text": [
      "videos:  90%|█████████████████████████████████████████████████████████████████████████████████████████████████▉           | 845/940 [16:12<01:43,  1.09s/it]"
     ]
    },
    {
     "name": "stdout",
     "output_type": "stream",
     "text": [
      "✅ 2231: 34 pairs stored\n"
     ]
    },
    {
     "name": "stderr",
     "output_type": "stream",
     "text": [
      "videos:  90%|██████████████████████████████████████████████████████████████████████████████████████████████████           | 846/940 [16:14<01:50,  1.18s/it]"
     ]
    },
    {
     "name": "stdout",
     "output_type": "stream",
     "text": [
      "✅ 2232: 27 pairs stored\n"
     ]
    },
    {
     "name": "stderr",
     "output_type": "stream",
     "text": [
      "videos:  90%|██████████████████████████████████████████████████████████████████████████████████████████████████▏          | 847/940 [16:16<02:11,  1.42s/it]"
     ]
    },
    {
     "name": "stdout",
     "output_type": "stream",
     "text": [
      "✅ 2233: 33 pairs stored\n"
     ]
    },
    {
     "name": "stderr",
     "output_type": "stream",
     "text": [
      "videos:  90%|██████████████████████████████████████████████████████████████████████████████████████████████████▎          | 848/940 [16:17<01:57,  1.28s/it]"
     ]
    },
    {
     "name": "stdout",
     "output_type": "stream",
     "text": [
      "✅ 2234: 10 pairs stored\n"
     ]
    },
    {
     "name": "stderr",
     "output_type": "stream",
     "text": [
      "videos:  90%|██████████████████████████████████████████████████████████████████████████████████████████████████▍          | 849/940 [16:18<01:51,  1.23s/it]"
     ]
    },
    {
     "name": "stdout",
     "output_type": "stream",
     "text": [
      "✅ 2235: 27 pairs stored\n"
     ]
    },
    {
     "name": "stderr",
     "output_type": "stream",
     "text": [
      "videos:  90%|██████████████████████████████████████████████████████████████████████████████████████████████████▌          | 850/940 [16:19<01:52,  1.25s/it]"
     ]
    },
    {
     "name": "stdout",
     "output_type": "stream",
     "text": [
      "✅ 2236: 14 pairs stored\n"
     ]
    },
    {
     "name": "stderr",
     "output_type": "stream",
     "text": [
      "videos:  91%|██████████████████████████████████████████████████████████████████████████████████████████████████▋          | 851/940 [16:20<01:44,  1.18s/it]"
     ]
    },
    {
     "name": "stdout",
     "output_type": "stream",
     "text": [
      "✅ 2237: 7 pairs stored\n"
     ]
    },
    {
     "name": "stderr",
     "output_type": "stream",
     "text": [
      "videos:  91%|██████████████████████████████████████████████████████████████████████████████████████████████████▊          | 852/940 [16:21<01:39,  1.13s/it]"
     ]
    },
    {
     "name": "stdout",
     "output_type": "stream",
     "text": [
      "✅ 2238: 27 pairs stored\n"
     ]
    },
    {
     "name": "stderr",
     "output_type": "stream",
     "text": [
      "videos:  91%|██████████████████████████████████████████████████████████████████████████████████████████████████▉          | 853/940 [16:22<01:39,  1.14s/it]"
     ]
    },
    {
     "name": "stdout",
     "output_type": "stream",
     "text": [
      "✅ 2239: 0 pairs stored\n"
     ]
    },
    {
     "name": "stderr",
     "output_type": "stream",
     "text": [
      "videos:  91%|███████████████████████████████████████████████████████████████████████████████████████████████████          | 854/940 [16:23<01:39,  1.16s/it]"
     ]
    },
    {
     "name": "stdout",
     "output_type": "stream",
     "text": [
      "✅ 2240: 0 pairs stored\n"
     ]
    },
    {
     "name": "stderr",
     "output_type": "stream",
     "text": [
      "videos:  91%|███████████████████████████████████████████████████████████████████████████████████████████████████▏         | 855/940 [16:25<01:46,  1.25s/it]"
     ]
    },
    {
     "name": "stdout",
     "output_type": "stream",
     "text": [
      "✅ 2241: 0 pairs stored\n"
     ]
    },
    {
     "name": "stderr",
     "output_type": "stream",
     "text": [
      "videos:  91%|███████████████████████████████████████████████████████████████████████████████████████████████████▎         | 856/940 [16:26<01:46,  1.27s/it]"
     ]
    },
    {
     "name": "stdout",
     "output_type": "stream",
     "text": [
      "✅ 2242: 44 pairs stored\n"
     ]
    },
    {
     "name": "stderr",
     "output_type": "stream",
     "text": [
      "videos:  91%|███████████████████████████████████████████████████████████████████████████████████████████████████▍         | 857/940 [16:27<01:40,  1.21s/it]"
     ]
    },
    {
     "name": "stdout",
     "output_type": "stream",
     "text": [
      "✅ 2243: 9 pairs stored\n"
     ]
    },
    {
     "name": "stderr",
     "output_type": "stream",
     "text": [
      "videos:  91%|███████████████████████████████████████████████████████████████████████████████████████████████████▍         | 858/940 [16:29<01:43,  1.26s/it]"
     ]
    },
    {
     "name": "stdout",
     "output_type": "stream",
     "text": [
      "✅ 2244: 52 pairs stored\n"
     ]
    },
    {
     "name": "stderr",
     "output_type": "stream",
     "text": [
      "videos:  91%|███████████████████████████████████████████████████████████████████████████████████████████████████▌         | 859/940 [16:30<01:46,  1.31s/it]"
     ]
    },
    {
     "name": "stdout",
     "output_type": "stream",
     "text": [
      "✅ 2245: 53 pairs stored\n"
     ]
    },
    {
     "name": "stderr",
     "output_type": "stream",
     "text": [
      "videos:  91%|███████████████████████████████████████████████████████████████████████████████████████████████████▋         | 860/940 [16:31<01:39,  1.25s/it]"
     ]
    },
    {
     "name": "stdout",
     "output_type": "stream",
     "text": [
      "✅ 2246: 22 pairs stored\n"
     ]
    },
    {
     "name": "stderr",
     "output_type": "stream",
     "text": [
      "videos:  92%|███████████████████████████████████████████████████████████████████████████████████████████████████▊         | 861/940 [16:32<01:31,  1.15s/it]"
     ]
    },
    {
     "name": "stdout",
     "output_type": "stream",
     "text": [
      "✅ 2247: 58 pairs stored\n"
     ]
    },
    {
     "name": "stderr",
     "output_type": "stream",
     "text": [
      "videos:  92%|███████████████████████████████████████████████████████████████████████████████████████████████████▉         | 862/940 [16:33<01:27,  1.12s/it]"
     ]
    },
    {
     "name": "stdout",
     "output_type": "stream",
     "text": [
      "✅ 2248: 7 pairs stored\n"
     ]
    },
    {
     "name": "stderr",
     "output_type": "stream",
     "text": [
      "videos:  92%|████████████████████████████████████████████████████████████████████████████████████████████████████         | 863/940 [16:34<01:24,  1.09s/it]"
     ]
    },
    {
     "name": "stdout",
     "output_type": "stream",
     "text": [
      "✅ 2249: 51 pairs stored\n"
     ]
    },
    {
     "name": "stderr",
     "output_type": "stream",
     "text": [
      "videos:  92%|████████████████████████████████████████████████████████████████████████████████████████████████████▏        | 864/940 [16:35<01:22,  1.09s/it]"
     ]
    },
    {
     "name": "stdout",
     "output_type": "stream",
     "text": [
      "✅ 2250: 42 pairs stored\n"
     ]
    },
    {
     "name": "stderr",
     "output_type": "stream",
     "text": [
      "videos:  92%|████████████████████████████████████████████████████████████████████████████████████████████████████▎        | 865/940 [16:36<01:17,  1.04s/it]"
     ]
    },
    {
     "name": "stdout",
     "output_type": "stream",
     "text": [
      "✅ 2251: 31 pairs stored\n"
     ]
    },
    {
     "name": "stderr",
     "output_type": "stream",
     "text": [
      "videos:  92%|████████████████████████████████████████████████████████████████████████████████████████████████████▍        | 866/940 [16:37<01:10,  1.05it/s]"
     ]
    },
    {
     "name": "stdout",
     "output_type": "stream",
     "text": [
      "✅ 2252: 27 pairs stored\n"
     ]
    },
    {
     "name": "stderr",
     "output_type": "stream",
     "text": [
      "videos:  92%|████████████████████████████████████████████████████████████████████████████████████████████████████▌        | 867/940 [16:38<01:05,  1.12it/s]"
     ]
    },
    {
     "name": "stdout",
     "output_type": "stream",
     "text": [
      "✅ 2253: 26 pairs stored\n"
     ]
    },
    {
     "name": "stderr",
     "output_type": "stream",
     "text": [
      "videos:  92%|████████████████████████████████████████████████████████████████████████████████████████████████████▋        | 868/940 [16:39<01:04,  1.12it/s]"
     ]
    },
    {
     "name": "stdout",
     "output_type": "stream",
     "text": [
      "✅ 2254: 11 pairs stored\n"
     ]
    },
    {
     "name": "stderr",
     "output_type": "stream",
     "text": [
      "videos:  92%|████████████████████████████████████████████████████████████████████████████████████████████████████▊        | 869/940 [16:39<01:02,  1.13it/s]"
     ]
    },
    {
     "name": "stdout",
     "output_type": "stream",
     "text": [
      "✅ 2255: 24 pairs stored\n"
     ]
    },
    {
     "name": "stderr",
     "output_type": "stream",
     "text": [
      "videos:  93%|████████████████████████████████████████████████████████████████████████████████████████████████████▉        | 870/940 [16:40<01:01,  1.14it/s]"
     ]
    },
    {
     "name": "stdout",
     "output_type": "stream",
     "text": [
      "✅ 2256: 2 pairs stored\n"
     ]
    },
    {
     "name": "stderr",
     "output_type": "stream",
     "text": [
      "videos:  93%|████████████████████████████████████████████████████████████████████████████████████████████████████▉        | 871/940 [16:42<01:08,  1.00it/s]"
     ]
    },
    {
     "name": "stdout",
     "output_type": "stream",
     "text": [
      "✅ 2257: 7 pairs stored\n"
     ]
    },
    {
     "name": "stderr",
     "output_type": "stream",
     "text": [
      "videos:  93%|█████████████████████████████████████████████████████████████████████████████████████████████████████        | 872/940 [16:43<01:09,  1.03s/it]"
     ]
    },
    {
     "name": "stdout",
     "output_type": "stream",
     "text": [
      "✅ 2258: 12 pairs stored\n"
     ]
    },
    {
     "name": "stderr",
     "output_type": "stream",
     "text": [
      "videos:  93%|█████████████████████████████████████████████████████████████████████████████████████████████████████▏       | 873/940 [16:44<01:07,  1.01s/it]"
     ]
    },
    {
     "name": "stdout",
     "output_type": "stream",
     "text": [
      "✅ 2259: 6 pairs stored\n"
     ]
    },
    {
     "name": "stderr",
     "output_type": "stream",
     "text": [
      "videos:  93%|█████████████████████████████████████████████████████████████████████████████████████████████████████▎       | 874/940 [16:45<01:15,  1.15s/it]"
     ]
    },
    {
     "name": "stdout",
     "output_type": "stream",
     "text": [
      "✅ 2260: 35 pairs stored\n"
     ]
    },
    {
     "name": "stderr",
     "output_type": "stream",
     "text": [
      "videos:  93%|█████████████████████████████████████████████████████████████████████████████████████████████████████▍       | 875/940 [16:46<01:14,  1.14s/it]"
     ]
    },
    {
     "name": "stdout",
     "output_type": "stream",
     "text": [
      "✅ 2261: 0 pairs stored\n"
     ]
    },
    {
     "name": "stderr",
     "output_type": "stream",
     "text": [
      "videos:  93%|█████████████████████████████████████████████████████████████████████████████████████████████████████▌       | 876/940 [16:47<01:13,  1.15s/it]"
     ]
    },
    {
     "name": "stdout",
     "output_type": "stream",
     "text": [
      "✅ 2262: 0 pairs stored\n"
     ]
    },
    {
     "name": "stderr",
     "output_type": "stream",
     "text": [
      "videos:  93%|█████████████████████████████████████████████████████████████████████████████████████████████████████▋       | 877/940 [16:49<01:12,  1.15s/it]"
     ]
    },
    {
     "name": "stdout",
     "output_type": "stream",
     "text": [
      "✅ 2263: 27 pairs stored\n"
     ]
    },
    {
     "name": "stderr",
     "output_type": "stream",
     "text": [
      "videos:  93%|█████████████████████████████████████████████████████████████████████████████████████████████████████▊       | 878/940 [16:50<01:10,  1.13s/it]"
     ]
    },
    {
     "name": "stdout",
     "output_type": "stream",
     "text": [
      "✅ 2264: 12 pairs stored\n"
     ]
    },
    {
     "name": "stderr",
     "output_type": "stream",
     "text": [
      "videos:  94%|█████████████████████████████████████████████████████████████████████████████████████████████████████▉       | 879/940 [16:51<01:06,  1.09s/it]"
     ]
    },
    {
     "name": "stdout",
     "output_type": "stream",
     "text": [
      "✅ 2265: 27 pairs stored\n"
     ]
    },
    {
     "name": "stderr",
     "output_type": "stream",
     "text": [
      "videos:  94%|██████████████████████████████████████████████████████████████████████████████████████████████████████       | 880/940 [16:52<01:03,  1.06s/it]"
     ]
    },
    {
     "name": "stdout",
     "output_type": "stream",
     "text": [
      "✅ 2266: 0 pairs stored\n"
     ]
    },
    {
     "name": "stderr",
     "output_type": "stream",
     "text": [
      "videos:  94%|██████████████████████████████████████████████████████████████████████████████████████████████████████▏      | 881/940 [16:52<00:58,  1.01it/s]"
     ]
    },
    {
     "name": "stdout",
     "output_type": "stream",
     "text": [
      "✅ 2267: 4 pairs stored\n"
     ]
    },
    {
     "name": "stderr",
     "output_type": "stream",
     "text": [
      "videos:  94%|██████████████████████████████████████████████████████████████████████████████████████████████████████▎      | 882/940 [16:54<00:58,  1.01s/it]"
     ]
    },
    {
     "name": "stdout",
     "output_type": "stream",
     "text": [
      "✅ 2268: 40 pairs stored\n"
     ]
    },
    {
     "name": "stderr",
     "output_type": "stream",
     "text": [
      "videos:  94%|██████████████████████████████████████████████████████████████████████████████████████████████████████▍      | 883/940 [16:54<00:55,  1.04it/s]"
     ]
    },
    {
     "name": "stdout",
     "output_type": "stream",
     "text": [
      "✅ 2269: 10 pairs stored\n"
     ]
    },
    {
     "name": "stderr",
     "output_type": "stream",
     "text": [
      "videos:  94%|██████████████████████████████████████████████████████████████████████████████████████████████████████▌      | 884/940 [16:55<00:53,  1.04it/s]"
     ]
    },
    {
     "name": "stdout",
     "output_type": "stream",
     "text": [
      "✅ 2270: 18 pairs stored\n"
     ]
    },
    {
     "name": "stderr",
     "output_type": "stream",
     "text": [
      "videos:  94%|██████████████████████████████████████████████████████████████████████████████████████████████████████▌      | 885/940 [16:56<00:47,  1.15it/s]"
     ]
    },
    {
     "name": "stdout",
     "output_type": "stream",
     "text": [
      "✅ 2271: 24 pairs stored\n"
     ]
    },
    {
     "name": "stderr",
     "output_type": "stream",
     "text": [
      "videos:  94%|██████████████████████████████████████████████████████████████████████████████████████████████████████▋      | 886/940 [16:57<00:48,  1.10it/s]"
     ]
    },
    {
     "name": "stdout",
     "output_type": "stream",
     "text": [
      "✅ 2272: 3 pairs stored\n"
     ]
    },
    {
     "name": "stderr",
     "output_type": "stream",
     "text": [
      "videos:  94%|██████████████████████████████████████████████████████████████████████████████████████████████████████▊      | 887/940 [16:58<00:48,  1.09it/s]"
     ]
    },
    {
     "name": "stdout",
     "output_type": "stream",
     "text": [
      "✅ 2273: 0 pairs stored\n"
     ]
    },
    {
     "name": "stderr",
     "output_type": "stream",
     "text": [
      "videos:  94%|██████████████████████████████████████████████████████████████████████████████████████████████████████▉      | 888/940 [16:59<00:45,  1.13it/s]"
     ]
    },
    {
     "name": "stdout",
     "output_type": "stream",
     "text": [
      "✅ 2274: 2 pairs stored\n"
     ]
    },
    {
     "name": "stderr",
     "output_type": "stream",
     "text": [
      "videos:  95%|███████████████████████████████████████████████████████████████████████████████████████████████████████      | 889/940 [17:00<00:47,  1.08it/s]"
     ]
    },
    {
     "name": "stdout",
     "output_type": "stream",
     "text": [
      "✅ 2275: 2 pairs stored\n"
     ]
    },
    {
     "name": "stderr",
     "output_type": "stream",
     "text": [
      "videos:  95%|███████████████████████████████████████████████████████████████████████████████████████████████████████▏     | 890/940 [17:01<00:46,  1.08it/s]"
     ]
    },
    {
     "name": "stdout",
     "output_type": "stream",
     "text": [
      "✅ 2276: 0 pairs stored\n"
     ]
    },
    {
     "name": "stderr",
     "output_type": "stream",
     "text": [
      "videos:  95%|███████████████████████████████████████████████████████████████████████████████████████████████████████▎     | 891/940 [17:01<00:43,  1.14it/s]"
     ]
    },
    {
     "name": "stdout",
     "output_type": "stream",
     "text": [
      "✅ 2277: 5 pairs stored\n"
     ]
    },
    {
     "name": "stderr",
     "output_type": "stream",
     "text": [
      "videos:  95%|███████████████████████████████████████████████████████████████████████████████████████████████████████▍     | 892/940 [17:02<00:37,  1.26it/s]"
     ]
    },
    {
     "name": "stdout",
     "output_type": "stream",
     "text": [
      "✅ 2278: 0 pairs stored\n"
     ]
    },
    {
     "name": "stderr",
     "output_type": "stream",
     "text": [
      "videos:  95%|███████████████████████████████████████████████████████████████████████████████████████████████████████▌     | 893/940 [17:04<00:48,  1.03s/it]"
     ]
    },
    {
     "name": "stdout",
     "output_type": "stream",
     "text": [
      "✅ 2279: 5 pairs stored\n"
     ]
    },
    {
     "name": "stderr",
     "output_type": "stream",
     "text": [
      "videos:  95%|███████████████████████████████████████████████████████████████████████████████████████████████████████▋     | 894/940 [17:05<00:47,  1.03s/it]"
     ]
    },
    {
     "name": "stdout",
     "output_type": "stream",
     "text": [
      "✅ 2280: 0 pairs stored\n"
     ]
    },
    {
     "name": "stderr",
     "output_type": "stream",
     "text": [
      "videos:  95%|███████████████████████████████████████████████████████████████████████████████████████████████████████▊     | 895/940 [17:06<00:44,  1.01it/s]"
     ]
    },
    {
     "name": "stdout",
     "output_type": "stream",
     "text": [
      "✅ 2281: 1 pairs stored\n"
     ]
    },
    {
     "name": "stderr",
     "output_type": "stream",
     "text": [
      "videos:  95%|███████████████████████████████████████████████████████████████████████████████████████████████████████▉     | 896/940 [17:07<00:45,  1.03s/it]"
     ]
    },
    {
     "name": "stdout",
     "output_type": "stream",
     "text": [
      "✅ 2282: 0 pairs stored\n"
     ]
    },
    {
     "name": "stderr",
     "output_type": "stream",
     "text": [
      "videos:  95%|████████████████████████████████████████████████████████████████████████████████████████████████████████     | 897/940 [17:08<00:42,  1.01it/s]"
     ]
    },
    {
     "name": "stdout",
     "output_type": "stream",
     "text": [
      "✅ 2283: 0 pairs stored\n"
     ]
    },
    {
     "name": "stderr",
     "output_type": "stream",
     "text": [
      "videos:  96%|████████████████████████████████████████████████████████████████████████████████████████████████████████▏    | 898/940 [17:09<00:42,  1.00s/it]"
     ]
    },
    {
     "name": "stdout",
     "output_type": "stream",
     "text": [
      "✅ 2284: 0 pairs stored\n"
     ]
    },
    {
     "name": "stderr",
     "output_type": "stream",
     "text": [
      "videos:  96%|████████████████████████████████████████████████████████████████████████████████████████████████████████▏    | 899/940 [17:10<00:42,  1.03s/it]"
     ]
    },
    {
     "name": "stdout",
     "output_type": "stream",
     "text": [
      "✅ 2285: 0 pairs stored\n"
     ]
    },
    {
     "name": "stderr",
     "output_type": "stream",
     "text": [
      "videos:  96%|████████████████████████████████████████████████████████████████████████████████████████████████████████▎    | 900/940 [17:11<00:47,  1.20s/it]"
     ]
    },
    {
     "name": "stdout",
     "output_type": "stream",
     "text": [
      "✅ 2286: 0 pairs stored\n"
     ]
    },
    {
     "name": "stderr",
     "output_type": "stream",
     "text": [
      "videos:  96%|████████████████████████████████████████████████████████████████████████████████████████████████████████▍    | 901/940 [17:12<00:42,  1.10s/it]"
     ]
    },
    {
     "name": "stdout",
     "output_type": "stream",
     "text": [
      "✅ 2287: 1 pairs stored\n"
     ]
    },
    {
     "name": "stderr",
     "output_type": "stream",
     "text": [
      "videos:  96%|████████████████████████████████████████████████████████████████████████████████████████████████████████▌    | 902/940 [17:13<00:41,  1.09s/it]"
     ]
    },
    {
     "name": "stdout",
     "output_type": "stream",
     "text": [
      "✅ 2288: 0 pairs stored\n"
     ]
    },
    {
     "name": "stderr",
     "output_type": "stream",
     "text": [
      "videos:  96%|████████████████████████████████████████████████████████████████████████████████████████████████████████▋    | 903/940 [17:14<00:39,  1.08s/it]"
     ]
    },
    {
     "name": "stdout",
     "output_type": "stream",
     "text": [
      "✅ 2289: 0 pairs stored\n"
     ]
    },
    {
     "name": "stderr",
     "output_type": "stream",
     "text": [
      "videos:  96%|████████████████████████████████████████████████████████████████████████████████████████████████████████▊    | 904/940 [17:15<00:35,  1.00it/s]"
     ]
    },
    {
     "name": "stdout",
     "output_type": "stream",
     "text": [
      "✅ 2290: 4 pairs stored\n"
     ]
    },
    {
     "name": "stderr",
     "output_type": "stream",
     "text": [
      "videos:  96%|████████████████████████████████████████████████████████████████████████████████████████████████████████▉    | 905/940 [17:16<00:31,  1.12it/s]"
     ]
    },
    {
     "name": "stdout",
     "output_type": "stream",
     "text": [
      "✅ 2291: 2 pairs stored\n"
     ]
    },
    {
     "name": "stderr",
     "output_type": "stream",
     "text": [
      "videos:  96%|█████████████████████████████████████████████████████████████████████████████████████████████████████████    | 906/940 [17:16<00:28,  1.20it/s]"
     ]
    },
    {
     "name": "stdout",
     "output_type": "stream",
     "text": [
      "✅ 2292: 2 pairs stored\n"
     ]
    },
    {
     "name": "stderr",
     "output_type": "stream",
     "text": [
      "videos:  96%|█████████████████████████████████████████████████████████████████████████████████████████████████████████▏   | 907/940 [17:17<00:25,  1.30it/s]"
     ]
    },
    {
     "name": "stdout",
     "output_type": "stream",
     "text": [
      "✅ 2293: 35 pairs stored\n"
     ]
    },
    {
     "name": "stderr",
     "output_type": "stream",
     "text": [
      "videos:  97%|█████████████████████████████████████████████████████████████████████████████████████████████████████████▎   | 908/940 [17:19<00:34,  1.09s/it]"
     ]
    },
    {
     "name": "stdout",
     "output_type": "stream",
     "text": [
      "✅ 2294: 18 pairs stored\n"
     ]
    },
    {
     "name": "stderr",
     "output_type": "stream",
     "text": [
      "videos:  97%|█████████████████████████████████████████████████████████████████████████████████████████████████████████▍   | 909/940 [17:20<00:34,  1.12s/it]"
     ]
    },
    {
     "name": "stdout",
     "output_type": "stream",
     "text": [
      "✅ 2295: 18 pairs stored\n"
     ]
    },
    {
     "name": "stderr",
     "output_type": "stream",
     "text": [
      "videos:  97%|█████████████████████████████████████████████████████████████████████████████████████████████████████████▌   | 910/940 [17:21<00:34,  1.14s/it]"
     ]
    },
    {
     "name": "stdout",
     "output_type": "stream",
     "text": [
      "✅ 2296: 20 pairs stored\n"
     ]
    },
    {
     "name": "stderr",
     "output_type": "stream",
     "text": [
      "videos:  97%|█████████████████████████████████████████████████████████████████████████████████████████████████████████▋   | 911/940 [17:23<00:36,  1.24s/it]"
     ]
    },
    {
     "name": "stdout",
     "output_type": "stream",
     "text": [
      "✅ 2297: 9 pairs stored\n"
     ]
    },
    {
     "name": "stderr",
     "output_type": "stream",
     "text": [
      "videos:  97%|█████████████████████████████████████████████████████████████████████████████████████████████████████████▊   | 912/940 [17:23<00:29,  1.05s/it]"
     ]
    },
    {
     "name": "stdout",
     "output_type": "stream",
     "text": [
      "✅ 2298: 0 pairs stored\n"
     ]
    },
    {
     "name": "stderr",
     "output_type": "stream",
     "text": [
      "videos:  97%|█████████████████████████████████████████████████████████████████████████████████████████████████████████▊   | 913/940 [17:25<00:31,  1.16s/it]"
     ]
    },
    {
     "name": "stdout",
     "output_type": "stream",
     "text": [
      "✅ 2299: 1 pairs stored\n"
     ]
    },
    {
     "name": "stderr",
     "output_type": "stream",
     "text": [
      "videos:  97%|█████████████████████████████████████████████████████████████████████████████████████████████████████████▉   | 914/940 [17:26<00:29,  1.12s/it]"
     ]
    },
    {
     "name": "stdout",
     "output_type": "stream",
     "text": [
      "✅ 2300: 3 pairs stored\n"
     ]
    },
    {
     "name": "stderr",
     "output_type": "stream",
     "text": [
      "videos:  97%|██████████████████████████████████████████████████████████████████████████████████████████████████████████   | 915/940 [17:27<00:25,  1.01s/it]"
     ]
    },
    {
     "name": "stdout",
     "output_type": "stream",
     "text": [
      "✅ 2301: 0 pairs stored\n"
     ]
    },
    {
     "name": "stderr",
     "output_type": "stream",
     "text": [
      "videos:  97%|██████████████████████████████████████████████████████████████████████████████████████████████████████████▏  | 916/940 [17:28<00:26,  1.11s/it]"
     ]
    },
    {
     "name": "stdout",
     "output_type": "stream",
     "text": [
      "✅ 2302: 14 pairs stored\n"
     ]
    },
    {
     "name": "stderr",
     "output_type": "stream",
     "text": [
      "videos:  98%|██████████████████████████████████████████████████████████████████████████████████████████████████████████▎  | 917/940 [17:29<00:23,  1.04s/it]"
     ]
    },
    {
     "name": "stdout",
     "output_type": "stream",
     "text": [
      "✅ 2303: 19 pairs stored\n"
     ]
    },
    {
     "name": "stderr",
     "output_type": "stream",
     "text": [
      "videos:  98%|██████████████████████████████████████████████████████████████████████████████████████████████████████████▍  | 918/940 [17:30<00:23,  1.07s/it]"
     ]
    },
    {
     "name": "stdout",
     "output_type": "stream",
     "text": [
      "✅ 2304: 14 pairs stored\n"
     ]
    },
    {
     "name": "stderr",
     "output_type": "stream",
     "text": [
      "videos:  98%|██████████████████████████████████████████████████████████████████████████████████████████████████████████▌  | 919/940 [17:31<00:21,  1.03s/it]"
     ]
    },
    {
     "name": "stdout",
     "output_type": "stream",
     "text": [
      "✅ 2305: 11 pairs stored\n"
     ]
    },
    {
     "name": "stderr",
     "output_type": "stream",
     "text": [
      "videos:  98%|██████████████████████████████████████████████████████████████████████████████████████████████████████████▋  | 920/940 [17:32<00:20,  1.01s/it]"
     ]
    },
    {
     "name": "stdout",
     "output_type": "stream",
     "text": [
      "✅ 2306: 21 pairs stored\n"
     ]
    },
    {
     "name": "stderr",
     "output_type": "stream",
     "text": [
      "videos:  98%|██████████████████████████████████████████████████████████████████████████████████████████████████████████▊  | 921/940 [17:33<00:18,  1.03it/s]"
     ]
    },
    {
     "name": "stdout",
     "output_type": "stream",
     "text": [
      "✅ 2307: 25 pairs stored\n"
     ]
    },
    {
     "name": "stderr",
     "output_type": "stream",
     "text": [
      "videos:  98%|██████████████████████████████████████████████████████████████████████████████████████████████████████████▉  | 922/940 [17:34<00:18,  1.01s/it]"
     ]
    },
    {
     "name": "stdout",
     "output_type": "stream",
     "text": [
      "✅ 2308: 19 pairs stored\n"
     ]
    },
    {
     "name": "stderr",
     "output_type": "stream",
     "text": [
      "videos:  98%|███████████████████████████████████████████████████████████████████████████████████████████████████████████  | 923/940 [17:35<00:16,  1.03it/s]"
     ]
    },
    {
     "name": "stdout",
     "output_type": "stream",
     "text": [
      "✅ 2309: 14 pairs stored\n"
     ]
    },
    {
     "name": "stderr",
     "output_type": "stream",
     "text": [
      "videos:  98%|███████████████████████████████████████████████████████████████████████████████████████████████████████████▏ | 924/940 [17:35<00:13,  1.19it/s]"
     ]
    },
    {
     "name": "stdout",
     "output_type": "stream",
     "text": [
      "✅ 2310: 7 pairs stored\n"
     ]
    },
    {
     "name": "stderr",
     "output_type": "stream",
     "text": [
      "videos:  98%|███████████████████████████████████████████████████████████████████████████████████████████████████████████▎ | 925/940 [17:36<00:12,  1.18it/s]"
     ]
    },
    {
     "name": "stdout",
     "output_type": "stream",
     "text": [
      "✅ 2311: 0 pairs stored\n"
     ]
    },
    {
     "name": "stderr",
     "output_type": "stream",
     "text": [
      "videos:  99%|███████████████████████████████████████████████████████████████████████████████████████████████████████████▍ | 926/940 [17:37<00:14,  1.01s/it]"
     ]
    },
    {
     "name": "stdout",
     "output_type": "stream",
     "text": [
      "✅ 2312: 1 pairs stored\n"
     ]
    },
    {
     "name": "stderr",
     "output_type": "stream",
     "text": [
      "videos:  99%|███████████████████████████████████████████████████████████████████████████████████████████████████████████▍ | 927/940 [17:38<00:13,  1.02s/it]"
     ]
    },
    {
     "name": "stdout",
     "output_type": "stream",
     "text": [
      "✅ 2313: 1 pairs stored\n"
     ]
    },
    {
     "name": "stderr",
     "output_type": "stream",
     "text": [
      "videos:  99%|███████████████████████████████████████████████████████████████████████████████████████████████████████████▌ | 928/940 [17:39<00:11,  1.03it/s]"
     ]
    },
    {
     "name": "stdout",
     "output_type": "stream",
     "text": [
      "✅ 2314: 21 pairs stored\n"
     ]
    },
    {
     "name": "stderr",
     "output_type": "stream",
     "text": [
      "videos:  99%|███████████████████████████████████████████████████████████████████████████████████████████████████████████▋ | 929/940 [17:40<00:09,  1.12it/s]"
     ]
    },
    {
     "name": "stdout",
     "output_type": "stream",
     "text": [
      "✅ 2315: 0 pairs stored\n"
     ]
    },
    {
     "name": "stderr",
     "output_type": "stream",
     "text": [
      "videos:  99%|███████████████████████████████████████████████████████████████████████████████████████████████████████████▊ | 930/940 [17:41<00:10,  1.03s/it]"
     ]
    },
    {
     "name": "stdout",
     "output_type": "stream",
     "text": [
      "✅ 2316: 1 pairs stored\n"
     ]
    },
    {
     "name": "stderr",
     "output_type": "stream",
     "text": [
      "videos:  99%|███████████████████████████████████████████████████████████████████████████████████████████████████████████▉ | 931/940 [17:42<00:07,  1.13it/s]"
     ]
    },
    {
     "name": "stdout",
     "output_type": "stream",
     "text": [
      "✅ 2317: 6 pairs stored\n"
     ]
    },
    {
     "name": "stderr",
     "output_type": "stream",
     "text": [
      "videos:  99%|████████████████████████████████████████████████████████████████████████████████████████████████████████████ | 932/940 [17:43<00:07,  1.13it/s]"
     ]
    },
    {
     "name": "stdout",
     "output_type": "stream",
     "text": [
      "✅ 2318: 3 pairs stored\n"
     ]
    },
    {
     "name": "stderr",
     "output_type": "stream",
     "text": [
      "videos:  99%|████████████████████████████████████████████████████████████████████████████████████████████████████████████▏| 933/940 [17:44<00:06,  1.14it/s]"
     ]
    },
    {
     "name": "stdout",
     "output_type": "stream",
     "text": [
      "✅ 2319: 16 pairs stored\n"
     ]
    },
    {
     "name": "stderr",
     "output_type": "stream",
     "text": [
      "videos:  99%|████████████████████████████████████████████████████████████████████████████████████████████████████████████▎| 934/940 [17:44<00:05,  1.20it/s]"
     ]
    },
    {
     "name": "stdout",
     "output_type": "stream",
     "text": [
      "✅ 2320: 16 pairs stored\n"
     ]
    },
    {
     "name": "stderr",
     "output_type": "stream",
     "text": [
      "videos:  99%|████████████████████████████████████████████████████████████████████████████████████████████████████████████▍| 935/940 [17:46<00:05,  1.02s/it]"
     ]
    },
    {
     "name": "stdout",
     "output_type": "stream",
     "text": [
      "✅ 2321: 10 pairs stored\n"
     ]
    },
    {
     "name": "stderr",
     "output_type": "stream",
     "text": [
      "videos: 100%|████████████████████████████████████████████████████████████████████████████████████████████████████████████▌| 936/940 [17:47<00:04,  1.19s/it]"
     ]
    },
    {
     "name": "stdout",
     "output_type": "stream",
     "text": [
      "✅ 2322: 44 pairs stored\n"
     ]
    },
    {
     "name": "stderr",
     "output_type": "stream",
     "text": [
      "videos: 100%|████████████████████████████████████████████████████████████████████████████████████████████████████████████▋| 937/940 [17:48<00:03,  1.06s/it]"
     ]
    },
    {
     "name": "stdout",
     "output_type": "stream",
     "text": [
      "✅ 2323: 7 pairs stored\n"
     ]
    },
    {
     "name": "stderr",
     "output_type": "stream",
     "text": [
      "videos: 100%|████████████████████████████████████████████████████████████████████████████████████████████████████████████▊| 938/940 [17:50<00:02,  1.15s/it]"
     ]
    },
    {
     "name": "stdout",
     "output_type": "stream",
     "text": [
      "✅ 2324: 18 pairs stored\n"
     ]
    },
    {
     "name": "stderr",
     "output_type": "stream",
     "text": [
      "videos: 100%|████████████████████████████████████████████████████████████████████████████████████████████████████████████▉| 939/940 [17:50<00:01,  1.08s/it]"
     ]
    },
    {
     "name": "stdout",
     "output_type": "stream",
     "text": [
      "✅ 2325: 41 pairs stored\n"
     ]
    },
    {
     "name": "stderr",
     "output_type": "stream",
     "text": [
      "videos: 100%|█████████████████████████████████████████████████████████████████████████████████████████████████████████████| 940/940 [17:52<00:00,  1.14s/it]"
     ]
    },
    {
     "name": "stdout",
     "output_type": "stream",
     "text": [
      "✅ 2326: 38 pairs stored\n",
      "🏁 finished: 13712 total pairs\n"
     ]
    },
    {
     "name": "stderr",
     "output_type": "stream",
     "text": [
      "\n"
     ]
    }
   ],
   "source": [
    "\n",
    "\"\"\"Execute **after** Cell 1.\n",
    "Edit the three paths and (optionally) `VIDEO_ID`, then run the cell to start\n",
    "pre‑processing.\n",
    "\"\"\"\n",
    "\n",
    "# --- user‑editable paths ---------------------------------\n",
    "FRAMES_ROOT = Path(\"/home/skalli/COM-304-FM/project/penn_action_raw/Penn_Action/frames\")   \n",
    "LABELS_ROOT = Path(\"/home/skalli/COM-304-FM/project/penn_action_raw/Penn_Action/labels\")  \n",
    "OUTPUT_ROOT = Path(\"/home/skalli/COM-304-FM/project/new/output/train\")    \n",
    "# ---------------------------------------------------------\n",
    "\n",
    "run(\n",
    "    FRAMES_ROOT,\n",
    "    LABELS_ROOT,\n",
    "    OUTPUT_ROOT\n",
    ")"
   ]
  },
  {
   "cell_type": "code",
   "execution_count": 2,
   "id": "1a1a40d8-5635-45c7-87d9-83c559a0e191",
   "metadata": {},
   "outputs": [
    {
     "name": "stdout",
     "output_type": "stream",
     "text": [
      "Found 41964 pairs: 33571 train, 4196 eval, 4197 test\n",
      "✅ Split completed. Original folders now empty (only train/eval/test remain).\n"
     ]
    }
   ],
   "source": [
    "from pathlib import Path\n",
    "import shutil\n",
    "import random\n",
    "\n",
    "def split_output_dataset(\n",
    "    output_root: Path,\n",
    "    train_ratio: float = 0.8,\n",
    "    eval_ratio: float = 0.1,\n",
    "    test_ratio: float = 0.1,\n",
    "    seed: int = 42\n",
    "):\n",
    "    assert abs(train_ratio + eval_ratio + test_ratio - 1.0) < 1e-6, \"Ratios must sum to 1.\"\n",
    "\n",
    "    modalities = [\"tok_rgb\", \"coords\", \"captions\", \"tok_rgb_next\", \"coords_next\"]\n",
    "    random.seed(seed)\n",
    "\n",
    "    # Find all pair IDs from one modality (they should be the same across all)\n",
    "    base_dir = output_root / \"tok_rgb\"\n",
    "    all_ids = [d.name for d in base_dir.iterdir() if d.is_dir() and d.name.isdigit()]\n",
    "    all_ids.sort()\n",
    "    random.shuffle(all_ids)\n",
    "\n",
    "    N = len(all_ids)\n",
    "    n_train = int(N * train_ratio)\n",
    "    n_eval = int(N * eval_ratio)\n",
    "\n",
    "    splits = {\n",
    "        \"train\": all_ids[:n_train],\n",
    "        \"eval\":  all_ids[n_train:n_train + n_eval],\n",
    "        \"test\":  all_ids[n_train + n_eval:]\n",
    "    }\n",
    "\n",
    "    print(f\"Found {N} pairs: {len(splits['train'])} train, {len(splits['eval'])} eval, {len(splits['test'])} test\")\n",
    "\n",
    "    for split_name, split_ids in splits.items():\n",
    "        for pid in split_ids:\n",
    "            for mod in modalities:\n",
    "                src = output_root / mod / pid\n",
    "                dst = output_root / split_name / mod / pid\n",
    "                if src.exists():\n",
    "                    dst.parent.mkdir(parents=True, exist_ok=True)\n",
    "                    shutil.move(str(src), str(dst))\n",
    "\n",
    "    print(\"✅ Split completed. Original folders now empty (only train/eval/test remain).\")\n",
    "\n",
    "# Example usage:\n",
    "split_output_dataset(Path(\"output\"))"
   ]
  }
 ],
 "metadata": {
  "kernelspec": {
   "display_name": "Python 3 (ipykernel)",
   "language": "python",
   "name": "python3"
  },
  "language_info": {
   "codemirror_mode": {
    "name": "ipython",
    "version": 3
   },
   "file_extension": ".py",
   "mimetype": "text/x-python",
   "name": "python",
   "nbconvert_exporter": "python",
   "pygments_lexer": "ipython3",
   "version": "3.9.21"
  }
 },
 "nbformat": 4,
 "nbformat_minor": 5
}
