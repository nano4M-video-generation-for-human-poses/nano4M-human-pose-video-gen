{
 "cells": [
  {
   "cell_type": "code",
   "execution_count": null,
   "id": "fc323430-f423-475a-9c56-11986d74089e",
   "metadata": {},
   "outputs": [
    {
     "name": "stdout",
     "output_type": "stream",
     "text": [
      "Total videos: 2326\n",
      "  test : 348 (15%)\n",
      "  eval : 348 (15%)\n",
      "  train: 1630\n"
     ]
    }
   ],
   "source": [
    "# ------------------------------------------------------------\n",
    "# Split Penn-Action tokens in output/train/ into test / eval\n",
    "# (keeps whole videos together)\n",
    "# ------------------------------------------------------------\n",
    "\n",
    "import random, shutil, sys\n",
    "from pathlib import Path\n",
    "\n",
    "# ---------- user-editable parameters ----------\n",
    "out_root   = Path(\"output\")   # root that already contains train/\n",
    "test_frac  = 0.15             # 15 % of videos → test\n",
    "eval_frac  = 0.15             # 15 % of videos → eval\n",
    "seed       = 42               # make split reproducible\n",
    "move_files = False            # True → move, False → copy\n",
    "# ---------------------------------------------\n",
    "\n",
    "modalities = [\"tok_rgb\", \"tok_pose\", \"coords\", \"captions\"]\n",
    "\n",
    "# 1) list all video IDs present under train/tok_rgb/\n",
    "train_rgb_dir = out_root / \"train\" / \"tok_rgb\"\n",
    "videos = sorted(d.name for d in train_rgb_dir.iterdir() if d.is_dir())\n",
    "if not videos:\n",
    "    raise RuntimeError(\"No videos found in train/tok_rgb/. Check your path.\")\n",
    "\n",
    "# 2) shuffle once with a fixed seed, then slice into splits\n",
    "rng = random.Random(seed)\n",
    "rng.shuffle(videos)\n",
    "\n",
    "n_total = len(videos)\n",
    "n_test  = int(n_total * test_frac)\n",
    "n_eval  = int(n_total * eval_frac)\n",
    "\n",
    "test_videos = set(videos[:n_test])\n",
    "eval_videos = set(videos[n_test:n_test + n_eval])\n",
    "\n",
    "print(f\"Total videos: {n_total}\")\n",
    "print(f\"  test : {len(test_videos)} ({test_frac:.0%})\")\n",
    "print(f\"  eval : {len(eval_videos)} ({eval_frac:.0%})\")\n",
    "print(f\"  train: {n_total - len(test_videos) - len(eval_videos)}\")\n",
    "\n",
    "# 3) make sure destination dirs exist\n",
    "for split in [\"test\", \"eval\"]:\n",
    "    for m in modalities:\n",
    "        (out_root / split / m).mkdir(parents=True, exist_ok=True)\n",
    "\n",
    "# helper\n",
    "def copy_or_move(src: Path, dst: Path):\n",
    "    if move_files:\n",
    "        shutil.move(src, dst)\n",
    "    else:\n",
    "        shutil.copytree(src, dst)\n",
    "\n",
    "# 4) copy / move the directories\n",
    "for vid in videos:\n",
    "    if vid in test_videos:\n",
    "        split = \"test\"\n",
    "    elif vid in eval_videos:\n",
    "        split = \"eval\"\n",
    "    else:\n",
    "        continue  # stays in train\n",
    "\n",
    "    for m in modalities:\n",
    "        src = out_root / \"train\" / m / vid\n",
    "        dst = out_root / split  / m / vid\n",
    "        if dst.exists():        # resume-safe\n",
    "            continue\n",
    "        copy_or_move(src, dst)\n",
    "\n",
    "print(\"✅  Split complete.\")\n",
    "if not move_files:\n",
    "    print(\"Original data were copied; set move_files=True to relocate instead.\")"
   ]
  },
  {
   "cell_type": "code",
   "execution_count": null,
   "id": "698f2736-f3ac-4472-a9b9-2e946ea36c70",
   "metadata": {},
   "outputs": [],
   "source": []
  }
 ],
 "metadata": {
  "kernelspec": {
   "display_name": "Python 3 (ipykernel)",
   "language": "python",
   "name": "python3"
  },
  "language_info": {
   "codemirror_mode": {
    "name": "ipython",
    "version": 3
   },
   "file_extension": ".py",
   "mimetype": "text/x-python",
   "name": "python",
   "nbconvert_exporter": "python",
   "pygments_lexer": "ipython3",
   "version": "3.10.16"
  }
 },
 "nbformat": 4,
 "nbformat_minor": 5
}
